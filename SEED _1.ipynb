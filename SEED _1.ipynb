{
  "cells": [
    {
      "cell_type": "code",
      "execution_count": 1,
      "metadata": {
        "colab": {
          "base_uri": "https://localhost:8080/"
        },
        "id": "G85c0I_dfrel",
        "outputId": "914a2e2e-2c11-410e-e5e9-0dbe6af59ff1"
      },
      "outputs": [
        {
          "name": "stdout",
          "output_type": "stream",
          "text": [
            "Requirement already satisfied: accelerate in /usr/local/lib/python3.10/dist-packages (0.30.1)\n",
            "Requirement already satisfied: numpy>=1.17 in /usr/local/lib/python3.10/dist-packages (from accelerate) (1.25.2)\n",
            "Requirement already satisfied: packaging>=20.0 in /usr/local/lib/python3.10/dist-packages (from accelerate) (24.0)\n",
            "Requirement already satisfied: psutil in /usr/local/lib/python3.10/dist-packages (from accelerate) (5.9.5)\n",
            "Requirement already satisfied: pyyaml in /usr/local/lib/python3.10/dist-packages (from accelerate) (6.0.1)\n",
            "Requirement already satisfied: torch>=1.10.0 in /usr/local/lib/python3.10/dist-packages (from accelerate) (2.2.1+cu121)\n",
            "Requirement already satisfied: huggingface-hub in /usr/local/lib/python3.10/dist-packages (from accelerate) (0.23.0)\n",
            "Requirement already satisfied: safetensors>=0.3.1 in /usr/local/lib/python3.10/dist-packages (from accelerate) (0.4.3)\n",
            "Requirement already satisfied: filelock in /usr/local/lib/python3.10/dist-packages (from torch>=1.10.0->accelerate) (3.14.0)\n",
            "Requirement already satisfied: typing-extensions>=4.8.0 in /usr/local/lib/python3.10/dist-packages (from torch>=1.10.0->accelerate) (4.11.0)\n",
            "Requirement already satisfied: sympy in /usr/local/lib/python3.10/dist-packages (from torch>=1.10.0->accelerate) (1.12)\n",
            "Requirement already satisfied: networkx in /usr/local/lib/python3.10/dist-packages (from torch>=1.10.0->accelerate) (3.3)\n",
            "Requirement already satisfied: jinja2 in /usr/local/lib/python3.10/dist-packages (from torch>=1.10.0->accelerate) (3.1.4)\n",
            "Requirement already satisfied: fsspec in /usr/local/lib/python3.10/dist-packages (from torch>=1.10.0->accelerate) (2023.6.0)\n",
            "Requirement already satisfied: nvidia-cuda-nvrtc-cu12==12.1.105 in /usr/local/lib/python3.10/dist-packages (from torch>=1.10.0->accelerate) (12.1.105)\n",
            "Requirement already satisfied: nvidia-cuda-runtime-cu12==12.1.105 in /usr/local/lib/python3.10/dist-packages (from torch>=1.10.0->accelerate) (12.1.105)\n",
            "Requirement already satisfied: nvidia-cuda-cupti-cu12==12.1.105 in /usr/local/lib/python3.10/dist-packages (from torch>=1.10.0->accelerate) (12.1.105)\n",
            "Requirement already satisfied: nvidia-cudnn-cu12==8.9.2.26 in /usr/local/lib/python3.10/dist-packages (from torch>=1.10.0->accelerate) (8.9.2.26)\n",
            "Requirement already satisfied: nvidia-cublas-cu12==12.1.3.1 in /usr/local/lib/python3.10/dist-packages (from torch>=1.10.0->accelerate) (12.1.3.1)\n",
            "Requirement already satisfied: nvidia-cufft-cu12==11.0.2.54 in /usr/local/lib/python3.10/dist-packages (from torch>=1.10.0->accelerate) (11.0.2.54)\n",
            "Requirement already satisfied: nvidia-curand-cu12==10.3.2.106 in /usr/local/lib/python3.10/dist-packages (from torch>=1.10.0->accelerate) (10.3.2.106)\n",
            "Requirement already satisfied: nvidia-cusolver-cu12==11.4.5.107 in /usr/local/lib/python3.10/dist-packages (from torch>=1.10.0->accelerate) (11.4.5.107)\n",
            "Requirement already satisfied: nvidia-cusparse-cu12==12.1.0.106 in /usr/local/lib/python3.10/dist-packages (from torch>=1.10.0->accelerate) (12.1.0.106)\n",
            "Requirement already satisfied: nvidia-nccl-cu12==2.19.3 in /usr/local/lib/python3.10/dist-packages (from torch>=1.10.0->accelerate) (2.19.3)\n",
            "Requirement already satisfied: nvidia-nvtx-cu12==12.1.105 in /usr/local/lib/python3.10/dist-packages (from torch>=1.10.0->accelerate) (12.1.105)\n",
            "Requirement already satisfied: triton==2.2.0 in /usr/local/lib/python3.10/dist-packages (from torch>=1.10.0->accelerate) (2.2.0)\n",
            "Requirement already satisfied: nvidia-nvjitlink-cu12 in /usr/local/lib/python3.10/dist-packages (from nvidia-cusolver-cu12==11.4.5.107->torch>=1.10.0->accelerate) (12.4.127)\n",
            "Requirement already satisfied: requests in /usr/local/lib/python3.10/dist-packages (from huggingface-hub->accelerate) (2.31.0)\n",
            "Requirement already satisfied: tqdm>=4.42.1 in /usr/local/lib/python3.10/dist-packages (from huggingface-hub->accelerate) (4.66.4)\n",
            "Requirement already satisfied: MarkupSafe>=2.0 in /usr/local/lib/python3.10/dist-packages (from jinja2->torch>=1.10.0->accelerate) (2.1.5)\n",
            "Requirement already satisfied: charset-normalizer<4,>=2 in /usr/local/lib/python3.10/dist-packages (from requests->huggingface-hub->accelerate) (3.3.2)\n",
            "Requirement already satisfied: idna<4,>=2.5 in /usr/local/lib/python3.10/dist-packages (from requests->huggingface-hub->accelerate) (3.7)\n",
            "Requirement already satisfied: urllib3<3,>=1.21.1 in /usr/local/lib/python3.10/dist-packages (from requests->huggingface-hub->accelerate) (2.0.7)\n",
            "Requirement already satisfied: certifi>=2017.4.17 in /usr/local/lib/python3.10/dist-packages (from requests->huggingface-hub->accelerate) (2024.2.2)\n",
            "Requirement already satisfied: mpmath>=0.19 in /usr/local/lib/python3.10/dist-packages (from sympy->torch>=1.10.0->accelerate) (1.3.0)\n",
            "Requirement already satisfied: transformers in /usr/local/lib/python3.10/dist-packages (4.40.2)\n",
            "Requirement already satisfied: filelock in /usr/local/lib/python3.10/dist-packages (from transformers) (3.14.0)\n",
            "Requirement already satisfied: huggingface-hub<1.0,>=0.19.3 in /usr/local/lib/python3.10/dist-packages (from transformers) (0.23.0)\n",
            "Requirement already satisfied: numpy>=1.17 in /usr/local/lib/python3.10/dist-packages (from transformers) (1.25.2)\n",
            "Requirement already satisfied: packaging>=20.0 in /usr/local/lib/python3.10/dist-packages (from transformers) (24.0)\n",
            "Requirement already satisfied: pyyaml>=5.1 in /usr/local/lib/python3.10/dist-packages (from transformers) (6.0.1)\n",
            "Requirement already satisfied: regex!=2019.12.17 in /usr/local/lib/python3.10/dist-packages (from transformers) (2023.12.25)\n",
            "Requirement already satisfied: requests in /usr/local/lib/python3.10/dist-packages (from transformers) (2.31.0)\n",
            "Requirement already satisfied: tokenizers<0.20,>=0.19 in /usr/local/lib/python3.10/dist-packages (from transformers) (0.19.1)\n",
            "Requirement already satisfied: safetensors>=0.4.1 in /usr/local/lib/python3.10/dist-packages (from transformers) (0.4.3)\n",
            "Requirement already satisfied: tqdm>=4.27 in /usr/local/lib/python3.10/dist-packages (from transformers) (4.66.4)\n",
            "Requirement already satisfied: fsspec>=2023.5.0 in /usr/local/lib/python3.10/dist-packages (from huggingface-hub<1.0,>=0.19.3->transformers) (2023.6.0)\n",
            "Requirement already satisfied: typing-extensions>=3.7.4.3 in /usr/local/lib/python3.10/dist-packages (from huggingface-hub<1.0,>=0.19.3->transformers) (4.11.0)\n",
            "Requirement already satisfied: charset-normalizer<4,>=2 in /usr/local/lib/python3.10/dist-packages (from requests->transformers) (3.3.2)\n",
            "Requirement already satisfied: idna<4,>=2.5 in /usr/local/lib/python3.10/dist-packages (from requests->transformers) (3.7)\n",
            "Requirement already satisfied: urllib3<3,>=1.21.1 in /usr/local/lib/python3.10/dist-packages (from requests->transformers) (2.0.7)\n",
            "Requirement already satisfied: certifi>=2017.4.17 in /usr/local/lib/python3.10/dist-packages (from requests->transformers) (2024.2.2)\n",
            "Requirement already satisfied: datasets in /usr/local/lib/python3.10/dist-packages (2.19.1)\n",
            "Requirement already satisfied: filelock in /usr/local/lib/python3.10/dist-packages (from datasets) (3.14.0)\n",
            "Requirement already satisfied: numpy>=1.17 in /usr/local/lib/python3.10/dist-packages (from datasets) (1.25.2)\n",
            "Requirement already satisfied: pyarrow>=12.0.0 in /usr/local/lib/python3.10/dist-packages (from datasets) (14.0.2)\n",
            "Requirement already satisfied: pyarrow-hotfix in /usr/local/lib/python3.10/dist-packages (from datasets) (0.6)\n",
            "Requirement already satisfied: dill<0.3.9,>=0.3.0 in /usr/local/lib/python3.10/dist-packages (from datasets) (0.3.8)\n",
            "Requirement already satisfied: pandas in /usr/local/lib/python3.10/dist-packages (from datasets) (2.0.3)\n",
            "Requirement already satisfied: requests>=2.19.0 in /usr/local/lib/python3.10/dist-packages (from datasets) (2.31.0)\n",
            "Requirement already satisfied: tqdm>=4.62.1 in /usr/local/lib/python3.10/dist-packages (from datasets) (4.66.4)\n",
            "Requirement already satisfied: xxhash in /usr/local/lib/python3.10/dist-packages (from datasets) (3.4.1)\n",
            "Requirement already satisfied: multiprocess in /usr/local/lib/python3.10/dist-packages (from datasets) (0.70.16)\n",
            "Requirement already satisfied: fsspec[http]<=2024.3.1,>=2023.1.0 in /usr/local/lib/python3.10/dist-packages (from datasets) (2023.6.0)\n",
            "Requirement already satisfied: aiohttp in /usr/local/lib/python3.10/dist-packages (from datasets) (3.9.5)\n",
            "Requirement already satisfied: huggingface-hub>=0.21.2 in /usr/local/lib/python3.10/dist-packages (from datasets) (0.23.0)\n",
            "Requirement already satisfied: packaging in /usr/local/lib/python3.10/dist-packages (from datasets) (24.0)\n",
            "Requirement already satisfied: pyyaml>=5.1 in /usr/local/lib/python3.10/dist-packages (from datasets) (6.0.1)\n",
            "Requirement already satisfied: aiosignal>=1.1.2 in /usr/local/lib/python3.10/dist-packages (from aiohttp->datasets) (1.3.1)\n",
            "Requirement already satisfied: attrs>=17.3.0 in /usr/local/lib/python3.10/dist-packages (from aiohttp->datasets) (23.2.0)\n",
            "Requirement already satisfied: frozenlist>=1.1.1 in /usr/local/lib/python3.10/dist-packages (from aiohttp->datasets) (1.4.1)\n",
            "Requirement already satisfied: multidict<7.0,>=4.5 in /usr/local/lib/python3.10/dist-packages (from aiohttp->datasets) (6.0.5)\n",
            "Requirement already satisfied: yarl<2.0,>=1.0 in /usr/local/lib/python3.10/dist-packages (from aiohttp->datasets) (1.9.4)\n",
            "Requirement already satisfied: async-timeout<5.0,>=4.0 in /usr/local/lib/python3.10/dist-packages (from aiohttp->datasets) (4.0.3)\n",
            "Requirement already satisfied: typing-extensions>=3.7.4.3 in /usr/local/lib/python3.10/dist-packages (from huggingface-hub>=0.21.2->datasets) (4.11.0)\n",
            "Requirement already satisfied: charset-normalizer<4,>=2 in /usr/local/lib/python3.10/dist-packages (from requests>=2.19.0->datasets) (3.3.2)\n",
            "Requirement already satisfied: idna<4,>=2.5 in /usr/local/lib/python3.10/dist-packages (from requests>=2.19.0->datasets) (3.7)\n",
            "Requirement already satisfied: urllib3<3,>=1.21.1 in /usr/local/lib/python3.10/dist-packages (from requests>=2.19.0->datasets) (2.0.7)\n",
            "Requirement already satisfied: certifi>=2017.4.17 in /usr/local/lib/python3.10/dist-packages (from requests>=2.19.0->datasets) (2024.2.2)\n",
            "Requirement already satisfied: python-dateutil>=2.8.2 in /usr/local/lib/python3.10/dist-packages (from pandas->datasets) (2.8.2)\n",
            "Requirement already satisfied: pytz>=2020.1 in /usr/local/lib/python3.10/dist-packages (from pandas->datasets) (2023.4)\n",
            "Requirement already satisfied: tzdata>=2022.1 in /usr/local/lib/python3.10/dist-packages (from pandas->datasets) (2024.1)\n",
            "Requirement already satisfied: six>=1.5 in /usr/local/lib/python3.10/dist-packages (from python-dateutil>=2.8.2->pandas->datasets) (1.16.0)\n",
            "Requirement already satisfied: torcheval in /usr/local/lib/python3.10/dist-packages (0.0.7)\n",
            "Requirement already satisfied: typing-extensions in /usr/local/lib/python3.10/dist-packages (from torcheval) (4.11.0)\n"
          ]
        }
      ],
      "source": [
        "%%bash\n",
        "[[ -z \"$COLAB_RELEASE_TAG\" ]] && exit\n",
        "\n",
        "pip install -U accelerate\n",
        "pip install -U transformers\n",
        "pip install datasets\n",
        "pip install torcheval"
      ]
    },
    {
      "cell_type": "markdown",
      "metadata": {
        "id": "hQauKapN_A-k"
      },
      "source": [
        "the previous cell is executed only in colab"
      ]
    },
    {
      "cell_type": "code",
      "execution_count": 1,
      "metadata": {
        "id": "6G3uzz2PGsS7"
      },
      "outputs": [],
      "source": [
        "import os\n",
        "\n",
        "# Enabling deterministic behavior using PyTorch with CUDA >= 10.2\n",
        "os.environ[\"CUBLAS_WORKSPACE_CONFIG\"] = \":16:8\""
      ]
    },
    {
      "cell_type": "code",
      "execution_count": 2,
      "metadata": {
        "id": "3zsiwgDday5H"
      },
      "outputs": [],
      "source": [
        "import numpy as np\n",
        "import pandas as pd\n",
        "from sklearn.model_selection import train_test_split\n",
        "from sklearn.dummy import DummyClassifier\n",
        "from sklearn.metrics import f1_score, confusion_matrix\n",
        "from pathlib import Path\n",
        "import torch\n",
        "from transformers import (\n",
        "    BertTokenizer,\n",
        "    BertModel,\n",
        "    Trainer,\n",
        "    TrainingArguments,\n",
        ")\n",
        "\n",
        "import tqdm.notebook as tq\n",
        "from datasets import Dataset\n",
        "from typing import Tuple, Union\n",
        "import matplotlib.pyplot as plt\n",
        "import random"
      ]
    },
    {
      "cell_type": "code",
      "execution_count": 3,
      "metadata": {
        "id": "Hkl3MAJNay5K"
      },
      "outputs": [],
      "source": [
        "from torch import cuda\n",
        "\n",
        "device = \"cuda\" if cuda.is_available() else \"cpu\""
      ]
    },
    {
      "cell_type": "code",
      "execution_count": 4,
      "metadata": {
        "id": "Mds8cOo0GsS8"
      },
      "outputs": [],
      "source": [
        "# Setting seed for reproducibility\n",
        "seed_value = 1111\n",
        "# seed_value = 2222\n",
        "# seed_value = 3333\n",
        "# seed_value = 4444\n",
        "# seed_value = 5555\n",
        "\n",
        "torch.manual_seed(seed_value)\n",
        "torch.cuda.manual_seed(seed_value)\n",
        "torch.cuda.manual_seed_all(seed_value)  # multi-GPU\n",
        "torch.backends.cudnn.deterministic = True\n",
        "torch.backends.cudnn.benchmark = False\n",
        "random.seed(seed_value)\n",
        "gen = torch.Generator()\n",
        "gen.manual_seed(seed_value)\n",
        "torch.use_deterministic_algorithms(True)\n",
        "np.random.seed(seed_value)"
      ]
    },
    {
      "cell_type": "markdown",
      "metadata": {
        "id": "JGPHLj_l_A-n"
      },
      "source": [
        "## Corpus"
      ]
    },
    {
      "cell_type": "code",
      "execution_count": 5,
      "metadata": {
        "colab": {
          "base_uri": "https://localhost:8080/"
        },
        "id": "xoIQQ-f8SCx-",
        "outputId": "5dd76778-1587-4adb-d630-a59e2c796e91"
      },
      "outputs": [],
      "source": [
        "### The data is in the root of the GDrive storage if running colab or in the same folder if running locally\n",
        "try:\n",
        "    from google.colab import drive\n",
        "\n",
        "    drive.mount(\"/content/drive\")\n",
        "    data_path = Path(\"/content/drive/MyDrive/MELD_train_efr.json\")\n",
        "except:\n",
        "    data_path = Path(\"data/MELD_train_efr.json\")"
      ]
    },
    {
      "cell_type": "code",
      "execution_count": 6,
      "metadata": {
        "id": "0PDr_k7zay5M"
      },
      "outputs": [],
      "source": [
        "### Load corpus\n",
        "\n",
        "assert data_path.exists(), \"Data file is not present\"\n",
        "raw_df = pd.read_json(data_path, dtype={\"speakers\": np.array})\n",
        "# , \"triggers\": np.array})\n",
        "EPISODE, SPEAKERS, EMOTIONS, UTTERANCES, TRIGGERS = raw_df.columns"
      ]
    },
    {
      "cell_type": "markdown",
      "metadata": {
        "id": "SrM0XGw7ay5N"
      },
      "source": [
        "#### Data exploration"
      ]
    },
    {
      "cell_type": "code",
      "execution_count": 7,
      "metadata": {
        "colab": {
          "base_uri": "https://localhost:8080/",
          "height": 449
        },
        "id": "Zj6YC-LYay5N",
        "outputId": "b7eddd96-92ce-468f-a5d3-0091d66ece11"
      },
      "outputs": [
        {
          "data": {
            "text/html": [
              "<div>\n",
              "<style scoped>\n",
              "    .dataframe tbody tr th:only-of-type {\n",
              "        vertical-align: middle;\n",
              "    }\n",
              "\n",
              "    .dataframe tbody tr th {\n",
              "        vertical-align: top;\n",
              "    }\n",
              "\n",
              "    .dataframe thead th {\n",
              "        text-align: right;\n",
              "    }\n",
              "</style>\n",
              "<table border=\"1\" class=\"dataframe\">\n",
              "  <thead>\n",
              "    <tr style=\"text-align: right;\">\n",
              "      <th></th>\n",
              "      <th>episode</th>\n",
              "      <th>speakers</th>\n",
              "      <th>emotions</th>\n",
              "      <th>utterances</th>\n",
              "      <th>triggers</th>\n",
              "    </tr>\n",
              "  </thead>\n",
              "  <tbody>\n",
              "    <tr>\n",
              "      <th>0</th>\n",
              "      <td>utterance_0</td>\n",
              "      <td>[Chandler, The Interviewer, Chandler, The Inte...</td>\n",
              "      <td>[neutral, neutral, neutral, neutral, surprise]</td>\n",
              "      <td>[also I was the point person on my company's t...</td>\n",
              "      <td>[0.0, 0.0, 0.0, 1.0, 0.0]</td>\n",
              "    </tr>\n",
              "    <tr>\n",
              "      <th>1</th>\n",
              "      <td>utterance_1</td>\n",
              "      <td>[Chandler, The Interviewer, Chandler, The Inte...</td>\n",
              "      <td>[neutral, neutral, neutral, neutral, surprise,...</td>\n",
              "      <td>[also I was the point person on my company's t...</td>\n",
              "      <td>[0.0, 0.0, 0.0, 0.0, 0.0, 1.0, 0.0]</td>\n",
              "    </tr>\n",
              "    <tr>\n",
              "      <th>2</th>\n",
              "      <td>utterance_2</td>\n",
              "      <td>[Chandler, The Interviewer, Chandler, The Inte...</td>\n",
              "      <td>[neutral, neutral, neutral, neutral, surprise,...</td>\n",
              "      <td>[also I was the point person on my company's t...</td>\n",
              "      <td>[0.0, 0.0, 0.0, 0.0, 0.0, 0.0, 0.0, 1.0, 0.0, ...</td>\n",
              "    </tr>\n",
              "    <tr>\n",
              "      <th>3</th>\n",
              "      <td>utterance_3</td>\n",
              "      <td>[Chandler, The Interviewer, Chandler, The Inte...</td>\n",
              "      <td>[neutral, neutral, neutral, neutral, surprise,...</td>\n",
              "      <td>[also I was the point person on my company's t...</td>\n",
              "      <td>[0.0, 0.0, 0.0, 0.0, 0.0, 0.0, 0.0, 0.0, 0.0, ...</td>\n",
              "    </tr>\n",
              "    <tr>\n",
              "      <th>4</th>\n",
              "      <td>utterance_4</td>\n",
              "      <td>[Joey, Rachel, Joey, Rachel]</td>\n",
              "      <td>[surprise, sadness, surprise, fear]</td>\n",
              "      <td>[But then who? The waitress I went out with la...</td>\n",
              "      <td>[0.0, 0.0, 1.0, 0.0]</td>\n",
              "    </tr>\n",
              "  </tbody>\n",
              "</table>\n",
              "</div>"
            ],
            "text/plain": [
              "       episode                                           speakers  \\\n",
              "0  utterance_0  [Chandler, The Interviewer, Chandler, The Inte...   \n",
              "1  utterance_1  [Chandler, The Interviewer, Chandler, The Inte...   \n",
              "2  utterance_2  [Chandler, The Interviewer, Chandler, The Inte...   \n",
              "3  utterance_3  [Chandler, The Interviewer, Chandler, The Inte...   \n",
              "4  utterance_4                       [Joey, Rachel, Joey, Rachel]   \n",
              "\n",
              "                                            emotions  \\\n",
              "0     [neutral, neutral, neutral, neutral, surprise]   \n",
              "1  [neutral, neutral, neutral, neutral, surprise,...   \n",
              "2  [neutral, neutral, neutral, neutral, surprise,...   \n",
              "3  [neutral, neutral, neutral, neutral, surprise,...   \n",
              "4                [surprise, sadness, surprise, fear]   \n",
              "\n",
              "                                          utterances  \\\n",
              "0  [also I was the point person on my company's t...   \n",
              "1  [also I was the point person on my company's t...   \n",
              "2  [also I was the point person on my company's t...   \n",
              "3  [also I was the point person on my company's t...   \n",
              "4  [But then who? The waitress I went out with la...   \n",
              "\n",
              "                                            triggers  \n",
              "0                          [0.0, 0.0, 0.0, 1.0, 0.0]  \n",
              "1                [0.0, 0.0, 0.0, 0.0, 0.0, 1.0, 0.0]  \n",
              "2  [0.0, 0.0, 0.0, 0.0, 0.0, 0.0, 0.0, 1.0, 0.0, ...  \n",
              "3  [0.0, 0.0, 0.0, 0.0, 0.0, 0.0, 0.0, 0.0, 0.0, ...  \n",
              "4                               [0.0, 0.0, 1.0, 0.0]  "
            ]
          },
          "execution_count": 7,
          "metadata": {},
          "output_type": "execute_result"
        }
      ],
      "source": [
        "raw_df.head()"
      ]
    },
    {
      "cell_type": "code",
      "execution_count": 8,
      "metadata": {
        "colab": {
          "base_uri": "https://localhost:8080/",
          "height": 209
        },
        "id": "cF83yTf2ay5O",
        "outputId": "54d53a32-3777-46f7-d966-d6724ccd08c1"
      },
      "outputs": [
        {
          "data": {
            "text/html": [
              "<div>\n",
              "<style scoped>\n",
              "    .dataframe tbody tr th:only-of-type {\n",
              "        vertical-align: middle;\n",
              "    }\n",
              "\n",
              "    .dataframe tbody tr th {\n",
              "        vertical-align: top;\n",
              "    }\n",
              "\n",
              "    .dataframe thead th {\n",
              "        text-align: right;\n",
              "    }\n",
              "</style>\n",
              "<table border=\"1\" class=\"dataframe\">\n",
              "  <thead>\n",
              "    <tr style=\"text-align: right;\">\n",
              "      <th></th>\n",
              "      <th>episode</th>\n",
              "      <th>speakers</th>\n",
              "      <th>emotions</th>\n",
              "      <th>utterances</th>\n",
              "      <th>triggers</th>\n",
              "    </tr>\n",
              "  </thead>\n",
              "  <tbody>\n",
              "    <tr>\n",
              "      <th>count</th>\n",
              "      <td>4000</td>\n",
              "      <td>4000</td>\n",
              "      <td>4000</td>\n",
              "      <td>4000</td>\n",
              "      <td>4000</td>\n",
              "    </tr>\n",
              "    <tr>\n",
              "      <th>unique</th>\n",
              "      <td>4000</td>\n",
              "      <td>3350</td>\n",
              "      <td>3427</td>\n",
              "      <td>3998</td>\n",
              "      <td>523</td>\n",
              "    </tr>\n",
              "    <tr>\n",
              "      <th>top</th>\n",
              "      <td>utterance_0</td>\n",
              "      <td>[Monica, Chandler, Monica]</td>\n",
              "      <td>[neutral, neutral, joy]</td>\n",
              "      <td>[Happy?! Is that what I'm supposed to be Vic? ...</td>\n",
              "      <td>[0.0, 1.0, 0.0]</td>\n",
              "    </tr>\n",
              "    <tr>\n",
              "      <th>freq</th>\n",
              "      <td>1</td>\n",
              "      <td>15</td>\n",
              "      <td>30</td>\n",
              "      <td>2</td>\n",
              "      <td>191</td>\n",
              "    </tr>\n",
              "  </tbody>\n",
              "</table>\n",
              "</div>"
            ],
            "text/plain": [
              "            episode                    speakers                 emotions  \\\n",
              "count          4000                        4000                     4000   \n",
              "unique         4000                        3350                     3427   \n",
              "top     utterance_0  [Monica, Chandler, Monica]  [neutral, neutral, joy]   \n",
              "freq              1                          15                       30   \n",
              "\n",
              "                                               utterances         triggers  \n",
              "count                                                4000             4000  \n",
              "unique                                               3998              523  \n",
              "top     [Happy?! Is that what I'm supposed to be Vic? ...  [0.0, 1.0, 0.0]  \n",
              "freq                                                    2              191  "
            ]
          },
          "execution_count": 8,
          "metadata": {},
          "output_type": "execute_result"
        }
      ],
      "source": [
        "raw_df.describe()"
      ]
    },
    {
      "cell_type": "code",
      "execution_count": 9,
      "metadata": {
        "colab": {
          "base_uri": "https://localhost:8080/"
        },
        "id": "WhOaBCgmay5O",
        "outputId": "833aada4-e2bf-4587-dc29-29732de53948"
      },
      "outputs": [
        {
          "name": "stdout",
          "output_type": "stream",
          "text": [
            "Number of groups: 832\n",
            "Avg group len: 4.8\n",
            "Longest group: 16\n",
            "Episodes not in a group: 128\n"
          ]
        }
      ],
      "source": [
        "### Look for how many groups of episodes with the same first utterance there are and their lenghts\n",
        "\n",
        "raw_df.sort_values(by=UTTERANCES, inplace=True)\n",
        "groups = np.zeros((850,), dtype=int)\n",
        "\n",
        "index = 0\n",
        "count = 1\n",
        "for i in range(1, len(raw_df[UTTERANCES])):\n",
        "    if raw_df[UTTERANCES][i][0] == raw_df[UTTERANCES][i - 1][0]:\n",
        "        ### still in the same group\n",
        "        count += 1\n",
        "    else:\n",
        "        ### found new group\n",
        "        groups[index] = count\n",
        "        index += 1\n",
        "        count = 1\n",
        "\n",
        "groups = groups[groups != 0]\n",
        "\n",
        "print(f\"Number of groups: {len(groups)}\")\n",
        "print(f\"Avg group len: {np.average(groups):.1f}\")\n",
        "print(f\"Longest group: {np.max(groups)}\")\n",
        "print(f\"Episodes not in a group: {groups[groups == 1].shape[0]}\")"
      ]
    },
    {
      "cell_type": "code",
      "execution_count": 10,
      "metadata": {
        "colab": {
          "base_uri": "https://localhost:8080/"
        },
        "id": "S2WnNM71ay5O",
        "outputId": "41217e85-a573-4c8b-8133-97725fab2b23"
      },
      "outputs": [
        {
          "name": "stdout",
          "output_type": "stream",
          "text": [
            "Distribution of number of speakers:\n",
            "1 speakers:  214\n",
            "2 speakers:  2105\n",
            "3 speakers:  1030\n",
            "4 speakers:  405\n",
            "5 speakers:  161\n",
            "6 speakers:  74\n",
            "7 speakers:  10\n",
            "8 speakers:  1\n"
          ]
        }
      ],
      "source": [
        "### Count how many speakers there are in each episode\n",
        "\n",
        "speakers_count = raw_df[SPEAKERS].apply(lambda arr: np.unique(arr).shape[0]).to_numpy()\n",
        "min_sp = np.min(speakers_count)\n",
        "max_sp = np.max(speakers_count)\n",
        "print(\"Distribution of number of speakers:\")\n",
        "for count in range(min_sp, max_sp + 1):\n",
        "    print(f\"{count} speakers:  {np.sum(speakers_count == count)}\")"
      ]
    },
    {
      "cell_type": "code",
      "execution_count": 11,
      "metadata": {
        "colab": {
          "base_uri": "https://localhost:8080/"
        },
        "id": "s-xkU5zLay5P",
        "outputId": "81b2b01e-15ec-4c3c-a92a-f48cf1e9b18c"
      },
      "outputs": [
        {
          "name": "stdout",
          "output_type": "stream",
          "text": [
            "Classes values:\n",
            "{'neutral': 15263, 'joy': 6317, 'surprise': 4645, 'anger': 3964, 'sadness': 2648, 'fear': 1114, 'disgust': 1049}\n"
          ]
        }
      ],
      "source": [
        "### Class imbalance check\n",
        "classes_count = {}\n",
        "for emotions in raw_df[\"emotions\"]:\n",
        "    for emotion in emotions:\n",
        "        if emotion in classes_count:\n",
        "            classes_count[emotion] += 1\n",
        "        else:\n",
        "            classes_count[emotion] = 1\n",
        "\n",
        "### then we sort the dictionary by occurences\n",
        "emotions_dict = {\n",
        "    k: v\n",
        "    for k, v in sorted(classes_count.items(), key=lambda item: item[1], reverse=True)\n",
        "}\n",
        "print(\"Classes values:\")\n",
        "print(emotions_dict)\n",
        "\n",
        "### Classes counts are not balanced: the use of weights is recommended"
      ]
    },
    {
      "cell_type": "code",
      "execution_count": 12,
      "metadata": {
        "colab": {
          "base_uri": "https://localhost:8080/"
        },
        "id": "tqodWQKgGsS-",
        "outputId": "b7336f2b-71cb-4d3e-b42f-b19100299d52"
      },
      "outputs": [
        {
          "name": "stdout",
          "output_type": "stream",
          "text": [
            "Triggers values:\n",
            "{0.0: 29416, 1.0: 5575, None: 9}\n"
          ]
        }
      ],
      "source": [
        "# Trigger imbalance check\n",
        "classes_count = {}\n",
        "for triggers in raw_df[\"triggers\"]:\n",
        "    for trigger in triggers:\n",
        "        if trigger in classes_count:\n",
        "            classes_count[trigger] += 1\n",
        "        else:\n",
        "            classes_count[trigger] = 1\n",
        "\n",
        "# then we sort the dictionary by occurences\n",
        "triggers_dict = {\n",
        "    k: v\n",
        "    for k, v in sorted(classes_count.items(), key=lambda item: item[1], reverse=True)\n",
        "}\n",
        "print(\"Triggers values:\")\n",
        "print(triggers_dict)"
      ]
    },
    {
      "cell_type": "code",
      "execution_count": 13,
      "metadata": {
        "colab": {
          "base_uri": "https://localhost:8080/",
          "height": 507
        },
        "id": "X7kPvG1mGsS-",
        "outputId": "c69db7df-7cb8-4a98-ea8f-0760a7213d24"
      },
      "outputs": [
        {
          "data": {
            "image/png": "[encoded data removed]",
            "text/plain": [
              "<Figure size 640x480 with 1 Axes>"
            ]
          },
          "metadata": {},
          "output_type": "display_data"
        }
      ],
      "source": [
        "# plot emotions distribution\n",
        "fig, ax = plt.subplots()\n",
        "ax.bar(emotions_dict.keys(), emotions_dict.values())\n",
        "ax.set_ylabel(\"Count\")\n",
        "ax.set_xlabel(\"Emotion\")\n",
        "ax.set_title(\"Emotion distribution\")\n",
        "plt.xticks(rotation=45)\n",
        "plt.show()"
      ]
    },
    {
      "cell_type": "markdown",
      "metadata": {
        "id": "-Mu98zcLay5Q"
      },
      "source": [
        "#### Data cleanup"
      ]
    },
    {
      "cell_type": "code",
      "execution_count": 14,
      "metadata": {
        "id": "rapPklVSay5R"
      },
      "outputs": [],
      "source": [
        "### Drop not useful column\n",
        "\n",
        "raw_df.drop(columns=[SPEAKERS], inplace=True)"
      ]
    },
    {
      "cell_type": "code",
      "execution_count": 15,
      "metadata": {
        "id": "yICEGx_4ay5R"
      },
      "outputs": [],
      "source": [
        "### Remove Nones from the triggers\n",
        "\n",
        "raw_df[TRIGGERS] = raw_df[TRIGGERS].apply(\n",
        "    lambda trig_seq: np.array([0.0 if t is None else t for t in trig_seq])\n",
        ")"
      ]
    },
    {
      "cell_type": "code",
      "execution_count": 16,
      "metadata": {
        "colab": {
          "base_uri": "https://localhost:8080/",
          "height": 379
        },
        "id": "0DGMbo39ay5S",
        "outputId": "f9a8f865-61c6-4122-b483-f373ec951c11"
      },
      "outputs": [
        {
          "data": {
            "text/html": [
              "<div>\n",
              "<style scoped>\n",
              "    .dataframe tbody tr th:only-of-type {\n",
              "        vertical-align: middle;\n",
              "    }\n",
              "\n",
              "    .dataframe tbody tr th {\n",
              "        vertical-align: top;\n",
              "    }\n",
              "\n",
              "    .dataframe thead th {\n",
              "        text-align: right;\n",
              "    }\n",
              "</style>\n",
              "<table border=\"1\" class=\"dataframe\">\n",
              "  <thead>\n",
              "    <tr style=\"text-align: right;\">\n",
              "      <th></th>\n",
              "      <th>episode</th>\n",
              "      <th>emotions</th>\n",
              "      <th>utterances</th>\n",
              "      <th>triggers</th>\n",
              "    </tr>\n",
              "  </thead>\n",
              "  <tbody>\n",
              "    <tr>\n",
              "      <th>1061</th>\n",
              "      <td>episode_1061</td>\n",
              "      <td>[joy, neutral, surprise]</td>\n",
              "      <td>[\"Happy birthday to you!\", You're paying for t...</td>\n",
              "      <td>[0.0, 1.0, 0.0]</td>\n",
              "    </tr>\n",
              "    <tr>\n",
              "      <th>1062</th>\n",
              "      <td>episode_1062</td>\n",
              "      <td>[joy, neutral, surprise, surprise]</td>\n",
              "      <td>[\"Happy birthday to you!\", You're paying for t...</td>\n",
              "      <td>[0.0, 0.0, 1.0, 0.0]</td>\n",
              "    </tr>\n",
              "    <tr>\n",
              "      <th>1063</th>\n",
              "      <td>episode_1063</td>\n",
              "      <td>[joy, neutral, surprise, surprise, neutral]</td>\n",
              "      <td>[\"Happy birthday to you!\", You're paying for t...</td>\n",
              "      <td>[0.0, 0.0, 0.0, 1.0, 0.0]</td>\n",
              "    </tr>\n",
              "    <tr>\n",
              "      <th>1064</th>\n",
              "      <td>episode_1064</td>\n",
              "      <td>[joy, neutral, surprise, surprise, neutral, ne...</td>\n",
              "      <td>[\"Happy birthday to you!\", You're paying for t...</td>\n",
              "      <td>[0.0, 0.0, 0.0, 0.0, 1.0, 0.0]</td>\n",
              "    </tr>\n",
              "    <tr>\n",
              "      <th>1065</th>\n",
              "      <td>episode_1065</td>\n",
              "      <td>[joy, neutral, surprise, surprise, neutral, ne...</td>\n",
              "      <td>[\"Happy birthday to you!\", You're paying for t...</td>\n",
              "      <td>[0.0, 0.0, 0.0, 0.0, 0.0, 1.0, 0.0]</td>\n",
              "    </tr>\n",
              "  </tbody>\n",
              "</table>\n",
              "</div>"
            ],
            "text/plain": [
              "           episode                                           emotions  \\\n",
              "1061  episode_1061                           [joy, neutral, surprise]   \n",
              "1062  episode_1062                 [joy, neutral, surprise, surprise]   \n",
              "1063  episode_1063        [joy, neutral, surprise, surprise, neutral]   \n",
              "1064  episode_1064  [joy, neutral, surprise, surprise, neutral, ne...   \n",
              "1065  episode_1065  [joy, neutral, surprise, surprise, neutral, ne...   \n",
              "\n",
              "                                             utterances  \\\n",
              "1061  [\"Happy birthday to you!\", You're paying for t...   \n",
              "1062  [\"Happy birthday to you!\", You're paying for t...   \n",
              "1063  [\"Happy birthday to you!\", You're paying for t...   \n",
              "1064  [\"Happy birthday to you!\", You're paying for t...   \n",
              "1065  [\"Happy birthday to you!\", You're paying for t...   \n",
              "\n",
              "                                 triggers  \n",
              "1061                      [0.0, 1.0, 0.0]  \n",
              "1062                 [0.0, 0.0, 1.0, 0.0]  \n",
              "1063            [0.0, 0.0, 0.0, 1.0, 0.0]  \n",
              "1064       [0.0, 0.0, 0.0, 0.0, 1.0, 0.0]  \n",
              "1065  [0.0, 0.0, 0.0, 0.0, 0.0, 1.0, 0.0]  "
            ]
          },
          "execution_count": 16,
          "metadata": {},
          "output_type": "execute_result"
        }
      ],
      "source": [
        "### Change column \"episode\" from utterance_xyz to episode_xyz\n",
        "for i in range(len(raw_df)):\n",
        "    raw_df[EPISODE][i] = f\"episode_{raw_df[EPISODE][i][10:]}\"\n",
        "\n",
        "clean_df = raw_df\n",
        "clean_df.head()"
      ]
    },
    {
      "cell_type": "markdown",
      "metadata": {
        "id": "m8jHrTTyay5S"
      },
      "source": [
        "### Data preprocessing:"
      ]
    },
    {
      "cell_type": "markdown",
      "metadata": {
        "id": "oMdYcBJAay5S"
      },
      "source": [
        "\n",
        "If an episode contains the same utterances of the previous and a few more then the triggers from the previous episode are replicated in the current episode"
      ]
    },
    {
      "cell_type": "code",
      "execution_count": 17,
      "metadata": {
        "colab": {
          "base_uri": "https://localhost:8080/"
        },
        "id": "mPGeMQ3Way5S",
        "outputId": "4aa63abb-4fb8-4840-ac6b-bad33bd9bb29"
      },
      "outputs": [
        {
          "name": "stdout",
          "output_type": "stream",
          "text": [
            "[0. 0. 0. 1. 0.]\n",
            "[0. 0. 0. 0. 0. 1. 0.]\n",
            "[0. 0. 0. 0. 0. 0. 0. 1. 0. 1. 0.]\n",
            "[0. 0. 0. 0. 0. 0. 0. 0. 0. 0. 0. 1. 0.]\n",
            "[0. 0. 1. 0.]\n",
            "[0. 0. 0. 1. 0.]\n",
            "[0. 0. 0. 0. 1. 1. 0.]\n",
            "[0. 1. 0.]\n",
            "[0. 0. 0. 1.]\n",
            "[0. 0. 0. 1. 0.]\n"
          ]
        }
      ],
      "source": [
        "for i in range(10):\n",
        "    print(f\"{raw_df[TRIGGERS][i]}\")"
      ]
    },
    {
      "cell_type": "code",
      "execution_count": 18,
      "metadata": {
        "colab": {
          "base_uri": "https://localhost:8080/"
        },
        "id": "Wsvy-l1Qay5T",
        "outputId": "3fd4c934-f991-4ecb-b3aa-a5a2c4140ef5"
      },
      "outputs": [
        {
          "name": "stdout",
          "output_type": "stream",
          "text": [
            "[0. 0. 0. 1. 0.]\n",
            "[0. 0. 0. 0. 0. 1. 0.]\n",
            "[0. 0. 0. 0. 0. 0. 0. 1. 0. 1. 0.]\n",
            "[0. 0. 0. 0. 0. 0. 0. 0. 0. 0. 0. 1. 0.]\n",
            "[0. 0. 1. 0.]\n",
            "[0. 0. 0. 1. 0.]\n",
            "[0. 0. 0. 0. 1. 1. 0.]\n",
            "[0. 1. 0.]\n",
            "[0. 0. 0. 1.]\n",
            "[0. 0. 0. 1. 0.]\n"
          ]
        }
      ],
      "source": [
        "for i in range(10):\n",
        "    print(f\"{raw_df[TRIGGERS][i]}\")"
      ]
    },
    {
      "cell_type": "code",
      "execution_count": 19,
      "metadata": {
        "colab": {
          "base_uri": "https://localhost:8080/"
        },
        "id": "4dgaH9EkGsS-",
        "outputId": "0b7ed701-6d0e-4c48-947b-b0d192f2314f"
      },
      "outputs": [
        {
          "name": "stdout",
          "output_type": "stream",
          "text": [
            "[0. 0. 0. 1. 0.]\n",
            "[0. 0. 0. 1. 0. 1. 0.]\n",
            "[0. 0. 0. 1. 0. 1. 0. 1. 0. 1. 0.]\n",
            "[0. 0. 0. 1. 0. 1. 0. 1. 0. 1. 0. 1. 0.]\n",
            "[0. 0. 1. 0.]\n",
            "[0. 0. 1. 0. 0.]\n",
            "[0. 0. 1. 0. 0. 1. 0.]\n",
            "[0. 1. 0.]\n",
            "[0. 1. 0. 1.]\n",
            "[0. 1. 0. 1. 0.]\n"
          ]
        }
      ],
      "source": [
        "# Replicate triggers\n",
        "replicate_triggers = True\n",
        "\n",
        "if replicate_triggers:\n",
        "    count = 0\n",
        "    for i in range(1, len(clean_df)):\n",
        "        is_continuation = np.all(\n",
        "            [u in clean_df[UTTERANCES][i] for u in clean_df[UTTERANCES][i - 1]]\n",
        "        )\n",
        "        if is_continuation:\n",
        "            count += 1\n",
        "            for k, t in enumerate(clean_df[TRIGGERS][i - 1]):\n",
        "                clean_df[TRIGGERS][i][k] = t\n",
        "\n",
        "    for i in range(10):\n",
        "        print(f\"{raw_df[TRIGGERS][i]}\")"
      ]
    },
    {
      "cell_type": "code",
      "execution_count": 20,
      "metadata": {
        "id": "6SPyuwNuay5T"
      },
      "outputs": [],
      "source": [
        "### Train Val Test split: 80/10/10\n",
        "\n",
        "\n",
        "def split_data(\n",
        "    df: pd.DataFrame, seed: int = 42\n",
        ") -> Tuple[pd.DataFrame, pd.DataFrame, pd.DataFrame]:\n",
        "    df_train, df_test = train_test_split(\n",
        "        df, test_size=0.2, train_size=0.8, random_state=seed\n",
        "    )\n",
        "\n",
        "    df_val, df_test = train_test_split(\n",
        "        df_test, test_size=0.5, train_size=0.5, random_state=seed\n",
        "    )\n",
        "\n",
        "    return df_train, df_val, df_test"
      ]
    },
    {
      "cell_type": "code",
      "execution_count": 21,
      "metadata": {
        "colab": {
          "base_uri": "https://localhost:8080/"
        },
        "id": "ojgAR5vjay5T",
        "outputId": "2c6630f8-a00e-4a18-a091-b4f2095f041b"
      },
      "outputs": [
        {
          "name": "stdout",
          "output_type": "stream",
          "text": [
            "df_train len: 3200\n",
            "df_val len:   400\n",
            "df_test len:  400\n"
          ]
        }
      ],
      "source": [
        "### Check\n",
        "df_train_t, df_val_t, df_test_t = split_data(clean_df)\n",
        "print(f\"df_train len: {len(df_train_t)}\")\n",
        "print(f\"df_val len:   {len(df_val_t)}\")\n",
        "print(f\"df_test len:  {len(df_test_t)}\")"
      ]
    },
    {
      "cell_type": "markdown",
      "metadata": {
        "id": "MSI7H2Znay5T"
      },
      "source": [
        "explode the dataframe: <br>\n",
        "each rows contains: previous utterance, target utterance, next utterance (for context). <br>\n",
        "Except for the first and lat utterance of each episode that have no previous and next utterance, respectively"
      ]
    },
    {
      "cell_type": "code",
      "execution_count": 22,
      "metadata": {
        "colab": {
          "base_uri": "https://localhost:8080/"
        },
        "id": "OToQ09Cjay5U",
        "outputId": "b72b22b3-120a-48d0-e421-a3e02acb5bea"
      },
      "outputs": [
        {
          "name": "stdout",
          "output_type": "stream",
          "text": [
            "anger:    [1 0 0 0 0 0 0]\n",
            "disgust:  [0 1 0 0 0 0 0]\n",
            "fear:     [0 0 1 0 0 0 0]\n",
            "joy:      [0 0 0 1 0 0 0]\n",
            "neutral:  [0 0 0 0 1 0 0]\n",
            "sadness:  [0 0 0 0 0 1 0]\n",
            "surprise: [0 0 0 0 0 0 1]\n"
          ]
        }
      ],
      "source": [
        "all_emotions = df_train_t[EMOTIONS].explode().to_numpy()\n",
        "uniq_emotions = np.sort(np.unique(all_emotions))\n",
        "one_hot = np.identity(len(uniq_emotions), dtype=int)\n",
        "emotion_mapping = {e: one_hot[i] for i, e in enumerate(uniq_emotions)}\n",
        "max_em_len = np.max([len(v) for v in emotion_mapping.values()]) + 1\n",
        "for k, e in emotion_mapping.items():\n",
        "    print(f\"{k}:{' '*(max_em_len - len(k))} {e}\")"
      ]
    },
    {
      "cell_type": "code",
      "execution_count": 23,
      "metadata": {
        "id": "S2SmZxixay5U"
      },
      "outputs": [],
      "source": [
        "def explode_add_context(df: pd.DataFrame, ctxt_win_len: int = 1) -> pd.DataFrame:\n",
        "\n",
        "    new_df = {\"emotion\": [], \"trigger\": [], \"hist_curr\": [], \"next\": [], \"episode\": []}\n",
        "\n",
        "    utt_separator = \" \"\n",
        "    ### for each original row\n",
        "    for _, row in df.iterrows():\n",
        "        ### create as many new rows as utterances in the original row\n",
        "        for utt_idx, (emo, trig) in enumerate(zip(row[EMOTIONS], row[TRIGGERS])):\n",
        "            new_df[\"emotion\"].append(emo)\n",
        "            new_df[\"trigger\"].append(trig)\n",
        "            new_df[\"episode\"].append(row[\"episode\"])\n",
        "\n",
        "            ### previous utterances + current (same way triggers are defined)\n",
        "            start_hist = np.max((0, utt_idx - ctxt_win_len))\n",
        "            curr_incl = utt_idx + 1\n",
        "            hist_curr = utt_separator.join(row[UTTERANCES][start_hist:curr_incl])\n",
        "            new_df[\"hist_curr\"].append(hist_curr)\n",
        "\n",
        "            ### next utterances\n",
        "            curr_excl = utt_idx + 1\n",
        "            last_next_excl = utt_idx + ctxt_win_len + 1\n",
        "            next = utt_separator.join(row[UTTERANCES][curr_excl:last_next_excl])\n",
        "            new_df[\"next\"].append(next)\n",
        "\n",
        "    new_df = pd.DataFrame(new_df)\n",
        "    new_df.sort_values(by=EPISODE, inplace=True)\n",
        "\n",
        "    return new_df"
      ]
    },
    {
      "cell_type": "code",
      "execution_count": 24,
      "metadata": {
        "id": "PdIfKbjQay5V"
      },
      "outputs": [],
      "source": [
        "# ctxt_win_len = 2\n",
        "# ctxt_win_len = 3\n",
        "ctxt_win_len = 4\n",
        "\n",
        "df_train = explode_add_context(df_train_t, ctxt_win_len)\n",
        "df_val = explode_add_context(df_val_t, ctxt_win_len)\n",
        "df_test = explode_add_context(df_test_t, ctxt_win_len)"
      ]
    },
    {
      "cell_type": "code",
      "execution_count": 25,
      "metadata": {
        "colab": {
          "base_uri": "https://localhost:8080/",
          "height": 692
        },
        "id": "u9bBL5v0ay5V",
        "outputId": "238b5184-d377-4a8e-e54a-1a2cf656e550"
      },
      "outputs": [
        {
          "data": {
            "text/html": [
              "<div>\n",
              "<style scoped>\n",
              "    .dataframe tbody tr th:only-of-type {\n",
              "        vertical-align: middle;\n",
              "    }\n",
              "\n",
              "    .dataframe tbody tr th {\n",
              "        vertical-align: top;\n",
              "    }\n",
              "\n",
              "    .dataframe thead th {\n",
              "        text-align: right;\n",
              "    }\n",
              "</style>\n",
              "<table border=\"1\" class=\"dataframe\">\n",
              "  <thead>\n",
              "    <tr style=\"text-align: right;\">\n",
              "      <th></th>\n",
              "      <th>emotion</th>\n",
              "      <th>trigger</th>\n",
              "      <th>hist_curr</th>\n",
              "      <th>next</th>\n",
              "      <th>episode</th>\n",
              "    </tr>\n",
              "  </thead>\n",
              "  <tbody>\n",
              "    <tr>\n",
              "      <th>864</th>\n",
              "      <td>neutral</td>\n",
              "      <td>0.0</td>\n",
              "      <td>also I was the point person on my company's tr...</td>\n",
              "      <td>You must've had your hands full. That I did. T...</td>\n",
              "      <td>episode_0</td>\n",
              "    </tr>\n",
              "    <tr>\n",
              "      <th>868</th>\n",
              "      <td>surprise</td>\n",
              "      <td>0.0</td>\n",
              "      <td>also I was the point person on my company's tr...</td>\n",
              "      <td></td>\n",
              "      <td>episode_0</td>\n",
              "    </tr>\n",
              "    <tr>\n",
              "      <th>867</th>\n",
              "      <td>neutral</td>\n",
              "      <td>1.0</td>\n",
              "      <td>also I was the point person on my company's tr...</td>\n",
              "      <td>My duties?  All right.</td>\n",
              "      <td>episode_0</td>\n",
              "    </tr>\n",
              "    <tr>\n",
              "      <th>866</th>\n",
              "      <td>neutral</td>\n",
              "      <td>0.0</td>\n",
              "      <td>also I was the point person on my company's tr...</td>\n",
              "      <td>So let's talk a little bit about your duties. ...</td>\n",
              "      <td>episode_0</td>\n",
              "    </tr>\n",
              "    <tr>\n",
              "      <th>865</th>\n",
              "      <td>neutral</td>\n",
              "      <td>0.0</td>\n",
              "      <td>also I was the point person on my company's tr...</td>\n",
              "      <td>That I did. That I did. So let's talk a little...</td>\n",
              "      <td>episode_0</td>\n",
              "    </tr>\n",
              "    <tr>\n",
              "      <th>24390</th>\n",
              "      <td>neutral</td>\n",
              "      <td>0.0</td>\n",
              "      <td>also I was the point person on my company's tr...</td>\n",
              "      <td>That I did. That I did. So let's talk a little...</td>\n",
              "      <td>episode_1</td>\n",
              "    </tr>\n",
              "    <tr>\n",
              "      <th>24389</th>\n",
              "      <td>neutral</td>\n",
              "      <td>0.0</td>\n",
              "      <td>also I was the point person on my company's tr...</td>\n",
              "      <td>You must've had your hands full. That I did. T...</td>\n",
              "      <td>episode_1</td>\n",
              "    </tr>\n",
              "    <tr>\n",
              "      <th>24391</th>\n",
              "      <td>neutral</td>\n",
              "      <td>0.0</td>\n",
              "      <td>also I was the point person on my company's tr...</td>\n",
              "      <td>So let's talk a little bit about your duties. ...</td>\n",
              "      <td>episode_1</td>\n",
              "    </tr>\n",
              "    <tr>\n",
              "      <th>24395</th>\n",
              "      <td>neutral</td>\n",
              "      <td>0.0</td>\n",
              "      <td>That I did. That I did. So let's talk a little...</td>\n",
              "      <td></td>\n",
              "      <td>episode_1</td>\n",
              "    </tr>\n",
              "    <tr>\n",
              "      <th>24392</th>\n",
              "      <td>neutral</td>\n",
              "      <td>1.0</td>\n",
              "      <td>also I was the point person on my company's tr...</td>\n",
              "      <td>My duties?  All right. Now you'll be heading a...</td>\n",
              "      <td>episode_1</td>\n",
              "    </tr>\n",
              "  </tbody>\n",
              "</table>\n",
              "</div>"
            ],
            "text/plain": [
              "        emotion  trigger                                          hist_curr  \\\n",
              "864     neutral      0.0  also I was the point person on my company's tr...   \n",
              "868    surprise      0.0  also I was the point person on my company's tr...   \n",
              "867     neutral      1.0  also I was the point person on my company's tr...   \n",
              "866     neutral      0.0  also I was the point person on my company's tr...   \n",
              "865     neutral      0.0  also I was the point person on my company's tr...   \n",
              "24390   neutral      0.0  also I was the point person on my company's tr...   \n",
              "24389   neutral      0.0  also I was the point person on my company's tr...   \n",
              "24391   neutral      0.0  also I was the point person on my company's tr...   \n",
              "24395   neutral      0.0  That I did. That I did. So let's talk a little...   \n",
              "24392   neutral      1.0  also I was the point person on my company's tr...   \n",
              "\n",
              "                                                    next    episode  \n",
              "864    You must've had your hands full. That I did. T...  episode_0  \n",
              "868                                                       episode_0  \n",
              "867                               My duties?  All right.  episode_0  \n",
              "866    So let's talk a little bit about your duties. ...  episode_0  \n",
              "865    That I did. That I did. So let's talk a little...  episode_0  \n",
              "24390  That I did. That I did. So let's talk a little...  episode_1  \n",
              "24389  You must've had your hands full. That I did. T...  episode_1  \n",
              "24391  So let's talk a little bit about your duties. ...  episode_1  \n",
              "24395                                                     episode_1  \n",
              "24392  My duties?  All right. Now you'll be heading a...  episode_1  "
            ]
          },
          "execution_count": 25,
          "metadata": {},
          "output_type": "execute_result"
        }
      ],
      "source": [
        "df_train.head(10)"
      ]
    },
    {
      "cell_type": "code",
      "execution_count": 26,
      "metadata": {
        "colab": {
          "base_uri": "https://localhost:8080/"
        },
        "id": "H14Z-kC8ay5V",
        "outputId": "2367422b-c419-4ce5-d581-8f05962f91af"
      },
      "outputs": [
        {
          "name": "stdout",
          "output_type": "stream",
          "text": [
            "Cause every time I see your face, I can't help but fall from grace. I know.....  -->  Wow! This girl is good. Oh-ho yeah! A song with rhyming words. Oo, I never thought of that before. I like her. Why? Because she can sing and play guitar and do both at the same time?\n",
            "\n",
            "Cause every time I see your face, I can't help but fall from grace. I know..... Wow! This girl is good.  -->  Oh-ho yeah! A song with rhyming words. Oo, I never thought of that before. I like her. Why? Because she can sing and play guitar and do both at the same time?\n",
            "\n",
            "Cause every time I see your face, I can't help but fall from grace. I know..... Wow! This girl is good. Oh-ho yeah! A song with rhyming words. Oo, I never thought of that before.  -->  I like her. Why? Because she can sing and play guitar and do both at the same time?\n",
            "\n",
            "Cause every time I see your face, I can't help but fall from grace. I know..... Wow! This girl is good. Oh-ho yeah! A song with rhyming words. Oo, I never thought of that before. I like her.  -->  Why? Because she can sing and play guitar and do both at the same time?\n",
            "\n",
            "Cause every time I see your face, I can't help but fall from grace. I know..... Wow! This girl is good. Oh-ho yeah! A song with rhyming words. Oo, I never thought of that before. I like her. Why? Because she can sing and play guitar and do both at the same time?  -->  \n",
            "\n",
            "Do you think they have yesterday's daily news?  -->  Why? Just wanna check my horoscope, see if it was right. Oh my God. Phoebe.\n",
            "\n",
            "Do you think they have yesterday's daily news? Why?  -->  Just wanna check my horoscope, see if it was right. Oh my God. Phoebe. Don't look now, but behind us is a guy who has the potential to break our hearts and plunge us into a pit of depression.\n",
            "\n",
            "Do you think they have yesterday's daily news? Why? Just wanna check my horoscope, see if it was right.  -->  Oh my God. Phoebe. Don't look now, but behind us is a guy who has the potential to break our hearts and plunge us into a pit of depression. Where?  Ooh, come to Momma.\n",
            "\n",
            "Do you think they have yesterday's daily news? Why? Just wanna check my horoscope, see if it was right. Oh my God.  -->  Phoebe. Don't look now, but behind us is a guy who has the potential to break our hearts and plunge us into a pit of depression. Where?  Ooh, come to Momma. He's coming. Be cool, be cool, be cool.\n",
            "\n",
            "Do you think they have yesterday's daily news? Why? Just wanna check my horoscope, see if it was right. Oh my God. Phoebe.  -->  Don't look now, but behind us is a guy who has the potential to break our hearts and plunge us into a pit of depression. Where?  Ooh, come to Momma. He's coming. Be cool, be cool, be cool. We should do something. Whistle.\n",
            "\n"
          ]
        }
      ],
      "source": [
        "for idx in range(10 if len(df_train) >= 10 else len(df_train)):\n",
        "    print(f\"{df_train['hist_curr'][idx]}  -->  {df_train['next'][idx]}\\n\")"
      ]
    },
    {
      "cell_type": "markdown",
      "metadata": {
        "id": "2APG5E7Vay5e"
      },
      "source": [
        "### Metrics"
      ]
    },
    {
      "cell_type": "code",
      "execution_count": 43,
      "metadata": {
        "id": "l9czZlvHay5e"
      },
      "outputs": [],
      "source": [
        "### Compute F1 score for each dialogue and return avg over dialogues\n",
        "def sequence_f1(\n",
        "    y_true: pd.DataFrame,\n",
        "    y_pred: np.ndarray,\n",
        "    target_column: str,\n",
        "    avg: bool = True,\n",
        ") -> Union[dict, float]:\n",
        "    assert len(y_pred) == len(y_true), \"y_pred and y_true must be of the same lenght\"\n",
        "    # assert (\n",
        "    #    y_true[EPISODE].is_monotonic_increasing\n",
        "    #    or y_true[EPISODE].is_monotonic_decreasing\n",
        "    # ), \"utterances must be sorted over the episodes\"\n",
        "\n",
        "    res = {}\n",
        "    start = 0\n",
        "    stop_incl = 0\n",
        "    for i in range(1, len(y_pred)):\n",
        "        if y_true[EPISODE][i - 1] != y_true[EPISODE][i]:\n",
        "            stop_incl = i - 1\n",
        "            f1 = f1_score(\n",
        "                y_true=y_true[target_column][start : stop_incl + 1].to_list(),\n",
        "                y_pred=y_pred[start : stop_incl + 1],\n",
        "                average=\"micro\",\n",
        "            )\n",
        "            res.update({y_true[EPISODE][start]: f1})\n",
        "            start = i\n",
        "\n",
        "    # np.std(list(res.values))\n",
        "    return res if not avg else np.average(list(res.values()))\n",
        "\n",
        "\n",
        "### Compute F1 score for the unrolled sequence\n",
        "def unrolled_f1(\n",
        "    y_true: pd.DataFrame,\n",
        "    y_pred: np.ndarray,\n",
        "    target_column: str,\n",
        ") -> float:\n",
        "    return f1_score(y_true[target_column].to_list(), y_pred, average=\"micro\")"
      ]
    },
    {
      "cell_type": "markdown",
      "metadata": {
        "id": "z_zR-xLoay5f"
      },
      "source": [
        "## Baseline Models:"
      ]
    },
    {
      "cell_type": "code",
      "execution_count": 41,
      "metadata": {
        "id": "TbrQP_Ilay5f"
      },
      "outputs": [],
      "source": [
        "### Create baseline model\n",
        "\n",
        "\n",
        "class SequenceDummyClassifier(DummyClassifier):\n",
        "    def __init__(self, strategy: str, seed: int = 42) -> None:\n",
        "        self.seed = seed\n",
        "        if not strategy.lower() in (\"random\", \"majority\"):\n",
        "            raise ValueError(\"strategy must be in [random, majority]\")\n",
        "        sklearn_strategy = \"uniform\" if strategy == \"random\" else \"most_frequent\"\n",
        "        super().__init__(strategy=sklearn_strategy, random_state=seed)"
      ]
    },
    {
      "cell_type": "code",
      "execution_count": 64,
      "metadata": {},
      "outputs": [],
      "source": [
        "from sklearn.metrics import classification_report\n",
        "clf=SequenceDummyClassifier(strategy=\"random\")\n",
        "clf.fit(df_train[\"hist_curr\"], df_train[\"emotion\"])\n",
        "y_pred = clf.predict(df_test[\"hist_curr\"])"
      ]
    },
    {
      "cell_type": "code",
      "execution_count": 65,
      "metadata": {},
      "outputs": [
        {
          "name": "stdout",
          "output_type": "stream",
          "text": [
            "0.13926883145236693\n"
          ]
        }
      ],
      "source": [
        "print(sequence_f1(df_test, y_pred, \"emotion\"))"
      ]
    },
    {
      "cell_type": "code",
      "execution_count": 68,
      "metadata": {
        "colab": {
          "base_uri": "https://localhost:8080/"
        },
        "id": "JsMoC-F7ay5f",
        "outputId": "3b0a9855-2b99-4185-f911-6d3cfd1c733e"
      },
      "outputs": [
        {
          "name": "stdout",
          "output_type": "stream",
          "text": [
            "sequence_f1(emotion_random) : 0.13926883145236693\n",
            "unrolled_f1(emotion_random) : 0.16134953914724126\n",
            "sequence_f1(trigger_random) : 0.49275195133164357\n",
            "unrolled_f1(trigger_random) : 0.5065511559655064\n",
            "sequence_f1(emotion_majority) : 0.44657433160540777\n",
            "unrolled_f1(emotion_majority) : 0.2617693796769813\n",
            "sequence_f1(trigger_majority) : 0.6522845341422358\n",
            "unrolled_f1(trigger_majority) : 0.5140339542271044\n"
          ]
        }
      ],
      "source": [
        "def experiment_baseline(\n",
        "    df_train: pd.DataFrame,\n",
        "    df_test: pd.DataFrame,\n",
        "    seed: int = 42,\n",
        ") -> dict:\n",
        "\n",
        "    baseline_f1s = {}\n",
        "    baseline_results = {}\n",
        "\n",
        "    for strategy in (\"random\", \"majority\"):\n",
        "        for target in (\"emotion\", \"trigger\"):\n",
        "            clf = SequenceDummyClassifier(strategy=strategy, seed=seed)\n",
        "            clf.fit(X=df_train[\"hist_curr\"], y=df_train[target])\n",
        "\n",
        "            res = clf.predict(X=df_test[\"hist_curr\"])\n",
        "            baseline_results.update({f\"{target}_{strategy}\": res})\n",
        "\n",
        "            seq_f1 = sequence_f1(y_true=df_test, y_pred=res, target_column=target)\n",
        "            baseline_f1s.update({f\"sequence_f1({target}_{strategy})\": seq_f1})\n",
        "\n",
        "            unr_f1 = unrolled_f1(y_true=df_test, y_pred=res, target_column=target)\n",
        "            baseline_f1s.update({f\"unrolled_f1({target}_{strategy})\": unr_f1})\n",
        "\n",
        "    return baseline_f1s, baseline_results\n",
        "\n",
        "\n",
        "f1s, results = experiment_baseline(df_train, df_test)\n",
        "for k, v in f1s.items():\n",
        "    print(f\"{k} : {v}\")"
      ]
    },
    {
      "cell_type": "markdown",
      "metadata": {
        "id": "4P_NI6Qeay5f"
      },
      "source": [
        "# Tokenization"
      ]
    },
    {
      "cell_type": "code",
      "execution_count": 31,
      "metadata": {
        "colab": {
          "base_uri": "https://localhost:8080/"
        },
        "id": "vQOz8hgHay5l",
        "outputId": "2c29624a-1a3b-4fe3-980d-acf8060f906c"
      },
      "outputs": [
        {
          "name": "stderr",
          "output_type": "stream",
          "text": [
            "/usr/local/lib/python3.10/dist-packages/huggingface_hub/file_download.py:1132: FutureWarning: `resume_download` is deprecated and will be removed in version 1.0.0. Downloads always resume when possible. If you want to force a new download, use `force_download=True`.\n",
            "  warnings.warn(\n",
            "/usr/local/lib/python3.10/dist-packages/huggingface_hub/utils/_token.py:89: UserWarning: \n",
            "The secret `HF_TOKEN` does not exist in your Colab secrets.\n",
            "To authenticate with the Hugging Face Hub, create a token in your settings tab (https://huggingface.co/settings/tokens), set it as secret in your Google Colab and restart your session.\n",
            "You will be able to reuse this secret in all of your notebooks.\n",
            "Please note that authentication is recommended but still optional to access public models or datasets.\n",
            "  warnings.warn(\n"
          ]
        }
      ],
      "source": [
        "tokenizer = BertTokenizer.from_pretrained(\"bert-base-uncased\")"
      ]
    },
    {
      "cell_type": "code",
      "execution_count": 32,
      "metadata": {
        "id": "GObQL5nHay5m"
      },
      "outputs": [],
      "source": [
        "ds_train = Dataset.from_pandas(df_train, preserve_index=False)\n",
        "ds_val = Dataset.from_pandas(df_val, preserve_index=False)\n",
        "ds_test = Dataset.from_pandas(df_test, preserve_index=False)"
      ]
    },
    {
      "cell_type": "code",
      "execution_count": 33,
      "metadata": {
        "id": "rtB_dXbPay5n"
      },
      "outputs": [],
      "source": [
        "def tokenize(ds_row, tokenizer):\n",
        "    if type(ds_row[\"emotion\"]) != str:  ### batchsize > 1\n",
        "        emotion_encoding = []\n",
        "        emotion_encoding = [emotion_mapping[e] for e in ds_row[\"emotion\"]]\n",
        "        trigger_encoding = [np.array([e]) for e in ds_row[\"trigger\"]]\n",
        "    else:  ### batchsize == 1\n",
        "        emotion_encoding = emotion_mapping[ds_row[\"emotion\"]]\n",
        "        trigger_encoding = np.array([ds_row[\"trigger\"]])\n",
        "\n",
        "    encoded_ds_row = {\n",
        "        \"input_ids\": [],\n",
        "        \"token_type_ids\": [],\n",
        "        \"attention_mask\": [],\n",
        "        \"emotion\": torch.tensor(np.array(emotion_encoding), dtype=torch.float),\n",
        "        \"trigger\": torch.tensor(np.array(trigger_encoding), dtype=torch.float),\n",
        "    }\n",
        "\n",
        "    tokenized_context = tokenizer(\n",
        "        ds_row[\"hist_curr\"],\n",
        "        ds_row[\"next\"] if ds_row[\"next\"] != [] else None,\n",
        "        truncation=True,\n",
        "        padding=\"max_length\",\n",
        "        max_length=256,\n",
        "        return_tensors=\"pt\",\n",
        "    )\n",
        "\n",
        "    encoded_ds_row[\"input_ids\"] = tokenized_context[\"input_ids\"]\n",
        "    encoded_ds_row[\"token_type_ids\"] = tokenized_context[\"token_type_ids\"]\n",
        "\n",
        "    encoded_ds_row[\"attention_mask\"] = tokenized_context[\"attention_mask\"]\n",
        "\n",
        "    return encoded_ds_row"
      ]
    },
    {
      "cell_type": "code",
      "execution_count": 34,
      "metadata": {
        "colab": {
          "base_uri": "https://localhost:8080/",
          "height": 113,
          "referenced_widgets": [
            "6ad9eeaeb326444282998750233daf9e",
            "15150022c6de489d9688bdba605eaaa7",
            "818c7e1983aa445c8399844762f1bf6a",
            "b160b924669e43e3b2a284430b78b9ad",
            "706fb104990240888c0d2aca9c011067",
            "2cb617dc02be4722b75d8f09f53863ef",
            "8c0023c4374d4357959cc8bb1f04ce8e",
            "f6bc690dde814c83ac37d384867bdecd",
            "719c5f5bac5a476fbcde3a95b96c5938",
            "2fb073ffd73c4f51bb0985c31ab4b266",
            "4eea3bc28b9d44a184b44e415e71ea83",
            "76d74be7f35f4d14b760c3dc596094fb",
            "6c9e76840d954ffd80d250ede1dcb257",
            "cb632ff40fb6498b96263faebfc05036",
            "71bd8ebe83df4a17b9ba4370fad1140c",
            "14b5f71579aa43a38d14581ebbb49182",
            "a6484858a4e44da0a3897e0749a7c9b0",
            "37159f0b04244870a041ac4819f45696",
            "66d84b1981ba4b908975476dd264c45d",
            "e7a124db081c4dfab889ae10df183c48",
            "17f46c1da4804504bf6072d4d47b38ba",
            "4ac68c0b30ff4ba8a111ebcf2e226257",
            "a50ec6c2d51141348f8509037a8c9a77",
            "9ebcbd7d66884cfc872667e7b7f300a0",
            "cea3bf0de289441981ba1f5c322c42d6",
            "9adcc28f76f345468979570a1379b5d1",
            "010b2e4456df46c79a4f92fb091ebd5d",
            "d4312ed49e7e4e0baff7bc08618345a0",
            "9d615f7366cf427380c729cfacdb2ea2",
            "0b04f19feb7d43e9b65da23dcb2c955a",
            "5fca81e623d84cae8e02260e447ab7c2",
            "0b9d7d4fa58444b19a55b41fde9d6b15",
            "f78b109830f04e5ba8f973a2150cd41a"
          ]
        },
        "id": "gvfEGNlyay5o",
        "outputId": "0d126fc8-fc4e-42d5-9677-ca48d4719ae0"
      },
      "outputs": [
        {
          "data": {
            "application/vnd.jupyter.widget-view+json": {
              "model_id": "6ad9eeaeb326444282998750233daf9e",
              "version_major": 2,
              "version_minor": 0
            },
            "text/plain": [
              "Map:   0%|          | 0/28034 [00:00<?, ? examples/s]"
            ]
          },
          "metadata": {},
          "output_type": "display_data"
        },
        {
          "data": {
            "application/vnd.jupyter.widget-view+json": {
              "model_id": "76d74be7f35f4d14b760c3dc596094fb",
              "version_major": 2,
              "version_minor": 0
            },
            "text/plain": [
              "Map:   0%|          | 0/3475 [00:00<?, ? examples/s]"
            ]
          },
          "metadata": {},
          "output_type": "display_data"
        },
        {
          "data": {
            "application/vnd.jupyter.widget-view+json": {
              "model_id": "a50ec6c2d51141348f8509037a8c9a77",
              "version_major": 2,
              "version_minor": 0
            },
            "text/plain": [
              "Map:   0%|          | 0/3491 [00:00<?, ? examples/s]"
            ]
          },
          "metadata": {},
          "output_type": "display_data"
        }
      ],
      "source": [
        "### Apply tokenization\n",
        "\n",
        "batched = True\n",
        "cols_to_drop = [\"hist_curr\", \"next\"]\n",
        "\n",
        "ds_train_tokenized = ds_train.map(\n",
        "    function=tokenize,\n",
        "    fn_kwargs={\"tokenizer\": tokenizer},\n",
        "    batched=batched,\n",
        "    remove_columns=cols_to_drop,\n",
        ")\n",
        "ds_train_tokenized.set_format(type=\"torch\")\n",
        "\n",
        "ds_test_tokenized = ds_test.map(\n",
        "    function=tokenize,\n",
        "    fn_kwargs={\"tokenizer\": tokenizer},\n",
        "    batched=batched,\n",
        "    remove_columns=cols_to_drop,\n",
        ")\n",
        "ds_test_tokenized.set_format(type=\"torch\")\n",
        "\n",
        "ds_val_tokenized = ds_val.map(\n",
        "    function=tokenize,\n",
        "    fn_kwargs={\"tokenizer\": tokenizer},\n",
        "    batched=batched,\n",
        "    remove_columns=cols_to_drop,\n",
        ")\n",
        "ds_val_tokenized.set_format(type=\"torch\")\n",
        "\n",
        "EMOTION, TRIGGER, EPISODE, INPUT_IDS, TOKEN_TYPE_IDS, ATTENTION_MASK = (\n",
        "    ds_train_tokenized.column_names\n",
        ")"
      ]
    },
    {
      "cell_type": "code",
      "execution_count": 35,
      "metadata": {
        "colab": {
          "base_uri": "https://localhost:8080/"
        },
        "id": "0I8hAxMlGsTH",
        "outputId": "db180282-b3a1-4c26-f347-0e63b3375435"
      },
      "outputs": [
        {
          "name": "stdout",
          "output_type": "stream",
          "text": [
            "max tokenization len = 235\n"
          ]
        }
      ],
      "source": [
        "# Get the tokenization len needed to avoid overflow (depends on ctxt_win_len)\n",
        "train_len = np.max(np.sum(ds_train_tokenized[\"input_ids\"].numpy() != 0, axis=1))\n",
        "test_len = np.max(np.sum(ds_test_tokenized[\"input_ids\"].numpy() != 0, axis=1))\n",
        "val_len = np.max(np.sum(ds_val_tokenized[\"input_ids\"].numpy() != 0, axis=1))\n",
        "\n",
        "print(f\"max tokenization len = {np.max([train_len, test_len, val_len])}\")"
      ]
    },
    {
      "cell_type": "markdown",
      "metadata": {
        "id": "3yTyYTER_A-y",
        "outputId": "be01f620-a04b-411e-9033-162165a86235"
      },
      "source": [
        "print(f\"columns before tokenization: {ds_train.column_names}\")\n",
        "print(f\"columns after tokenization: {ds_train_tokenized.column_names}\")"
      ]
    },
    {
      "cell_type": "code",
      "execution_count": 36,
      "metadata": {
        "colab": {
          "base_uri": "https://localhost:8080/"
        },
        "id": "qi2RREaRay5p",
        "outputId": "5e1293c2-8ac6-4f8e-e860-5807f4732176"
      },
      "outputs": [
        {
          "name": "stdout",
          "output_type": "stream",
          "text": [
            "also I was the point person on my company's transition from the KL-5 to GR-6 system.You must've had your hands full. That I did. That I did. So let's talk a little bit about your duties. My duties?  All right.\n",
            "[CLS] also i was the point person on my company ' s transition from the kl - 5 to gr - 6 system . [SEP] you must ' ve had your hands full . that i did . that i did . so let ' s talk a little bit about your duties . my duties ? all right . [SEP] [PAD] [PAD] [PAD] [PAD] [PAD] [PAD] [PAD] [PAD] [PAD] [PAD] [PAD] [PAD] [PAD] [PAD] [PAD] [PAD] [PAD] [PAD] [PAD] [PAD] [PAD] [PAD] [PAD] [PAD] [PAD] [PAD] [PAD] [PAD] [PAD] [PAD] [PAD] [PAD] [PAD] [PAD] [PAD] [PAD] [PAD] [PAD] [PAD] [PAD] [PAD] [PAD] [PAD] [PAD] [PAD] [PAD] [PAD] [PAD] [PAD] [PAD] [PAD] [PAD] [PAD] [PAD] [PAD] [PAD] [PAD] [PAD] [PAD] [PAD] [PAD] [PAD] [PAD] [PAD] [PAD] [PAD] [PAD] [PAD] [PAD] [PAD] [PAD] [PAD] [PAD] [PAD] [PAD] [PAD] [PAD] [PAD] [PAD] [PAD] [PAD] [PAD] [PAD] [PAD] [PAD] [PAD] [PAD] [PAD] [PAD] [PAD] [PAD] [PAD] [PAD] [PAD] [PAD] [PAD] [PAD] [PAD] [PAD] [PAD] [PAD] [PAD] [PAD] [PAD] [PAD] [PAD] [PAD] [PAD] [PAD] [PAD] [PAD] [PAD] [PAD] [PAD] [PAD] [PAD] [PAD] [PAD] [PAD] [PAD] [PAD] [PAD] [PAD] [PAD] [PAD] [PAD] [PAD] [PAD] [PAD] [PAD] [PAD] [PAD] [PAD] [PAD] [PAD] [PAD] [PAD] [PAD] [PAD] [PAD] [PAD] [PAD] [PAD] [PAD] [PAD] [PAD] [PAD] [PAD] [PAD] [PAD] [PAD] [PAD] [PAD] [PAD] [PAD] [PAD] [PAD] [PAD] [PAD] [PAD] [PAD] [PAD] [PAD] [PAD] [PAD] [PAD] [PAD] [PAD] [PAD] [PAD] [PAD] [PAD] [PAD] [PAD] [PAD] [PAD] [PAD] [PAD] [PAD] [PAD] [PAD] [PAD] [PAD] [PAD] [PAD] [PAD] [PAD] [PAD] [PAD] [PAD] [PAD] [PAD] [PAD] [PAD]\n"
          ]
        }
      ],
      "source": [
        "### Tokenization test\n",
        "tokens = tokenizer.convert_ids_to_tokens(ds_train_tokenized[\"input_ids\"][0])\n",
        "string = tokenizer.convert_tokens_to_string(tokens)\n",
        "original_string = ds_train[\"hist_curr\"][0] + ds_train[\"next\"][0]\n",
        "print(original_string)\n",
        "print(string)"
      ]
    },
    {
      "cell_type": "code",
      "execution_count": 37,
      "metadata": {
        "id": "FNidxzAAGsTH"
      },
      "outputs": [],
      "source": [
        "# Class weighting algorithm\n",
        "\n",
        "\n",
        "def compute_class_weights(\n",
        "    emotions: pd.Series, root: bool = False, normalize: bool = False\n",
        ") -> torch.tensor:\n",
        "    labels, n_ones = np.unique(emotions.to_numpy(), return_counts=True)\n",
        "    l = len(emotions)\n",
        "    print(labels)\n",
        "    n_zeroes = np.array([l - n for n in n_ones])\n",
        "\n",
        "    weights = np.empty_like(n_ones, dtype=np.float32)\n",
        "    for class_num, (ones, zeroes) in enumerate(zip(n_ones, n_zeroes)):\n",
        "        if root:\n",
        "            weights[class_num] = np.sqrt(zeroes / (ones + 1e-4))\n",
        "        else:\n",
        "            weights[class_num] = zeroes / (ones + 1e-4)\n",
        "    if normalize:\n",
        "        sum = np.sum(weights)\n",
        "        weights = weights / sum\n",
        "\n",
        "    print(f\"weigts = {weights}\")\n",
        "    return torch.as_tensor(weights, dtype=torch.float).to(device)"
      ]
    },
    {
      "cell_type": "markdown",
      "metadata": {
        "id": "qPX895PMay5q"
      },
      "source": [
        "# Bert Models"
      ]
    },
    {
      "cell_type": "code",
      "execution_count": 38,
      "metadata": {
        "id": "euGU4lPday5q"
      },
      "outputs": [],
      "source": [
        "class BERTClass(torch.nn.Module):\n",
        "    def __init__(self, num_emotions=7):\n",
        "        super(BERTClass, self).__init__()\n",
        "\n",
        "        self.bert = BertModel.from_pretrained(\"bert-base-uncased\")\n",
        "\n",
        "        self.dropout_emo = torch.nn.Dropout(0.1)\n",
        "        self.dropout_tri = torch.nn.Dropout(0.2)\n",
        "\n",
        "\n",
        "\n",
        "        # classifiers\n",
        "        self.l_emotions = torch.nn.Linear(self.bert.config.hidden_size, num_emotions)\n",
        "        self.l_triggers = torch.nn.Linear(self.bert.config.hidden_size, 1)\n",
        "        self.linear = torch.nn.Linear(\n",
        "            self.bert.config.hidden_size, self.bert.config.hidden_size\n",
        "        )\n",
        "        self.relu = torch.nn.ReLU()\n",
        "\n",
        "    def forward(self, ids, mask, token_type_ids):\n",
        "        output = self.bert(ids, attention_mask=mask, token_type_ids=token_type_ids)\n",
        "        output = output.pooler_output\n",
        "\n",
        "        output = self.linear(output)\n",
        "\n",
        "        output_emotions = self.relu(output)\n",
        "        output_triggers = self.relu(output)\n",
        "\n",
        "        output_emotions = self.dropout_emo(output)\n",
        "        output_triggers = self.dropout_tri(output)\n",
        "\n",
        "        output_emotions = self.l_emotions(output_emotions)\n",
        "        output_triggers = self.l_triggers(output_triggers)\n",
        "\n",
        "        return output_emotions, output_triggers\n",
        "\n",
        "    def freeze_params(self):\n",
        "        for param in self.bert.parameters():\n",
        "            param.requires_grad = False"
      ]
    },
    {
      "cell_type": "markdown",
      "metadata": {
        "id": "9PNrvbGJay5r"
      },
      "source": [
        "# Training Utils"
      ]
    },
    {
      "cell_type": "code",
      "execution_count": 39,
      "metadata": {
        "id": "UZo0EILtay5r"
      },
      "outputs": [],
      "source": [
        "def setup(learning_rate=1e-5, weight_decay=0.1, frozen=False):\n",
        "    num_emotions = len(uniq_emotions)\n",
        "\n",
        "    model = BERTClass(num_emotions)\n",
        "\n",
        "    model.to(device)\n",
        "    if frozen:\n",
        "        model.freeze_params()\n",
        "    else:\n",
        "        ### Verifying that the params are not frozen\n",
        "        assert np.all(\n",
        "            [param.requires_grad for _, param in model.named_parameters()]\n",
        "        ), \"model unexpectedly frozen\"\n",
        "\n",
        "    optimizer = torch.optim.AdamW(\n",
        "        model.parameters(), lr=learning_rate, weight_decay=weight_decay\n",
        "    )\n",
        "\n",
        "    return model, optimizer"
      ]
    },
    {
      "cell_type": "code",
      "execution_count": 40,
      "metadata": {
        "id": "WnLfOIfOay5t"
      },
      "outputs": [],
      "source": [
        "def loss_fn(\n",
        "    outputs_emotions,\n",
        "    outputs_triggers,\n",
        "    emotions_labels,\n",
        "    triggers_labels,\n",
        "    emotion_weights=None,\n",
        "    balance=0.5,\n",
        "):\n",
        "    assert balance < 1, \"loss balancing factor must be < 1\"\n",
        "    if emotion_weights is not None:\n",
        "        emotion_lf = torch.nn.CrossEntropyLoss(weight=emotion_weights)\n",
        "    else:\n",
        "        emotion_lf = torch.nn.CrossEntropyLoss()\n",
        "\n",
        "    emotion_loss = emotion_lf(outputs_emotions, emotions_labels) * balance\n",
        "\n",
        "    trigger_lf = torch.nn.BCEWithLogitsLoss()\n",
        "    trigger_loss = trigger_lf(outputs_triggers, triggers_labels) * (1 - balance)\n",
        "\n",
        "    return (emotion_loss + trigger_loss) * 2"
      ]
    },
    {
      "cell_type": "code",
      "execution_count": 41,
      "metadata": {
        "id": "oI83PVIYjeEr"
      },
      "outputs": [],
      "source": [
        "def get_metrics(y_true, y_pred):\n",
        "    cm_emotions = confusion_matrix(y_true, y_pred)\n",
        "\n",
        "    FP_emotions = (cm_emotions.sum(axis=0) - np.diag(cm_emotions)).sum()\n",
        "    FN_emotions = (cm_emotions.sum(axis=1) - np.diag(cm_emotions)).sum()\n",
        "    TP_emotions = np.diag(cm_emotions).sum()\n",
        "    TN_emotions = cm_emotions.sum() - (FP_emotions + FN_emotions + TP_emotions)\n",
        "\n",
        "    print(\"FP_emotions\")\n",
        "    print(FP_emotions)\n",
        "    print(\"FN_emotions\")\n",
        "    print(FN_emotions)\n",
        "    print(\"TP_emotions\")\n",
        "    print(TP_emotions)\n",
        "    print(\"TN_emotions\")\n",
        "    print(TN_emotions)\n",
        "    print(\"num_samples_emotions\")\n",
        "    print(len(y_true))"
      ]
    },
    {
      "cell_type": "code",
      "execution_count": 42,
      "metadata": {
        "id": "3tskUATmQu_H"
      },
      "outputs": [],
      "source": [
        "DEBUG_MODE = False"
      ]
    },
    {
      "cell_type": "code",
      "execution_count": 43,
      "metadata": {
        "id": "7sQajPryGsTI"
      },
      "outputs": [],
      "source": [
        "def decode_emotions(coded_emotion):\n",
        "    idx = np.argmax(coded_emotion)\n",
        "    emotions = list(emotion_mapping.keys())\n",
        "    return emotions[idx]"
      ]
    },
    {
      "cell_type": "code",
      "execution_count": 44,
      "metadata": {
        "id": "MMRpKVFpay5u"
      },
      "outputs": [],
      "source": [
        "### Training of the model\n",
        "def train_model(train_dl, model, optimizer, emotion_weights=None):\n",
        "    losses = []\n",
        "    correct_predictions_emotions = 0\n",
        "    correct_predictions_triggers = 0\n",
        "    num_samples = 0\n",
        "\n",
        "    ### activate dropout, batch norm\n",
        "    model.train()\n",
        "\n",
        "    ### initialize progress bar\n",
        "    batches = tq.tqdm(\n",
        "        enumerate(train_dl), total=len(train_dl), leave=True, colour=\"steelblue\"\n",
        "    )\n",
        "    test_count = 0\n",
        "    for batch_idx, data in batches:\n",
        "        ids = data[\"input_ids\"].to(device, dtype=torch.long)\n",
        "        mask = data[\"attention_mask\"].to(device, dtype=torch.long)\n",
        "        token_type_ids = data[\"token_type_ids\"].to(device, dtype=torch.long)\n",
        "        emotions_labels = data[\"emotion\"].to(device)\n",
        "        triggers_labels = data[\"trigger\"].to(device)\n",
        "\n",
        "        ### Forward pass\n",
        "        outputs_emotions, outputs_triggers = model(ids, mask, token_type_ids)\n",
        "\n",
        "        loss = loss_fn(\n",
        "            outputs_emotions,\n",
        "            outputs_triggers,\n",
        "            emotions_labels,\n",
        "            triggers_labels,\n",
        "            emotion_weights,\n",
        "        )\n",
        "        losses.append(loss.cpu().detach().numpy().item())\n",
        "\n",
        "        ### apply thresh 0.5\n",
        "        outputs_emotions = outputs_emotions.cpu().detach().numpy()\n",
        "        outputs_triggers = (\n",
        "            torch.sigmoid(outputs_triggers).cpu().detach().numpy().round()\n",
        "        )\n",
        "\n",
        "        emotions_labels = emotions_labels.cpu().detach().numpy()\n",
        "        triggers_labels = triggers_labels.cpu().detach().numpy()\n",
        "\n",
        "        correct_predictions_emotions += np.sum(\n",
        "            np.argmax(outputs_emotions, axis=1) == np.argmax(emotions_labels, axis=1)\n",
        "        )\n",
        "        correct_predictions_triggers += np.sum(outputs_triggers == triggers_labels)\n",
        "\n",
        "        num_samples += triggers_labels.size\n",
        "\n",
        "        ### Backward\n",
        "        optimizer.zero_grad()\n",
        "        loss.backward()\n",
        "        torch.nn.utils.clip_grad_norm_(model.parameters(), max_norm=1.0)\n",
        "\n",
        "        ### Grad descent step\n",
        "        optimizer.step()\n",
        "\n",
        "        ### Update progress bar\n",
        "        batches.set_description(f\"\")\n",
        "        batches.set_postfix(batch_loss=loss.item())\n",
        "        if test_count >= 10 and DEBUG_MODE:\n",
        "            break\n",
        "        test_count += 1\n",
        "\n",
        "\n",
        "    accuracy_emotions = float(correct_predictions_emotions) / num_samples\n",
        "    accuracy_triggers = float(correct_predictions_triggers) / num_samples\n",
        "\n",
        "    return (model, accuracy_emotions, accuracy_triggers, losses)  "
      ]
    },
    {
      "cell_type": "code",
      "execution_count": 45,
      "metadata": {
        "id": "RGaacQsRay5u"
      },
      "outputs": [],
      "source": [
        "def eval_model(validation_dl, model, emotion_weights=None):\n",
        "    losses = []\n",
        "    correct_predictions_emotions = 0\n",
        "    correct_predictions_triggers = 0\n",
        "    num_samples = 0\n",
        "\n",
        "\n",
        "    ### accumulate data over each batch to compute the f1\n",
        "    results = {\n",
        "        \"episode\": [],\n",
        "        \"emotion_pred\": [],\n",
        "        \"emotion_true\": [],\n",
        "        \"trigger_pred\": [],\n",
        "        \"trigger_true\": [],\n",
        "    }\n",
        "\n",
        "    ### turn off dropout, fix batch norm\n",
        "    model.eval()\n",
        "\n",
        "    ### show progress bar\n",
        "    batches = tq.tqdm(\n",
        "        enumerate(validation_dl),\n",
        "        total=len(validation_dl),\n",
        "        leave=True,\n",
        "        colour=\"steelblue\",\n",
        "    )\n",
        "\n",
        "    actual_emotions = []\n",
        "    pred_emotions = []\n",
        "    actual_trigger = []\n",
        "    predicted_triggers = []\n",
        "\n",
        "    test_count = 0\n",
        "    with torch.no_grad():\n",
        "        for batch_idx, data in batches:\n",
        "            ids = data[\"input_ids\"].to(device, dtype=torch.long)\n",
        "            mask = data[\"attention_mask\"].to(device, dtype=torch.long)\n",
        "            token_type_ids = data[\"token_type_ids\"].to(device, dtype=torch.long)\n",
        "            emotions_labels = data[\"emotion\"].to(device)\n",
        "            triggers_labels = data[\"trigger\"].to(device)\n",
        "            outputs_emotions, outputs_triggers = model(ids, mask, token_type_ids)\n",
        "\n",
        "            loss = loss_fn(\n",
        "                outputs_emotions,\n",
        "                outputs_triggers,\n",
        "                emotions_labels,\n",
        "                triggers_labels,\n",
        "                emotion_weights,\n",
        "            )\n",
        "            losses.append(loss.cpu().detach().numpy().item())\n",
        "\n",
        "            ### training sigmoid is in BCEWithLogitsLoss\n",
        "            outputs_emotions = outputs_emotions.cpu().detach().numpy()\n",
        "            outputs_triggers = (\n",
        "                torch.sigmoid(outputs_triggers).cpu().detach().numpy().round()\n",
        "            )\n",
        "\n",
        "            emotions_labels = emotions_labels.cpu().detach().numpy()\n",
        "            triggers_labels = triggers_labels.cpu().detach().numpy()\n",
        "\n",
        "            correct_predictions_emotions += np.sum(\n",
        "                np.argmax(outputs_emotions, axis=1)\n",
        "                == np.argmax(emotions_labels, axis=1)\n",
        "            )\n",
        "            correct_predictions_triggers += np.sum(outputs_triggers == triggers_labels)\n",
        "\n",
        "            num_samples += triggers_labels.size\n",
        "\n",
        "            # update the results df\n",
        "            actual_emotions.extend(\n",
        "                [decode_emotions(emotion) for emotion in emotions_labels]\n",
        "            )\n",
        "            pred_emotions.extend(\n",
        "                [decode_emotions(emotion) for emotion in outputs_emotions]\n",
        "            )\n",
        "            actual_trigger.extend(triggers_labels)\n",
        "            predicted_triggers.extend(outputs_triggers)\n",
        "\n",
        "            results[\"episode\"].extend(data[\"episode\"])\n",
        "            results[\"emotion_pred\"].extend(\n",
        "                [decode_emotions(emotion) for emotion in outputs_emotions]\n",
        "            )\n",
        "            results[\"emotion_true\"].extend(\n",
        "                [decode_emotions(emotion) for emotion in data[\"emotion\"]]\n",
        "            )\n",
        "            for i in outputs_triggers:\n",
        "                results[\"trigger_pred\"].append(i)\n",
        "\n",
        "            for i in data[\"trigger\"]:\n",
        "                results[\"trigger_true\"].append(i.numpy())\n",
        "\n",
        "\n",
        "            if test_count >= 10 and DEBUG_MODE:\n",
        "                break\n",
        "            test_count += 1\n",
        "\n",
        "        results[\"trigger_pred\"] = np.array(results[\"trigger_pred\"]).flatten()\n",
        "        results[\"trigger_true\"] = np.array(results[\"trigger_true\"]).flatten()\n",
        "\n",
        "        accuracy_emotions = float(correct_predictions_emotions) / num_samples\n",
        "        accuracy_triggers = float(correct_predictions_triggers) / num_samples\n",
        "\n",
        "    unrolled_f1_emotions = f1_score(\n",
        "        results[\"emotion_true\"], results[\"emotion_pred\"], average=\"weighted\"\n",
        "    )\n",
        "\n",
        "    unrolled_f1_triggers = f1_score(\n",
        "        results[\"trigger_true\"], results[\"trigger_pred\"], average=\"weighted\"\n",
        "    )\n",
        "\n",
        "    results_df = pd.DataFrame(results)\n",
        "    episode_f1_emotions = sequence_f1(\n",
        "        results_df[[\"episode\", \"emotion_true\"]],\n",
        "        results_df[\"emotion_pred\"],\n",
        "        target_column=\"emotion_true\",\n",
        "    )\n",
        "    episode_f1_triggers = sequence_f1(\n",
        "        results_df[[\"episode\", \"trigger_true\"]],\n",
        "        results_df[\"trigger_pred\"],\n",
        "        target_column=\"trigger_true\",\n",
        "    )\n",
        "\n",
        "    return (\n",
        "        accuracy_emotions,\n",
        "        accuracy_triggers,\n",
        "        np.mean(losses),\n",
        "        # losses,\n",
        "        unrolled_f1_emotions,\n",
        "        unrolled_f1_triggers,\n",
        "        episode_f1_emotions,\n",
        "        episode_f1_triggers,\n",
        "    )"
      ]
    },
    {
      "cell_type": "code",
      "execution_count": 46,
      "metadata": {
        "id": "GjmLdgGYay5u"
      },
      "outputs": [],
      "source": [
        "def train_eval(\n",
        "    train_dl,\n",
        "    validation_dl,\n",
        "    model,\n",
        "    optimizer,\n",
        "    n_epochs=1,\n",
        "    save_name=\"0\",\n",
        "    emotion_weights=None,\n",
        "):\n",
        "    model_folder = Path.cwd().joinpath(\"models\")\n",
        "    if not model_folder.exists():\n",
        "        model_folder.mkdir(parents=True)\n",
        "\n",
        "    history = {\n",
        "        \"train_acc_emo\": [],\n",
        "        \"train_acc_tri\": [],\n",
        "        \"train_losses\": [],\n",
        "        \"val_acc_emo\": [],\n",
        "        \"val_acc_trig\": [],\n",
        "        \"val_loss\": [],\n",
        "        \"val_f1_trigger_unrolled\": [],\n",
        "        \"val_f1_trigger_episode\": [],\n",
        "        \"val_f1_emotion_unrolled\": [],\n",
        "        \"val_f1_emotion_episode\": [],\n",
        "    }\n",
        "\n",
        "    for epoch in range(1, n_epochs + 1):\n",
        "        print(f\"Epoch {epoch}/{n_epochs}\")\n",
        "        model, accuracy_emotions, accuracy_triggers, train_loss = train_model(\n",
        "            train_dl, model, optimizer, emotion_weights\n",
        "        )\n",
        "        (\n",
        "            val_accuracy_emotions,\n",
        "            val_accuracy_triggers,\n",
        "            val_loss,\n",
        "            unrolled_f1_emotions,\n",
        "            unrolled_f1_triggers,\n",
        "            episode_f1_emotions,\n",
        "            episode_f1_triggers,\n",
        "        ) = eval_model(validation_dl, model, emotion_weights)\n",
        "\n",
        "        print(\n",
        "            f\"train_loss={np.mean(train_loss):.4f}, val_loss={np.mean(val_loss):.4f}, \"\n",
        "            f\"train_acc_emo={accuracy_emotions:.4f}, train_acc_tri={accuracy_triggers:.4f},\"\n",
        "            f\"val_acc_emo={val_accuracy_emotions:.4f}, val_acc_tri={val_accuracy_triggers:.4f}, \"\n",
        "        )\n",
        "\n",
        "        history[\"train_acc_emo\"].append(accuracy_emotions)\n",
        "        history[\"train_acc_tri\"].append(accuracy_triggers)\n",
        "        history[\"train_losses\"].append(train_loss)\n",
        "        history[\"val_acc_emo\"].append(val_accuracy_emotions)\n",
        "        history[\"val_acc_trig\"].append(val_accuracy_triggers)\n",
        "        history[\"val_loss\"].append(val_loss)\n",
        "        history[\"val_f1_trigger_unrolled\"].append(unrolled_f1_triggers)\n",
        "        history[\"val_f1_trigger_episode\"].append(episode_f1_triggers)\n",
        "        history[\"val_f1_emotion_episode\"].append(episode_f1_emotions)\n",
        "        history[\"val_f1_emotion_unrolled\"].append(unrolled_f1_emotions)\n",
        "\n",
        "    return history"
      ]
    },
    {
      "cell_type": "code",
      "execution_count": 47,
      "metadata": {
        "id": "kFMIoHXsGsTJ"
      },
      "outputs": [],
      "source": [
        "def show_results(history, plot=False):\n",
        "    print(\"RESULTS\")\n",
        "    print(f\"VAL ACC EMO: {history['val_acc_emo'][-1]:.3f}\")\n",
        "    print(f\"VAL ACC TRIG: {history['val_acc_trig'][-1]:.3f}\")\n",
        "    print(f\"VAL F1 TRIG UNROLLED: {history['val_f1_trigger_unrolled'][-1]:.3f}\")\n",
        "    print(f\"VAL F1 TRIG EPISODE: {history['val_f1_trigger_episode'][-1]:.3f}\")\n",
        "    print(f\"VAL F1 EMO UNROLLED: {history['val_f1_emotion_unrolled'][-1]:.3f}\")\n",
        "    print(f\"VAL F1 EMO EPISODE: {history['val_f1_emotion_episode'][-1]:.3f}\")\n",
        "    tmp = []\n",
        "    for h in history[\"train_losses\"]:\n",
        "        tmp.extend(h)\n",
        "    plt.plot(tmp)\n",
        "    plt.title(\"TRAIN LOSS\")"
      ]
    },
    {
      "cell_type": "code",
      "execution_count": 48,
      "metadata": {
        "id": "p-mBQdifay5v"
      },
      "outputs": [],
      "source": [
        "batch_size = 16 if not DEBUG_MODE else 2\n",
        "\n",
        "train_dl = torch.utils.data.DataLoader(\n",
        "    ds_train_tokenized,\n",
        "    batch_size=batch_size,\n",
        "    shuffle=True,\n",
        "    generator=gen,\n",
        ")\n",
        "validation_dl = torch.utils.data.DataLoader(\n",
        "    ds_val_tokenized,\n",
        "    batch_size=batch_size,\n",
        "    shuffle=True,\n",
        "    generator=gen,\n",
        ")"
      ]
    },
    {
      "cell_type": "markdown",
      "metadata": {
        "id": "SjkYlPyJay5v"
      },
      "source": [
        "## Training Custom loop"
      ]
    },
    {
      "cell_type": "code",
      "execution_count": 49,
      "metadata": {
        "id": "0KrlEPU6ay5v"
      },
      "outputs": [],
      "source": [
        "N_EPOCHS = 1 if not (DEBUG_MODE) else 2\n",
        "learning_rate = 5e-5"
      ]
    },
    {
      "cell_type": "code",
      "execution_count": 50,
      "metadata": {
        "colab": {
          "base_uri": "https://localhost:8080/",
          "height": 700,
          "referenced_widgets": [
            "3dfa5d93b8344358b053b58ab1df53e5",
            "63578a4e631544eda8e068ad9ed3dcd2",
            "4131e7be684641c395f371b48ba4069b",
            "c5a6727a96864c78a8536c8261d0e978",
            "15a6454a2cd54dda8b6baf4de5c12e99",
            "420f08d4e9094606ac876ace2ec94bd5",
            "549ca7d5cbad4ff7b389dbc5d5d131b8",
            "6acbaf1831a24653922f54baeae8f530",
            "15cd6ae4008d4da8a503c52143184840",
            "396e3244d6414473810157c110d9ffc4",
            "72eec654c5914af9ba295b36a94b3baf",
            "67f8c62612724748a7ec5908621ec0ee",
            "95d8c9696e064ccfa566287b4b0838a6",
            "294bdb92d67642859a5d5714776c7734",
            "e90e8b7683d74be284aa585ac674eac2",
            "fe2ef8c4f7164671bf3b78d8e541222c",
            "524b9079aac3451e81635bd4247479a1",
            "06340e7ee9864194b3d8282292074ff4",
            "9b475de65c6046628814ffa9156d404a",
            "207daa88790e4547bf27bdda246e70d3",
            "571268e2343e4493ac95dd8bdd090e3e",
            "c1d56ea44dfd45af8e7bc3b6c1e7ef6e"
          ]
        },
        "id": "HRZu4iFBQu_K",
        "outputId": "4288f000-5c61-4b19-d595-68590dac0016"
      },
      "outputs": [
        {
          "name": "stdout",
          "output_type": "stream",
          "text": [
            "Epoch 1/1\n"
          ]
        },
        {
          "data": {
            "application/vnd.jupyter.widget-view+json": {
              "model_id": "3dfa5d93b8344358b053b58ab1df53e5",
              "version_major": 2,
              "version_minor": 0
            },
            "text/plain": [
              "  0%|          | 0/1753 [00:00<?, ?it/s]"
            ]
          },
          "metadata": {},
          "output_type": "display_data"
        },
        {
          "data": {
            "application/vnd.jupyter.widget-view+json": {
              "model_id": "67f8c62612724748a7ec5908621ec0ee",
              "version_major": 2,
              "version_minor": 0
            },
            "text/plain": [
              "  0%|          | 0/219 [00:00<?, ?it/s]"
            ]
          },
          "metadata": {},
          "output_type": "display_data"
        },
        {
          "name": "stdout",
          "output_type": "stream",
          "text": [
            "train_loss=2.2633, val_loss=2.2608, train_acc_emo=0.4356, train_acc_tri=0.6475,val_acc_emo=0.4214, val_acc_tri=0.6445, \n",
            "RESULTS\n",
            "VAL ACC EMO: 0.421\n",
            "VAL ACC TRIG: 0.645\n",
            "VAL F1 TRIG UNROLLED: 0.505\n",
            "VAL F1 TRIG EPISODE: 0.665\n",
            "VAL F1 EMO UNROLLED: 0.250\n",
            "VAL F1 EMO EPISODE: 0.427\n"
          ]
        },
        {
          "data": {
            "image/png": "[encoded data removed]",
            "text/plain": [
              "<Figure size 640x480 with 1 Axes>"
            ]
          },
          "metadata": {},
          "output_type": "display_data"
        }
      ],
      "source": [
        "# FROZEN\n",
        "\n",
        "model_frozen, optimizer = setup(learning_rate=5e-5, frozen=True)\n",
        "\n",
        "history_frozen = train_eval(\n",
        "    train_dl,\n",
        "    validation_dl,\n",
        "    model=model_frozen,\n",
        "    optimizer=optimizer,\n",
        "    n_epochs=N_EPOCHS,\n",
        "    save_name=f\"test_model\",\n",
        ")\n",
        "\n",
        "show_results(history_frozen)"
      ]
    },
    {
      "cell_type": "code",
      "execution_count": 51,
      "metadata": {
        "id": "W5c1914CY7gf"
      },
      "outputs": [],
      "source": [
        "torch.save(model_frozen.state_dict(), Path(\"models/model_frozen.bin\"))"
      ]
    },
    {
      "cell_type": "code",
      "execution_count": 53,
      "metadata": {
        "colab": {
          "base_uri": "https://localhost:8080/",
          "height": 737,
          "referenced_widgets": [
            "0048c27f4e194b268d95d1e263f029cd",
            "d763de4d3b704ec9b8044c0236016b74",
            "bcec91fe8eab4a3fb63f76bc946a3d1b",
            "1f0f74f9d5ed4f519d9880654dbd2f51",
            "af7a27e6b7a94605b33a2473bf165788",
            "1c3919120286480695ceb06bb898471e",
            "71b5db6caa3440abb305114e7f819a57",
            "249f135abe37461ead8aae2cf262f887",
            "944e64ce56f54eb0bf2b7065b705d313",
            "e5b95fce71c24b3193526aaebbc8d558",
            "079739761ad944b2b79311dde0d26e28",
            "88179d038c294e2088cb4a0e580359a0",
            "d1b1f364122c441981698694df16ea6a",
            "a06916c330474b3f9daa30e440766f02",
            "276db9dd4ae94c6490a00e6080bf36e8",
            "7be799b9034c4e4abadd0a0ed1411aaf",
            "4d8bf0cbd3a94726a7fe67c41939c3d5",
            "9c4cbeeac83a428b9b46af88013f3696",
            "72135c83c984499eb6a57fe0eda0170d",
            "d9be772909b4442bb74a8a11cfa52945",
            "175742c65d444895a5f0e2337eb12962",
            "6618be6ea86041b5a8a94fb1f69e991c"
          ]
        },
        "id": "LV5E-KfnQu_L",
        "outputId": "2a1d74c3-2ca1-4e09-981b-aa41f03332b5"
      },
      "outputs": [
        {
          "name": "stderr",
          "output_type": "stream",
          "text": [
            "/usr/local/lib/python3.10/dist-packages/huggingface_hub/file_download.py:1132: FutureWarning: `resume_download` is deprecated and will be removed in version 1.0.0. Downloads always resume when possible. If you want to force a new download, use `force_download=True`.\n",
            "  warnings.warn(\n"
          ]
        },
        {
          "name": "stdout",
          "output_type": "stream",
          "text": [
            "Epoch 1/1\n"
          ]
        },
        {
          "data": {
            "application/vnd.jupyter.widget-view+json": {
              "model_id": "0048c27f4e194b268d95d1e263f029cd",
              "version_major": 2,
              "version_minor": 0
            },
            "text/plain": [
              "  0%|          | 0/1753 [00:00<?, ?it/s]"
            ]
          },
          "metadata": {},
          "output_type": "display_data"
        },
        {
          "data": {
            "application/vnd.jupyter.widget-view+json": {
              "model_id": "88179d038c294e2088cb4a0e580359a0",
              "version_major": 2,
              "version_minor": 0
            },
            "text/plain": [
              "  0%|          | 0/219 [00:00<?, ?it/s]"
            ]
          },
          "metadata": {},
          "output_type": "display_data"
        },
        {
          "name": "stdout",
          "output_type": "stream",
          "text": [
            "train_loss=1.5450, val_loss=0.9187, train_acc_emo=0.6762, train_acc_tri=0.7063,val_acc_emo=0.8281, val_acc_tri=0.8404, \n",
            "RESULTS\n",
            "VAL ACC EMO: 0.828\n",
            "VAL ACC TRIG: 0.840\n",
            "VAL F1 TRIG UNROLLED: 0.839\n",
            "VAL F1 TRIG EPISODE: 0.860\n",
            "VAL F1 EMO UNROLLED: 0.824\n",
            "VAL F1 EMO EPISODE: 0.845\n"
          ]
        },
        {
          "data": {
            "image/png": "[encoded data removed]",
            "text/plain": [
              "<Figure size 640x480 with 1 Axes>"
            ]
          },
          "metadata": {},
          "output_type": "display_data"
        }
      ],
      "source": [
        "# FULL\n",
        "\n",
        "model_full, optimizer = setup(learning_rate=learning_rate, frozen=False)\n",
        "\n",
        "history_full = train_eval(\n",
        "    train_dl,\n",
        "    validation_dl,\n",
        "    model=model_full,\n",
        "    optimizer=optimizer,\n",
        "    n_epochs=1,\n",
        "    save_name=f\"test_model\",\n",
        ")\n",
        "\n",
        "show_results(history_full)"
      ]
    },
    {
      "cell_type": "markdown",
      "metadata": {
        "id": "qa5ZS18AGsTK"
      },
      "source": [
        "## Weights"
      ]
    },
    {
      "cell_type": "code",
      "execution_count": 54,
      "metadata": {
        "colab": {
          "base_uri": "https://localhost:8080/"
        },
        "id": "ewmw1ux8GsTK",
        "outputId": "2aad3699-6d9c-446b-c8a6-95c5ff94ab83"
      },
      "outputs": [
        {
          "name": "stdout",
          "output_type": "stream",
          "text": [
            "['anger' 'disgust' 'fear' 'joy' 'neutral' 'sadness' 'surprise']\n",
            "weigts = [0.12021779 0.24291272 0.23587455 0.09295046 0.0487156  0.14897244\n",
            " 0.11035651]\n"
          ]
        }
      ],
      "source": [
        "emotion_weights = compute_class_weights(df_train[\"emotion\"], root=True, normalize=True)"
      ]
    },
    {
      "cell_type": "code",
      "execution_count": 55,
      "metadata": {
        "colab": {
          "base_uri": "https://localhost:8080/",
          "height": 737,
          "referenced_widgets": [
            "b61063eb4634467aa8342ab157d4d0a6",
            "30a456f0f6ca411f9944217d054afd41",
            "c1c69b004e3f49ea9950828ed83c833f",
            "c3b86d2c789543f29ccb2dc419d9a209",
            "3605c5f929ef4c81a385bca1dc88c7fc",
            "8bf4a473ab6740a095567c996bbd23cf",
            "e89c2518a14842d8ad7a240d5351991c",
            "62a9fbd656754898bf85204a035ac5e7",
            "d1aef72f18dc443dbb6631d0d6dcef05",
            "110fbbe150134d59849b5518f8d75249",
            "761b975a5c9c40fa8e8d190f9257b362",
            "1cc70564ba554229a0d7a38e191785aa",
            "ba08624e161c4ee19c25261fb63153c1",
            "1ec019536a3141e395816a2ed861a6da",
            "4ae99171255b473fbad949d288564f38",
            "b2defd9acdea4586b6c8b934e86892a0",
            "c59ec37bfcdd4998871e909c47ac7542",
            "b5455675f7be4f7fa4b808ebed83df51",
            "5ac34a2bf90f4945972403b64b62188c",
            "e6d2acc31e6f46faa9d234620141cdb0",
            "f4937649dabf4338b46fa837684ec164",
            "8f8d2191d490471fa4ea53961f0c8efd"
          ]
        },
        "id": "v33CUOSMGsTK",
        "outputId": "eda10e4a-4dc2-46ba-bbda-f9ada9b53687"
      },
      "outputs": [
        {
          "name": "stderr",
          "output_type": "stream",
          "text": [
            "/usr/local/lib/python3.10/dist-packages/huggingface_hub/file_download.py:1132: FutureWarning: `resume_download` is deprecated and will be removed in version 1.0.0. Downloads always resume when possible. If you want to force a new download, use `force_download=True`.\n",
            "  warnings.warn(\n"
          ]
        },
        {
          "name": "stdout",
          "output_type": "stream",
          "text": [
            "Epoch 1/1\n"
          ]
        },
        {
          "data": {
            "application/vnd.jupyter.widget-view+json": {
              "model_id": "b61063eb4634467aa8342ab157d4d0a6",
              "version_major": 2,
              "version_minor": 0
            },
            "text/plain": [
              "  0%|          | 0/1753 [00:00<?, ?it/s]"
            ]
          },
          "metadata": {},
          "output_type": "display_data"
        },
        {
          "data": {
            "application/vnd.jupyter.widget-view+json": {
              "model_id": "1cc70564ba554229a0d7a38e191785aa",
              "version_major": 2,
              "version_minor": 0
            },
            "text/plain": [
              "  0%|          | 0/219 [00:00<?, ?it/s]"
            ]
          },
          "metadata": {},
          "output_type": "display_data"
        },
        {
          "name": "stdout",
          "output_type": "stream",
          "text": [
            "train_loss=0.8338, val_loss=0.8375, train_acc_emo=0.3747, train_acc_tri=0.6412,val_acc_emo=0.4168, val_acc_tri=0.6422, \n",
            "RESULTS\n",
            "VAL ACC EMO: 0.417\n",
            "VAL ACC TRIG: 0.642\n",
            "VAL F1 TRIG UNROLLED: 0.515\n",
            "VAL F1 TRIG EPISODE: 0.664\n",
            "VAL F1 EMO UNROLLED: 0.269\n",
            "VAL F1 EMO EPISODE: 0.403\n"
          ]
        },
        {
          "data": {
            "image/png": "[encoded data removed]",
            "text/plain": [
              "<Figure size 640x480 with 1 Axes>"
            ]
          },
          "metadata": {},
          "output_type": "display_data"
        }
      ],
      "source": [
        "# FROZEN weights\n",
        "model_frozen_weights, optimizer = setup(learning_rate=learning_rate, frozen=True)\n",
        "\n",
        "history_frozen_weights = train_eval(\n",
        "    train_dl,\n",
        "    validation_dl,\n",
        "    model=model_frozen_weights,\n",
        "    optimizer=optimizer,\n",
        "    n_epochs=N_EPOCHS,\n",
        "    save_name=f\"test_model\",\n",
        "    emotion_weights=emotion_weights,\n",
        ")\n",
        "\n",
        "show_results(history_frozen_weights)"
      ]
    },
    {
      "cell_type": "code",
      "execution_count": 56,
      "metadata": {
        "colab": {
          "base_uri": "https://localhost:8080/",
          "height": 737,
          "referenced_widgets": [
            "0e90fcf0b16141e39044d0bf9bc63156",
            "e9a5a1add4a84bd1a948fd33ec671fde",
            "3ccf07afd0254de3b684fbad7e5f8bec",
            "112ead3d5938428a9cac1564d4692fd1",
            "f5d8a1c0a0224d57975bfab1b953ca6b",
            "ebb3e2dee80b463cbe61f5b2f7deb84a",
            "bd7cfb03afe8472690c920530d5e07d0",
            "5da7fa47ff274f5fad97fd6d7224c10c",
            "ef07f965151f4eb781bc34c29eb51ff7",
            "8c08e92f188f4966a9f54b570e9334a2",
            "3a8da1a8179c4b0dab5c697689a68c53",
            "d5f91d82ddb042b1b97b1154f7003615",
            "900d449b3a10476d87b93d0b1e892ae8",
            "1a6219674a36458698cff03ab55444c1",
            "4508ee8c22b84e81a8e143f446f2597a",
            "de737ef5e39344ecb4ca1bcbbed9460f",
            "3346b824887e44ebbc072bf6c5270149",
            "a83afa715e3541a6a1d2f899b6f2786e",
            "53017adf37344293843d5e323b09b309",
            "a368e38d426e41ddb1c78ebc4117a5d4",
            "c5db9b4be3ef4bb5818c867e74794e34",
            "ce25ba1c43a24f188a194fafdc9667f7"
          ]
        },
        "id": "9EJhndFXGsTK",
        "outputId": "37bc0600-4133-4ce4-d22b-acd888ee79e0"
      },
      "outputs": [
        {
          "name": "stderr",
          "output_type": "stream",
          "text": [
            "/usr/local/lib/python3.10/dist-packages/huggingface_hub/file_download.py:1132: FutureWarning: `resume_download` is deprecated and will be removed in version 1.0.0. Downloads always resume when possible. If you want to force a new download, use `force_download=True`.\n",
            "  warnings.warn(\n"
          ]
        },
        {
          "name": "stdout",
          "output_type": "stream",
          "text": [
            "Epoch 1/1\n"
          ]
        },
        {
          "data": {
            "application/vnd.jupyter.widget-view+json": {
              "model_id": "0e90fcf0b16141e39044d0bf9bc63156",
              "version_major": 2,
              "version_minor": 0
            },
            "text/plain": [
              "  0%|          | 0/1753 [00:00<?, ?it/s]"
            ]
          },
          "metadata": {},
          "output_type": "display_data"
        },
        {
          "data": {
            "application/vnd.jupyter.widget-view+json": {
              "model_id": "d5f91d82ddb042b1b97b1154f7003615",
              "version_major": 2,
              "version_minor": 0
            },
            "text/plain": [
              "  0%|          | 0/219 [00:00<?, ?it/s]"
            ]
          },
          "metadata": {},
          "output_type": "display_data"
        },
        {
          "name": "stdout",
          "output_type": "stream",
          "text": [
            "train_loss=0.7394, val_loss=0.5163, train_acc_emo=0.3880, train_acc_tri=0.7033,val_acc_emo=0.4045, val_acc_tri=0.8502, \n",
            "RESULTS\n",
            "VAL ACC EMO: 0.404\n",
            "VAL ACC TRIG: 0.850\n",
            "VAL F1 TRIG UNROLLED: 0.851\n",
            "VAL F1 TRIG EPISODE: 0.825\n",
            "VAL F1 EMO UNROLLED: 0.380\n",
            "VAL F1 EMO EPISODE: 0.393\n"
          ]
        },
        {
          "data": {
            "image/png": "[encoded data removed]",
            "text/plain": [
              "<Figure size 640x480 with 1 Axes>"
            ]
          },
          "metadata": {},
          "output_type": "display_data"
        }
      ],
      "source": [
        "# FULL weights\n",
        "model_full_weights, optimizer = setup(learning_rate=learning_rate, frozen=False)\n",
        "\n",
        "history_full_weights = train_eval(\n",
        "    train_dl,\n",
        "    validation_dl,\n",
        "    model=model_full_weights,\n",
        "    optimizer=optimizer,\n",
        "    n_epochs=N_EPOCHS,\n",
        "    save_name=f\"test_model\",\n",
        "    emotion_weights=emotion_weights,\n",
        ")\n",
        "\n",
        "show_results(history_full_weights)"
      ]
    },
    {
      "cell_type": "markdown",
      "metadata": {
        "id": "EygQk3Q3ay5w"
      },
      "source": [
        "## Training with Trainer Class"
      ]
    },
    {
      "cell_type": "markdown",
      "metadata": {},
      "source": [
        "Several tests were done trying to train the model using a custom Trainer Class. The following code was not use for the report"
      ]
    },
    {
      "cell_type": "code",
      "execution_count": 57,
      "metadata": {
        "id": "WY5SyGsaay5w"
      },
      "outputs": [],
      "source": [
        "class BertTrainer(Trainer):\n",
        "    def __init__(self, model, training_args, train_ds, eval_ds, metrics):\n",
        "        super().__init__(model, training_args, train_ds, eval_ds, metrics)\n",
        "\n",
        "    def compute_loss(self, model, inputs, return_outputs=False):\n",
        "\n",
        "        ids = inputs[\"input_ids\"]\n",
        "        mask = inputs[\"attention_mask\"]\n",
        "        emotions_labels = inputs[\"emotions\"]\n",
        "        triggers_labels = inputs[\"triggers\"]\n",
        "        output_emotions, output_triggers = model(ids=ids, mask=mask)\n",
        "\n",
        "        custom_loss = self.loss_fn(\n",
        "            output_emotions, output_triggers, emotions_labels, triggers_labels\n",
        "        )\n",
        "\n",
        "        return (\n",
        "            (custom_loss, output_emotions, output_triggers)\n",
        "            if return_outputs\n",
        "            else custom_loss\n",
        "        )\n",
        "\n",
        "    def loss_fn(outputs_emotions, outputs_triggers, emotions_labels, triggers_labels):\n",
        "        return torch.nn.CrossEntropyLoss(\n",
        "            outputs_emotions, emotions_labels\n",
        "        ) + torch.nn.BCELoss(outputs_triggers, triggers_labels)"
      ]
    },
    {
      "cell_type": "code",
      "execution_count": 58,
      "metadata": {
        "id": "oY34AUnn_A-5"
      },
      "outputs": [],
      "source": [
        "training_args = TrainingArguments(\n",
        "    output_dir=\"\\\\test\",\n",
        "    do_train=True,\n",
        "    do_eval=True,\n",
        "    # evaluate_during_training=True,\n",
        "    learning_rate=5e-5,\n",
        "    num_train_epochs=8,\n",
        "    # seed=42,\n",
        ")"
      ]
    },
    {
      "cell_type": "code",
      "execution_count": 59,
      "metadata": {
        "id": "NN1wEj6C_A-5"
      },
      "outputs": [],
      "source": [
        "trainer = Trainer(\n",
        "    model=model_full,\n",
        "    args=training_args,\n",
        "    # data_collator=DataCollatorWithPadding(tokenizer=tokenizer),\n",
        "    train_dataset=train_dl,\n",
        "    eval_dataset=validation_dl,\n",
        "    compute_metrics=sequence_f1,\n",
        "    tokenizer=tokenizer,\n",
        ")"
      ]
    },
    {
      "cell_type": "code",
      "execution_count": null,
      "metadata": {
        "colab": {
          "base_uri": "https://localhost:8080/",
          "height": 335
        },
        "id": "jXOTSg_3ay5w",
        "outputId": "8c77230a-1f87-4b39-fd2f-a21b7ab0283d"
      },
      "outputs": [],
      "source": [
        "trainer.train()"
      ]
    }
  ],
  "metadata": {
    "accelerator": "GPU",
    "colab": {
      "gpuType": "L4",
      "provenance": []
    },
    "kernelspec": {
      "display_name": "Python 3",
      "name": "python3"
    },
    "language_info": {
      "codemirror_mode": {
        "name": "ipython",
        "version": 3
      },
      "file_extension": ".py",
      "mimetype": "text/x-python",
      "name": "python",
      "nbconvert_exporter": "python",
      "pygments_lexer": "ipython3",
      "version": "3.9.18"
    },
    "widgets": {
      "application/vnd.jupyter.widget-state+json": {
        "0048c27f4e194b268d95d1e263f029cd": {
          "model_module": "@jupyter-widgets/controls",
          "model_module_version": "1.5.0",
          "model_name": "HBoxModel",
          "state": {
            "_dom_classes": [],
            "_model_module": "@jupyter-widgets/controls",
            "_model_module_version": "1.5.0",
            "_model_name": "HBoxModel",
            "_view_count": null,
            "_view_module": "@jupyter-widgets/controls",
            "_view_module_version": "1.5.0",
            "_view_name": "HBoxView",
            "box_style": "",
            "children": [
              "IPY_MODEL_d763de4d3b704ec9b8044c0236016b74",
              "IPY_MODEL_bcec91fe8eab4a3fb63f76bc946a3d1b",
              "IPY_MODEL_1f0f74f9d5ed4f519d9880654dbd2f51"
            ],
            "layout": "IPY_MODEL_af7a27e6b7a94605b33a2473bf165788"
          }
        },
        "010b2e4456df46c79a4f92fb091ebd5d": {
          "model_module": "@jupyter-widgets/base",
          "model_module_version": "1.2.0",
          "model_name": "LayoutModel",
          "state": {
            "_model_module": "@jupyter-widgets/base",
            "_model_module_version": "1.2.0",
            "_model_name": "LayoutModel",
            "_view_count": null,
            "_view_module": "@jupyter-widgets/base",
            "_view_module_version": "1.2.0",
            "_view_name": "LayoutView",
            "align_content": null,
            "align_items": null,
            "align_self": null,
            "border": null,
            "bottom": null,
            "display": null,
            "flex": null,
            "flex_flow": null,
            "grid_area": null,
            "grid_auto_columns": null,
            "grid_auto_flow": null,
            "grid_auto_rows": null,
            "grid_column": null,
            "grid_gap": null,
            "grid_row": null,
            "grid_template_areas": null,
            "grid_template_columns": null,
            "grid_template_rows": null,
            "height": null,
            "justify_content": null,
            "justify_items": null,
            "left": null,
            "margin": null,
            "max_height": null,
            "max_width": null,
            "min_height": null,
            "min_width": null,
            "object_fit": null,
            "object_position": null,
            "order": null,
            "overflow": null,
            "overflow_x": null,
            "overflow_y": null,
            "padding": null,
            "right": null,
            "top": null,
            "visibility": null,
            "width": null
          }
        },
        "06340e7ee9864194b3d8282292074ff4": {
          "model_module": "@jupyter-widgets/controls",
          "model_module_version": "1.5.0",
          "model_name": "DescriptionStyleModel",
          "state": {
            "_model_module": "@jupyter-widgets/controls",
            "_model_module_version": "1.5.0",
            "_model_name": "DescriptionStyleModel",
            "_view_count": null,
            "_view_module": "@jupyter-widgets/base",
            "_view_module_version": "1.2.0",
            "_view_name": "StyleView",
            "description_width": ""
          }
        },
        "079739761ad944b2b79311dde0d26e28": {
          "model_module": "@jupyter-widgets/controls",
          "model_module_version": "1.5.0",
          "model_name": "DescriptionStyleModel",
          "state": {
            "_model_module": "@jupyter-widgets/controls",
            "_model_module_version": "1.5.0",
            "_model_name": "DescriptionStyleModel",
            "_view_count": null,
            "_view_module": "@jupyter-widgets/base",
            "_view_module_version": "1.2.0",
            "_view_name": "StyleView",
            "description_width": ""
          }
        },
        "0b04f19feb7d43e9b65da23dcb2c955a": {
          "model_module": "@jupyter-widgets/base",
          "model_module_version": "1.2.0",
          "model_name": "LayoutModel",
          "state": {
            "_model_module": "@jupyter-widgets/base",
            "_model_module_version": "1.2.0",
            "_model_name": "LayoutModel",
            "_view_count": null,
            "_view_module": "@jupyter-widgets/base",
            "_view_module_version": "1.2.0",
            "_view_name": "LayoutView",
            "align_content": null,
            "align_items": null,
            "align_self": null,
            "border": null,
            "bottom": null,
            "display": null,
            "flex": null,
            "flex_flow": null,
            "grid_area": null,
            "grid_auto_columns": null,
            "grid_auto_flow": null,
            "grid_auto_rows": null,
            "grid_column": null,
            "grid_gap": null,
            "grid_row": null,
            "grid_template_areas": null,
            "grid_template_columns": null,
            "grid_template_rows": null,
            "height": null,
            "justify_content": null,
            "justify_items": null,
            "left": null,
            "margin": null,
            "max_height": null,
            "max_width": null,
            "min_height": null,
            "min_width": null,
            "object_fit": null,
            "object_position": null,
            "order": null,
            "overflow": null,
            "overflow_x": null,
            "overflow_y": null,
            "padding": null,
            "right": null,
            "top": null,
            "visibility": null,
            "width": null
          }
        },
        "0b9d7d4fa58444b19a55b41fde9d6b15": {
          "model_module": "@jupyter-widgets/base",
          "model_module_version": "1.2.0",
          "model_name": "LayoutModel",
          "state": {
            "_model_module": "@jupyter-widgets/base",
            "_model_module_version": "1.2.0",
            "_model_name": "LayoutModel",
            "_view_count": null,
            "_view_module": "@jupyter-widgets/base",
            "_view_module_version": "1.2.0",
            "_view_name": "LayoutView",
            "align_content": null,
            "align_items": null,
            "align_self": null,
            "border": null,
            "bottom": null,
            "display": null,
            "flex": null,
            "flex_flow": null,
            "grid_area": null,
            "grid_auto_columns": null,
            "grid_auto_flow": null,
            "grid_auto_rows": null,
            "grid_column": null,
            "grid_gap": null,
            "grid_row": null,
            "grid_template_areas": null,
            "grid_template_columns": null,
            "grid_template_rows": null,
            "height": null,
            "justify_content": null,
            "justify_items": null,
            "left": null,
            "margin": null,
            "max_height": null,
            "max_width": null,
            "min_height": null,
            "min_width": null,
            "object_fit": null,
            "object_position": null,
            "order": null,
            "overflow": null,
            "overflow_x": null,
            "overflow_y": null,
            "padding": null,
            "right": null,
            "top": null,
            "visibility": null,
            "width": null
          }
        },
        "0e90fcf0b16141e39044d0bf9bc63156": {
          "model_module": "@jupyter-widgets/controls",
          "model_module_version": "1.5.0",
          "model_name": "HBoxModel",
          "state": {
            "_dom_classes": [],
            "_model_module": "@jupyter-widgets/controls",
            "_model_module_version": "1.5.0",
            "_model_name": "HBoxModel",
            "_view_count": null,
            "_view_module": "@jupyter-widgets/controls",
            "_view_module_version": "1.5.0",
            "_view_name": "HBoxView",
            "box_style": "",
            "children": [
              "IPY_MODEL_e9a5a1add4a84bd1a948fd33ec671fde",
              "IPY_MODEL_3ccf07afd0254de3b684fbad7e5f8bec",
              "IPY_MODEL_112ead3d5938428a9cac1564d4692fd1"
            ],
            "layout": "IPY_MODEL_f5d8a1c0a0224d57975bfab1b953ca6b"
          }
        },
        "110fbbe150134d59849b5518f8d75249": {
          "model_module": "@jupyter-widgets/base",
          "model_module_version": "1.2.0",
          "model_name": "LayoutModel",
          "state": {
            "_model_module": "@jupyter-widgets/base",
            "_model_module_version": "1.2.0",
            "_model_name": "LayoutModel",
            "_view_count": null,
            "_view_module": "@jupyter-widgets/base",
            "_view_module_version": "1.2.0",
            "_view_name": "LayoutView",
            "align_content": null,
            "align_items": null,
            "align_self": null,
            "border": null,
            "bottom": null,
            "display": null,
            "flex": null,
            "flex_flow": null,
            "grid_area": null,
            "grid_auto_columns": null,
            "grid_auto_flow": null,
            "grid_auto_rows": null,
            "grid_column": null,
            "grid_gap": null,
            "grid_row": null,
            "grid_template_areas": null,
            "grid_template_columns": null,
            "grid_template_rows": null,
            "height": null,
            "justify_content": null,
            "justify_items": null,
            "left": null,
            "margin": null,
            "max_height": null,
            "max_width": null,
            "min_height": null,
            "min_width": null,
            "object_fit": null,
            "object_position": null,
            "order": null,
            "overflow": null,
            "overflow_x": null,
            "overflow_y": null,
            "padding": null,
            "right": null,
            "top": null,
            "visibility": null,
            "width": null
          }
        },
        "112ead3d5938428a9cac1564d4692fd1": {
          "model_module": "@jupyter-widgets/controls",
          "model_module_version": "1.5.0",
          "model_name": "HTMLModel",
          "state": {
            "_dom_classes": [],
            "_model_module": "@jupyter-widgets/controls",
            "_model_module_version": "1.5.0",
            "_model_name": "HTMLModel",
            "_view_count": null,
            "_view_module": "@jupyter-widgets/controls",
            "_view_module_version": "1.5.0",
            "_view_name": "HTMLView",
            "description": "",
            "description_tooltip": null,
            "layout": "IPY_MODEL_8c08e92f188f4966a9f54b570e9334a2",
            "placeholder": "​",
            "style": "IPY_MODEL_3a8da1a8179c4b0dab5c697689a68c53",
            "value": " 1753/1753 [10:38&lt;00:00,  3.42it/s, batch_loss=0.196]"
          }
        },
        "14b5f71579aa43a38d14581ebbb49182": {
          "model_module": "@jupyter-widgets/base",
          "model_module_version": "1.2.0",
          "model_name": "LayoutModel",
          "state": {
            "_model_module": "@jupyter-widgets/base",
            "_model_module_version": "1.2.0",
            "_model_name": "LayoutModel",
            "_view_count": null,
            "_view_module": "@jupyter-widgets/base",
            "_view_module_version": "1.2.0",
            "_view_name": "LayoutView",
            "align_content": null,
            "align_items": null,
            "align_self": null,
            "border": null,
            "bottom": null,
            "display": null,
            "flex": null,
            "flex_flow": null,
            "grid_area": null,
            "grid_auto_columns": null,
            "grid_auto_flow": null,
            "grid_auto_rows": null,
            "grid_column": null,
            "grid_gap": null,
            "grid_row": null,
            "grid_template_areas": null,
            "grid_template_columns": null,
            "grid_template_rows": null,
            "height": null,
            "justify_content": null,
            "justify_items": null,
            "left": null,
            "margin": null,
            "max_height": null,
            "max_width": null,
            "min_height": null,
            "min_width": null,
            "object_fit": null,
            "object_position": null,
            "order": null,
            "overflow": null,
            "overflow_x": null,
            "overflow_y": null,
            "padding": null,
            "right": null,
            "top": null,
            "visibility": null,
            "width": null
          }
        },
        "15150022c6de489d9688bdba605eaaa7": {
          "model_module": "@jupyter-widgets/controls",
          "model_module_version": "1.5.0",
          "model_name": "HTMLModel",
          "state": {
            "_dom_classes": [],
            "_model_module": "@jupyter-widgets/controls",
            "_model_module_version": "1.5.0",
            "_model_name": "HTMLModel",
            "_view_count": null,
            "_view_module": "@jupyter-widgets/controls",
            "_view_module_version": "1.5.0",
            "_view_name": "HTMLView",
            "description": "",
            "description_tooltip": null,
            "layout": "IPY_MODEL_2cb617dc02be4722b75d8f09f53863ef",
            "placeholder": "​",
            "style": "IPY_MODEL_8c0023c4374d4357959cc8bb1f04ce8e",
            "value": "Map: 100%"
          }
        },
        "15a6454a2cd54dda8b6baf4de5c12e99": {
          "model_module": "@jupyter-widgets/base",
          "model_module_version": "1.2.0",
          "model_name": "LayoutModel",
          "state": {
            "_model_module": "@jupyter-widgets/base",
            "_model_module_version": "1.2.0",
            "_model_name": "LayoutModel",
            "_view_count": null,
            "_view_module": "@jupyter-widgets/base",
            "_view_module_version": "1.2.0",
            "_view_name": "LayoutView",
            "align_content": null,
            "align_items": null,
            "align_self": null,
            "border": null,
            "bottom": null,
            "display": null,
            "flex": null,
            "flex_flow": null,
            "grid_area": null,
            "grid_auto_columns": null,
            "grid_auto_flow": null,
            "grid_auto_rows": null,
            "grid_column": null,
            "grid_gap": null,
            "grid_row": null,
            "grid_template_areas": null,
            "grid_template_columns": null,
            "grid_template_rows": null,
            "height": null,
            "justify_content": null,
            "justify_items": null,
            "left": null,
            "margin": null,
            "max_height": null,
            "max_width": null,
            "min_height": null,
            "min_width": null,
            "object_fit": null,
            "object_position": null,
            "order": null,
            "overflow": null,
            "overflow_x": null,
            "overflow_y": null,
            "padding": null,
            "right": null,
            "top": null,
            "visibility": null,
            "width": null
          }
        },
        "15cd6ae4008d4da8a503c52143184840": {
          "model_module": "@jupyter-widgets/controls",
          "model_module_version": "1.5.0",
          "model_name": "ProgressStyleModel",
          "state": {
            "_model_module": "@jupyter-widgets/controls",
            "_model_module_version": "1.5.0",
            "_model_name": "ProgressStyleModel",
            "_view_count": null,
            "_view_module": "@jupyter-widgets/base",
            "_view_module_version": "1.2.0",
            "_view_name": "StyleView",
            "bar_color": "steelblue",
            "description_width": ""
          }
        },
        "175742c65d444895a5f0e2337eb12962": {
          "model_module": "@jupyter-widgets/base",
          "model_module_version": "1.2.0",
          "model_name": "LayoutModel",
          "state": {
            "_model_module": "@jupyter-widgets/base",
            "_model_module_version": "1.2.0",
            "_model_name": "LayoutModel",
            "_view_count": null,
            "_view_module": "@jupyter-widgets/base",
            "_view_module_version": "1.2.0",
            "_view_name": "LayoutView",
            "align_content": null,
            "align_items": null,
            "align_self": null,
            "border": null,
            "bottom": null,
            "display": null,
            "flex": null,
            "flex_flow": null,
            "grid_area": null,
            "grid_auto_columns": null,
            "grid_auto_flow": null,
            "grid_auto_rows": null,
            "grid_column": null,
            "grid_gap": null,
            "grid_row": null,
            "grid_template_areas": null,
            "grid_template_columns": null,
            "grid_template_rows": null,
            "height": null,
            "justify_content": null,
            "justify_items": null,
            "left": null,
            "margin": null,
            "max_height": null,
            "max_width": null,
            "min_height": null,
            "min_width": null,
            "object_fit": null,
            "object_position": null,
            "order": null,
            "overflow": null,
            "overflow_x": null,
            "overflow_y": null,
            "padding": null,
            "right": null,
            "top": null,
            "visibility": null,
            "width": null
          }
        },
        "17f46c1da4804504bf6072d4d47b38ba": {
          "model_module": "@jupyter-widgets/base",
          "model_module_version": "1.2.0",
          "model_name": "LayoutModel",
          "state": {
            "_model_module": "@jupyter-widgets/base",
            "_model_module_version": "1.2.0",
            "_model_name": "LayoutModel",
            "_view_count": null,
            "_view_module": "@jupyter-widgets/base",
            "_view_module_version": "1.2.0",
            "_view_name": "LayoutView",
            "align_content": null,
            "align_items": null,
            "align_self": null,
            "border": null,
            "bottom": null,
            "display": null,
            "flex": null,
            "flex_flow": null,
            "grid_area": null,
            "grid_auto_columns": null,
            "grid_auto_flow": null,
            "grid_auto_rows": null,
            "grid_column": null,
            "grid_gap": null,
            "grid_row": null,
            "grid_template_areas": null,
            "grid_template_columns": null,
            "grid_template_rows": null,
            "height": null,
            "justify_content": null,
            "justify_items": null,
            "left": null,
            "margin": null,
            "max_height": null,
            "max_width": null,
            "min_height": null,
            "min_width": null,
            "object_fit": null,
            "object_position": null,
            "order": null,
            "overflow": null,
            "overflow_x": null,
            "overflow_y": null,
            "padding": null,
            "right": null,
            "top": null,
            "visibility": null,
            "width": null
          }
        },
        "1a6219674a36458698cff03ab55444c1": {
          "model_module": "@jupyter-widgets/controls",
          "model_module_version": "1.5.0",
          "model_name": "FloatProgressModel",
          "state": {
            "_dom_classes": [],
            "_model_module": "@jupyter-widgets/controls",
            "_model_module_version": "1.5.0",
            "_model_name": "FloatProgressModel",
            "_view_count": null,
            "_view_module": "@jupyter-widgets/controls",
            "_view_module_version": "1.5.0",
            "_view_name": "ProgressView",
            "bar_style": "success",
            "description": "",
            "description_tooltip": null,
            "layout": "IPY_MODEL_53017adf37344293843d5e323b09b309",
            "max": 219,
            "min": 0,
            "orientation": "horizontal",
            "style": "IPY_MODEL_a368e38d426e41ddb1c78ebc4117a5d4",
            "value": 219
          }
        },
        "1c3919120286480695ceb06bb898471e": {
          "model_module": "@jupyter-widgets/base",
          "model_module_version": "1.2.0",
          "model_name": "LayoutModel",
          "state": {
            "_model_module": "@jupyter-widgets/base",
            "_model_module_version": "1.2.0",
            "_model_name": "LayoutModel",
            "_view_count": null,
            "_view_module": "@jupyter-widgets/base",
            "_view_module_version": "1.2.0",
            "_view_name": "LayoutView",
            "align_content": null,
            "align_items": null,
            "align_self": null,
            "border": null,
            "bottom": null,
            "display": null,
            "flex": null,
            "flex_flow": null,
            "grid_area": null,
            "grid_auto_columns": null,
            "grid_auto_flow": null,
            "grid_auto_rows": null,
            "grid_column": null,
            "grid_gap": null,
            "grid_row": null,
            "grid_template_areas": null,
            "grid_template_columns": null,
            "grid_template_rows": null,
            "height": null,
            "justify_content": null,
            "justify_items": null,
            "left": null,
            "margin": null,
            "max_height": null,
            "max_width": null,
            "min_height": null,
            "min_width": null,
            "object_fit": null,
            "object_position": null,
            "order": null,
            "overflow": null,
            "overflow_x": null,
            "overflow_y": null,
            "padding": null,
            "right": null,
            "top": null,
            "visibility": null,
            "width": null
          }
        },
        "1cc70564ba554229a0d7a38e191785aa": {
          "model_module": "@jupyter-widgets/controls",
          "model_module_version": "1.5.0",
          "model_name": "HBoxModel",
          "state": {
            "_dom_classes": [],
            "_model_module": "@jupyter-widgets/controls",
            "_model_module_version": "1.5.0",
            "_model_name": "HBoxModel",
            "_view_count": null,
            "_view_module": "@jupyter-widgets/controls",
            "_view_module_version": "1.5.0",
            "_view_name": "HBoxView",
            "box_style": "",
            "children": [
              "IPY_MODEL_ba08624e161c4ee19c25261fb63153c1",
              "IPY_MODEL_1ec019536a3141e395816a2ed861a6da",
              "IPY_MODEL_4ae99171255b473fbad949d288564f38"
            ],
            "layout": "IPY_MODEL_b2defd9acdea4586b6c8b934e86892a0"
          }
        },
        "1ec019536a3141e395816a2ed861a6da": {
          "model_module": "@jupyter-widgets/controls",
          "model_module_version": "1.5.0",
          "model_name": "FloatProgressModel",
          "state": {
            "_dom_classes": [],
            "_model_module": "@jupyter-widgets/controls",
            "_model_module_version": "1.5.0",
            "_model_name": "FloatProgressModel",
            "_view_count": null,
            "_view_module": "@jupyter-widgets/controls",
            "_view_module_version": "1.5.0",
            "_view_name": "ProgressView",
            "bar_style": "success",
            "description": "",
            "description_tooltip": null,
            "layout": "IPY_MODEL_5ac34a2bf90f4945972403b64b62188c",
            "max": 219,
            "min": 0,
            "orientation": "horizontal",
            "style": "IPY_MODEL_e6d2acc31e6f46faa9d234620141cdb0",
            "value": 219
          }
        },
        "1f0f74f9d5ed4f519d9880654dbd2f51": {
          "model_module": "@jupyter-widgets/controls",
          "model_module_version": "1.5.0",
          "model_name": "HTMLModel",
          "state": {
            "_dom_classes": [],
            "_model_module": "@jupyter-widgets/controls",
            "_model_module_version": "1.5.0",
            "_model_name": "HTMLModel",
            "_view_count": null,
            "_view_module": "@jupyter-widgets/controls",
            "_view_module_version": "1.5.0",
            "_view_name": "HTMLView",
            "description": "",
            "description_tooltip": null,
            "layout": "IPY_MODEL_e5b95fce71c24b3193526aaebbc8d558",
            "placeholder": "​",
            "style": "IPY_MODEL_079739761ad944b2b79311dde0d26e28",
            "value": " 1753/1753 [10:39&lt;00:00,  3.41it/s, batch_loss=1.88]"
          }
        },
        "207daa88790e4547bf27bdda246e70d3": {
          "model_module": "@jupyter-widgets/controls",
          "model_module_version": "1.5.0",
          "model_name": "ProgressStyleModel",
          "state": {
            "_model_module": "@jupyter-widgets/controls",
            "_model_module_version": "1.5.0",
            "_model_name": "ProgressStyleModel",
            "_view_count": null,
            "_view_module": "@jupyter-widgets/base",
            "_view_module_version": "1.2.0",
            "_view_name": "StyleView",
            "bar_color": "steelblue",
            "description_width": ""
          }
        },
        "249f135abe37461ead8aae2cf262f887": {
          "model_module": "@jupyter-widgets/base",
          "model_module_version": "1.2.0",
          "model_name": "LayoutModel",
          "state": {
            "_model_module": "@jupyter-widgets/base",
            "_model_module_version": "1.2.0",
            "_model_name": "LayoutModel",
            "_view_count": null,
            "_view_module": "@jupyter-widgets/base",
            "_view_module_version": "1.2.0",
            "_view_name": "LayoutView",
            "align_content": null,
            "align_items": null,
            "align_self": null,
            "border": null,
            "bottom": null,
            "display": null,
            "flex": null,
            "flex_flow": null,
            "grid_area": null,
            "grid_auto_columns": null,
            "grid_auto_flow": null,
            "grid_auto_rows": null,
            "grid_column": null,
            "grid_gap": null,
            "grid_row": null,
            "grid_template_areas": null,
            "grid_template_columns": null,
            "grid_template_rows": null,
            "height": null,
            "justify_content": null,
            "justify_items": null,
            "left": null,
            "margin": null,
            "max_height": null,
            "max_width": null,
            "min_height": null,
            "min_width": null,
            "object_fit": null,
            "object_position": null,
            "order": null,
            "overflow": null,
            "overflow_x": null,
            "overflow_y": null,
            "padding": null,
            "right": null,
            "top": null,
            "visibility": null,
            "width": null
          }
        },
        "276db9dd4ae94c6490a00e6080bf36e8": {
          "model_module": "@jupyter-widgets/controls",
          "model_module_version": "1.5.0",
          "model_name": "HTMLModel",
          "state": {
            "_dom_classes": [],
            "_model_module": "@jupyter-widgets/controls",
            "_model_module_version": "1.5.0",
            "_model_name": "HTMLModel",
            "_view_count": null,
            "_view_module": "@jupyter-widgets/controls",
            "_view_module_version": "1.5.0",
            "_view_name": "HTMLView",
            "description": "",
            "description_tooltip": null,
            "layout": "IPY_MODEL_175742c65d444895a5f0e2337eb12962",
            "placeholder": "​",
            "style": "IPY_MODEL_6618be6ea86041b5a8a94fb1f69e991c",
            "value": " 219/219 [00:27&lt;00:00,  7.89it/s]"
          }
        },
        "294bdb92d67642859a5d5714776c7734": {
          "model_module": "@jupyter-widgets/controls",
          "model_module_version": "1.5.0",
          "model_name": "FloatProgressModel",
          "state": {
            "_dom_classes": [],
            "_model_module": "@jupyter-widgets/controls",
            "_model_module_version": "1.5.0",
            "_model_name": "FloatProgressModel",
            "_view_count": null,
            "_view_module": "@jupyter-widgets/controls",
            "_view_module_version": "1.5.0",
            "_view_name": "ProgressView",
            "bar_style": "success",
            "description": "",
            "description_tooltip": null,
            "layout": "IPY_MODEL_9b475de65c6046628814ffa9156d404a",
            "max": 219,
            "min": 0,
            "orientation": "horizontal",
            "style": "IPY_MODEL_207daa88790e4547bf27bdda246e70d3",
            "value": 219
          }
        },
        "2cb617dc02be4722b75d8f09f53863ef": {
          "model_module": "@jupyter-widgets/base",
          "model_module_version": "1.2.0",
          "model_name": "LayoutModel",
          "state": {
            "_model_module": "@jupyter-widgets/base",
            "_model_module_version": "1.2.0",
            "_model_name": "LayoutModel",
            "_view_count": null,
            "_view_module": "@jupyter-widgets/base",
            "_view_module_version": "1.2.0",
            "_view_name": "LayoutView",
            "align_content": null,
            "align_items": null,
            "align_self": null,
            "border": null,
            "bottom": null,
            "display": null,
            "flex": null,
            "flex_flow": null,
            "grid_area": null,
            "grid_auto_columns": null,
            "grid_auto_flow": null,
            "grid_auto_rows": null,
            "grid_column": null,
            "grid_gap": null,
            "grid_row": null,
            "grid_template_areas": null,
            "grid_template_columns": null,
            "grid_template_rows": null,
            "height": null,
            "justify_content": null,
            "justify_items": null,
            "left": null,
            "margin": null,
            "max_height": null,
            "max_width": null,
            "min_height": null,
            "min_width": null,
            "object_fit": null,
            "object_position": null,
            "order": null,
            "overflow": null,
            "overflow_x": null,
            "overflow_y": null,
            "padding": null,
            "right": null,
            "top": null,
            "visibility": null,
            "width": null
          }
        },
        "2fb073ffd73c4f51bb0985c31ab4b266": {
          "model_module": "@jupyter-widgets/base",
          "model_module_version": "1.2.0",
          "model_name": "LayoutModel",
          "state": {
            "_model_module": "@jupyter-widgets/base",
            "_model_module_version": "1.2.0",
            "_model_name": "LayoutModel",
            "_view_count": null,
            "_view_module": "@jupyter-widgets/base",
            "_view_module_version": "1.2.0",
            "_view_name": "LayoutView",
            "align_content": null,
            "align_items": null,
            "align_self": null,
            "border": null,
            "bottom": null,
            "display": null,
            "flex": null,
            "flex_flow": null,
            "grid_area": null,
            "grid_auto_columns": null,
            "grid_auto_flow": null,
            "grid_auto_rows": null,
            "grid_column": null,
            "grid_gap": null,
            "grid_row": null,
            "grid_template_areas": null,
            "grid_template_columns": null,
            "grid_template_rows": null,
            "height": null,
            "justify_content": null,
            "justify_items": null,
            "left": null,
            "margin": null,
            "max_height": null,
            "max_width": null,
            "min_height": null,
            "min_width": null,
            "object_fit": null,
            "object_position": null,
            "order": null,
            "overflow": null,
            "overflow_x": null,
            "overflow_y": null,
            "padding": null,
            "right": null,
            "top": null,
            "visibility": null,
            "width": null
          }
        },
        "30a456f0f6ca411f9944217d054afd41": {
          "model_module": "@jupyter-widgets/controls",
          "model_module_version": "1.5.0",
          "model_name": "HTMLModel",
          "state": {
            "_dom_classes": [],
            "_model_module": "@jupyter-widgets/controls",
            "_model_module_version": "1.5.0",
            "_model_name": "HTMLModel",
            "_view_count": null,
            "_view_module": "@jupyter-widgets/controls",
            "_view_module_version": "1.5.0",
            "_view_name": "HTMLView",
            "description": "",
            "description_tooltip": null,
            "layout": "IPY_MODEL_8bf4a473ab6740a095567c996bbd23cf",
            "placeholder": "​",
            "style": "IPY_MODEL_e89c2518a14842d8ad7a240d5351991c",
            "value": "100%"
          }
        },
        "3346b824887e44ebbc072bf6c5270149": {
          "model_module": "@jupyter-widgets/base",
          "model_module_version": "1.2.0",
          "model_name": "LayoutModel",
          "state": {
            "_model_module": "@jupyter-widgets/base",
            "_model_module_version": "1.2.0",
            "_model_name": "LayoutModel",
            "_view_count": null,
            "_view_module": "@jupyter-widgets/base",
            "_view_module_version": "1.2.0",
            "_view_name": "LayoutView",
            "align_content": null,
            "align_items": null,
            "align_self": null,
            "border": null,
            "bottom": null,
            "display": null,
            "flex": null,
            "flex_flow": null,
            "grid_area": null,
            "grid_auto_columns": null,
            "grid_auto_flow": null,
            "grid_auto_rows": null,
            "grid_column": null,
            "grid_gap": null,
            "grid_row": null,
            "grid_template_areas": null,
            "grid_template_columns": null,
            "grid_template_rows": null,
            "height": null,
            "justify_content": null,
            "justify_items": null,
            "left": null,
            "margin": null,
            "max_height": null,
            "max_width": null,
            "min_height": null,
            "min_width": null,
            "object_fit": null,
            "object_position": null,
            "order": null,
            "overflow": null,
            "overflow_x": null,
            "overflow_y": null,
            "padding": null,
            "right": null,
            "top": null,
            "visibility": null,
            "width": null
          }
        },
        "3605c5f929ef4c81a385bca1dc88c7fc": {
          "model_module": "@jupyter-widgets/base",
          "model_module_version": "1.2.0",
          "model_name": "LayoutModel",
          "state": {
            "_model_module": "@jupyter-widgets/base",
            "_model_module_version": "1.2.0",
            "_model_name": "LayoutModel",
            "_view_count": null,
            "_view_module": "@jupyter-widgets/base",
            "_view_module_version": "1.2.0",
            "_view_name": "LayoutView",
            "align_content": null,
            "align_items": null,
            "align_self": null,
            "border": null,
            "bottom": null,
            "display": null,
            "flex": null,
            "flex_flow": null,
            "grid_area": null,
            "grid_auto_columns": null,
            "grid_auto_flow": null,
            "grid_auto_rows": null,
            "grid_column": null,
            "grid_gap": null,
            "grid_row": null,
            "grid_template_areas": null,
            "grid_template_columns": null,
            "grid_template_rows": null,
            "height": null,
            "justify_content": null,
            "justify_items": null,
            "left": null,
            "margin": null,
            "max_height": null,
            "max_width": null,
            "min_height": null,
            "min_width": null,
            "object_fit": null,
            "object_position": null,
            "order": null,
            "overflow": null,
            "overflow_x": null,
            "overflow_y": null,
            "padding": null,
            "right": null,
            "top": null,
            "visibility": null,
            "width": null
          }
        },
        "37159f0b04244870a041ac4819f45696": {
          "model_module": "@jupyter-widgets/controls",
          "model_module_version": "1.5.0",
          "model_name": "DescriptionStyleModel",
          "state": {
            "_model_module": "@jupyter-widgets/controls",
            "_model_module_version": "1.5.0",
            "_model_name": "DescriptionStyleModel",
            "_view_count": null,
            "_view_module": "@jupyter-widgets/base",
            "_view_module_version": "1.2.0",
            "_view_name": "StyleView",
            "description_width": ""
          }
        },
        "396e3244d6414473810157c110d9ffc4": {
          "model_module": "@jupyter-widgets/base",
          "model_module_version": "1.2.0",
          "model_name": "LayoutModel",
          "state": {
            "_model_module": "@jupyter-widgets/base",
            "_model_module_version": "1.2.0",
            "_model_name": "LayoutModel",
            "_view_count": null,
            "_view_module": "@jupyter-widgets/base",
            "_view_module_version": "1.2.0",
            "_view_name": "LayoutView",
            "align_content": null,
            "align_items": null,
            "align_self": null,
            "border": null,
            "bottom": null,
            "display": null,
            "flex": null,
            "flex_flow": null,
            "grid_area": null,
            "grid_auto_columns": null,
            "grid_auto_flow": null,
            "grid_auto_rows": null,
            "grid_column": null,
            "grid_gap": null,
            "grid_row": null,
            "grid_template_areas": null,
            "grid_template_columns": null,
            "grid_template_rows": null,
            "height": null,
            "justify_content": null,
            "justify_items": null,
            "left": null,
            "margin": null,
            "max_height": null,
            "max_width": null,
            "min_height": null,
            "min_width": null,
            "object_fit": null,
            "object_position": null,
            "order": null,
            "overflow": null,
            "overflow_x": null,
            "overflow_y": null,
            "padding": null,
            "right": null,
            "top": null,
            "visibility": null,
            "width": null
          }
        },
        "3a8da1a8179c4b0dab5c697689a68c53": {
          "model_module": "@jupyter-widgets/controls",
          "model_module_version": "1.5.0",
          "model_name": "DescriptionStyleModel",
          "state": {
            "_model_module": "@jupyter-widgets/controls",
            "_model_module_version": "1.5.0",
            "_model_name": "DescriptionStyleModel",
            "_view_count": null,
            "_view_module": "@jupyter-widgets/base",
            "_view_module_version": "1.2.0",
            "_view_name": "StyleView",
            "description_width": ""
          }
        },
        "3ccf07afd0254de3b684fbad7e5f8bec": {
          "model_module": "@jupyter-widgets/controls",
          "model_module_version": "1.5.0",
          "model_name": "FloatProgressModel",
          "state": {
            "_dom_classes": [],
            "_model_module": "@jupyter-widgets/controls",
            "_model_module_version": "1.5.0",
            "_model_name": "FloatProgressModel",
            "_view_count": null,
            "_view_module": "@jupyter-widgets/controls",
            "_view_module_version": "1.5.0",
            "_view_name": "ProgressView",
            "bar_style": "success",
            "description": "",
            "description_tooltip": null,
            "layout": "IPY_MODEL_5da7fa47ff274f5fad97fd6d7224c10c",
            "max": 1753,
            "min": 0,
            "orientation": "horizontal",
            "style": "IPY_MODEL_ef07f965151f4eb781bc34c29eb51ff7",
            "value": 1753
          }
        },
        "3dfa5d93b8344358b053b58ab1df53e5": {
          "model_module": "@jupyter-widgets/controls",
          "model_module_version": "1.5.0",
          "model_name": "HBoxModel",
          "state": {
            "_dom_classes": [],
            "_model_module": "@jupyter-widgets/controls",
            "_model_module_version": "1.5.0",
            "_model_name": "HBoxModel",
            "_view_count": null,
            "_view_module": "@jupyter-widgets/controls",
            "_view_module_version": "1.5.0",
            "_view_name": "HBoxView",
            "box_style": "",
            "children": [
              "IPY_MODEL_63578a4e631544eda8e068ad9ed3dcd2",
              "IPY_MODEL_4131e7be684641c395f371b48ba4069b",
              "IPY_MODEL_c5a6727a96864c78a8536c8261d0e978"
            ],
            "layout": "IPY_MODEL_15a6454a2cd54dda8b6baf4de5c12e99"
          }
        },
        "4131e7be684641c395f371b48ba4069b": {
          "model_module": "@jupyter-widgets/controls",
          "model_module_version": "1.5.0",
          "model_name": "FloatProgressModel",
          "state": {
            "_dom_classes": [],
            "_model_module": "@jupyter-widgets/controls",
            "_model_module_version": "1.5.0",
            "_model_name": "FloatProgressModel",
            "_view_count": null,
            "_view_module": "@jupyter-widgets/controls",
            "_view_module_version": "1.5.0",
            "_view_name": "ProgressView",
            "bar_style": "success",
            "description": "",
            "description_tooltip": null,
            "layout": "IPY_MODEL_6acbaf1831a24653922f54baeae8f530",
            "max": 1753,
            "min": 0,
            "orientation": "horizontal",
            "style": "IPY_MODEL_15cd6ae4008d4da8a503c52143184840",
            "value": 1753
          }
        },
        "420f08d4e9094606ac876ace2ec94bd5": {
          "model_module": "@jupyter-widgets/base",
          "model_module_version": "1.2.0",
          "model_name": "LayoutModel",
          "state": {
            "_model_module": "@jupyter-widgets/base",
            "_model_module_version": "1.2.0",
            "_model_name": "LayoutModel",
            "_view_count": null,
            "_view_module": "@jupyter-widgets/base",
            "_view_module_version": "1.2.0",
            "_view_name": "LayoutView",
            "align_content": null,
            "align_items": null,
            "align_self": null,
            "border": null,
            "bottom": null,
            "display": null,
            "flex": null,
            "flex_flow": null,
            "grid_area": null,
            "grid_auto_columns": null,
            "grid_auto_flow": null,
            "grid_auto_rows": null,
            "grid_column": null,
            "grid_gap": null,
            "grid_row": null,
            "grid_template_areas": null,
            "grid_template_columns": null,
            "grid_template_rows": null,
            "height": null,
            "justify_content": null,
            "justify_items": null,
            "left": null,
            "margin": null,
            "max_height": null,
            "max_width": null,
            "min_height": null,
            "min_width": null,
            "object_fit": null,
            "object_position": null,
            "order": null,
            "overflow": null,
            "overflow_x": null,
            "overflow_y": null,
            "padding": null,
            "right": null,
            "top": null,
            "visibility": null,
            "width": null
          }
        },
        "4508ee8c22b84e81a8e143f446f2597a": {
          "model_module": "@jupyter-widgets/controls",
          "model_module_version": "1.5.0",
          "model_name": "HTMLModel",
          "state": {
            "_dom_classes": [],
            "_model_module": "@jupyter-widgets/controls",
            "_model_module_version": "1.5.0",
            "_model_name": "HTMLModel",
            "_view_count": null,
            "_view_module": "@jupyter-widgets/controls",
            "_view_module_version": "1.5.0",
            "_view_name": "HTMLView",
            "description": "",
            "description_tooltip": null,
            "layout": "IPY_MODEL_c5db9b4be3ef4bb5818c867e74794e34",
            "placeholder": "​",
            "style": "IPY_MODEL_ce25ba1c43a24f188a194fafdc9667f7",
            "value": " 219/219 [00:27&lt;00:00,  7.87it/s]"
          }
        },
        "4ac68c0b30ff4ba8a111ebcf2e226257": {
          "model_module": "@jupyter-widgets/controls",
          "model_module_version": "1.5.0",
          "model_name": "DescriptionStyleModel",
          "state": {
            "_model_module": "@jupyter-widgets/controls",
            "_model_module_version": "1.5.0",
            "_model_name": "DescriptionStyleModel",
            "_view_count": null,
            "_view_module": "@jupyter-widgets/base",
            "_view_module_version": "1.2.0",
            "_view_name": "StyleView",
            "description_width": ""
          }
        },
        "4ae99171255b473fbad949d288564f38": {
          "model_module": "@jupyter-widgets/controls",
          "model_module_version": "1.5.0",
          "model_name": "HTMLModel",
          "state": {
            "_dom_classes": [],
            "_model_module": "@jupyter-widgets/controls",
            "_model_module_version": "1.5.0",
            "_model_name": "HTMLModel",
            "_view_count": null,
            "_view_module": "@jupyter-widgets/controls",
            "_view_module_version": "1.5.0",
            "_view_name": "HTMLView",
            "description": "",
            "description_tooltip": null,
            "layout": "IPY_MODEL_f4937649dabf4338b46fa837684ec164",
            "placeholder": "​",
            "style": "IPY_MODEL_8f8d2191d490471fa4ea53961f0c8efd",
            "value": " 219/219 [00:27&lt;00:00,  7.87it/s]"
          }
        },
        "4d8bf0cbd3a94726a7fe67c41939c3d5": {
          "model_module": "@jupyter-widgets/base",
          "model_module_version": "1.2.0",
          "model_name": "LayoutModel",
          "state": {
            "_model_module": "@jupyter-widgets/base",
            "_model_module_version": "1.2.0",
            "_model_name": "LayoutModel",
            "_view_count": null,
            "_view_module": "@jupyter-widgets/base",
            "_view_module_version": "1.2.0",
            "_view_name": "LayoutView",
            "align_content": null,
            "align_items": null,
            "align_self": null,
            "border": null,
            "bottom": null,
            "display": null,
            "flex": null,
            "flex_flow": null,
            "grid_area": null,
            "grid_auto_columns": null,
            "grid_auto_flow": null,
            "grid_auto_rows": null,
            "grid_column": null,
            "grid_gap": null,
            "grid_row": null,
            "grid_template_areas": null,
            "grid_template_columns": null,
            "grid_template_rows": null,
            "height": null,
            "justify_content": null,
            "justify_items": null,
            "left": null,
            "margin": null,
            "max_height": null,
            "max_width": null,
            "min_height": null,
            "min_width": null,
            "object_fit": null,
            "object_position": null,
            "order": null,
            "overflow": null,
            "overflow_x": null,
            "overflow_y": null,
            "padding": null,
            "right": null,
            "top": null,
            "visibility": null,
            "width": null
          }
        },
        "4eea3bc28b9d44a184b44e415e71ea83": {
          "model_module": "@jupyter-widgets/controls",
          "model_module_version": "1.5.0",
          "model_name": "DescriptionStyleModel",
          "state": {
            "_model_module": "@jupyter-widgets/controls",
            "_model_module_version": "1.5.0",
            "_model_name": "DescriptionStyleModel",
            "_view_count": null,
            "_view_module": "@jupyter-widgets/base",
            "_view_module_version": "1.2.0",
            "_view_name": "StyleView",
            "description_width": ""
          }
        },
        "524b9079aac3451e81635bd4247479a1": {
          "model_module": "@jupyter-widgets/base",
          "model_module_version": "1.2.0",
          "model_name": "LayoutModel",
          "state": {
            "_model_module": "@jupyter-widgets/base",
            "_model_module_version": "1.2.0",
            "_model_name": "LayoutModel",
            "_view_count": null,
            "_view_module": "@jupyter-widgets/base",
            "_view_module_version": "1.2.0",
            "_view_name": "LayoutView",
            "align_content": null,
            "align_items": null,
            "align_self": null,
            "border": null,
            "bottom": null,
            "display": null,
            "flex": null,
            "flex_flow": null,
            "grid_area": null,
            "grid_auto_columns": null,
            "grid_auto_flow": null,
            "grid_auto_rows": null,
            "grid_column": null,
            "grid_gap": null,
            "grid_row": null,
            "grid_template_areas": null,
            "grid_template_columns": null,
            "grid_template_rows": null,
            "height": null,
            "justify_content": null,
            "justify_items": null,
            "left": null,
            "margin": null,
            "max_height": null,
            "max_width": null,
            "min_height": null,
            "min_width": null,
            "object_fit": null,
            "object_position": null,
            "order": null,
            "overflow": null,
            "overflow_x": null,
            "overflow_y": null,
            "padding": null,
            "right": null,
            "top": null,
            "visibility": null,
            "width": null
          }
        },
        "53017adf37344293843d5e323b09b309": {
          "model_module": "@jupyter-widgets/base",
          "model_module_version": "1.2.0",
          "model_name": "LayoutModel",
          "state": {
            "_model_module": "@jupyter-widgets/base",
            "_model_module_version": "1.2.0",
            "_model_name": "LayoutModel",
            "_view_count": null,
            "_view_module": "@jupyter-widgets/base",
            "_view_module_version": "1.2.0",
            "_view_name": "LayoutView",
            "align_content": null,
            "align_items": null,
            "align_self": null,
            "border": null,
            "bottom": null,
            "display": null,
            "flex": null,
            "flex_flow": null,
            "grid_area": null,
            "grid_auto_columns": null,
            "grid_auto_flow": null,
            "grid_auto_rows": null,
            "grid_column": null,
            "grid_gap": null,
            "grid_row": null,
            "grid_template_areas": null,
            "grid_template_columns": null,
            "grid_template_rows": null,
            "height": null,
            "justify_content": null,
            "justify_items": null,
            "left": null,
            "margin": null,
            "max_height": null,
            "max_width": null,
            "min_height": null,
            "min_width": null,
            "object_fit": null,
            "object_position": null,
            "order": null,
            "overflow": null,
            "overflow_x": null,
            "overflow_y": null,
            "padding": null,
            "right": null,
            "top": null,
            "visibility": null,
            "width": null
          }
        },
        "549ca7d5cbad4ff7b389dbc5d5d131b8": {
          "model_module": "@jupyter-widgets/controls",
          "model_module_version": "1.5.0",
          "model_name": "DescriptionStyleModel",
          "state": {
            "_model_module": "@jupyter-widgets/controls",
            "_model_module_version": "1.5.0",
            "_model_name": "DescriptionStyleModel",
            "_view_count": null,
            "_view_module": "@jupyter-widgets/base",
            "_view_module_version": "1.2.0",
            "_view_name": "StyleView",
            "description_width": ""
          }
        },
        "571268e2343e4493ac95dd8bdd090e3e": {
          "model_module": "@jupyter-widgets/base",
          "model_module_version": "1.2.0",
          "model_name": "LayoutModel",
          "state": {
            "_model_module": "@jupyter-widgets/base",
            "_model_module_version": "1.2.0",
            "_model_name": "LayoutModel",
            "_view_count": null,
            "_view_module": "@jupyter-widgets/base",
            "_view_module_version": "1.2.0",
            "_view_name": "LayoutView",
            "align_content": null,
            "align_items": null,
            "align_self": null,
            "border": null,
            "bottom": null,
            "display": null,
            "flex": null,
            "flex_flow": null,
            "grid_area": null,
            "grid_auto_columns": null,
            "grid_auto_flow": null,
            "grid_auto_rows": null,
            "grid_column": null,
            "grid_gap": null,
            "grid_row": null,
            "grid_template_areas": null,
            "grid_template_columns": null,
            "grid_template_rows": null,
            "height": null,
            "justify_content": null,
            "justify_items": null,
            "left": null,
            "margin": null,
            "max_height": null,
            "max_width": null,
            "min_height": null,
            "min_width": null,
            "object_fit": null,
            "object_position": null,
            "order": null,
            "overflow": null,
            "overflow_x": null,
            "overflow_y": null,
            "padding": null,
            "right": null,
            "top": null,
            "visibility": null,
            "width": null
          }
        },
        "5ac34a2bf90f4945972403b64b62188c": {
          "model_module": "@jupyter-widgets/base",
          "model_module_version": "1.2.0",
          "model_name": "LayoutModel",
          "state": {
            "_model_module": "@jupyter-widgets/base",
            "_model_module_version": "1.2.0",
            "_model_name": "LayoutModel",
            "_view_count": null,
            "_view_module": "@jupyter-widgets/base",
            "_view_module_version": "1.2.0",
            "_view_name": "LayoutView",
            "align_content": null,
            "align_items": null,
            "align_self": null,
            "border": null,
            "bottom": null,
            "display": null,
            "flex": null,
            "flex_flow": null,
            "grid_area": null,
            "grid_auto_columns": null,
            "grid_auto_flow": null,
            "grid_auto_rows": null,
            "grid_column": null,
            "grid_gap": null,
            "grid_row": null,
            "grid_template_areas": null,
            "grid_template_columns": null,
            "grid_template_rows": null,
            "height": null,
            "justify_content": null,
            "justify_items": null,
            "left": null,
            "margin": null,
            "max_height": null,
            "max_width": null,
            "min_height": null,
            "min_width": null,
            "object_fit": null,
            "object_position": null,
            "order": null,
            "overflow": null,
            "overflow_x": null,
            "overflow_y": null,
            "padding": null,
            "right": null,
            "top": null,
            "visibility": null,
            "width": null
          }
        },
        "5da7fa47ff274f5fad97fd6d7224c10c": {
          "model_module": "@jupyter-widgets/base",
          "model_module_version": "1.2.0",
          "model_name": "LayoutModel",
          "state": {
            "_model_module": "@jupyter-widgets/base",
            "_model_module_version": "1.2.0",
            "_model_name": "LayoutModel",
            "_view_count": null,
            "_view_module": "@jupyter-widgets/base",
            "_view_module_version": "1.2.0",
            "_view_name": "LayoutView",
            "align_content": null,
            "align_items": null,
            "align_self": null,
            "border": null,
            "bottom": null,
            "display": null,
            "flex": null,
            "flex_flow": null,
            "grid_area": null,
            "grid_auto_columns": null,
            "grid_auto_flow": null,
            "grid_auto_rows": null,
            "grid_column": null,
            "grid_gap": null,
            "grid_row": null,
            "grid_template_areas": null,
            "grid_template_columns": null,
            "grid_template_rows": null,
            "height": null,
            "justify_content": null,
            "justify_items": null,
            "left": null,
            "margin": null,
            "max_height": null,
            "max_width": null,
            "min_height": null,
            "min_width": null,
            "object_fit": null,
            "object_position": null,
            "order": null,
            "overflow": null,
            "overflow_x": null,
            "overflow_y": null,
            "padding": null,
            "right": null,
            "top": null,
            "visibility": null,
            "width": null
          }
        },
        "5fca81e623d84cae8e02260e447ab7c2": {
          "model_module": "@jupyter-widgets/controls",
          "model_module_version": "1.5.0",
          "model_name": "ProgressStyleModel",
          "state": {
            "_model_module": "@jupyter-widgets/controls",
            "_model_module_version": "1.5.0",
            "_model_name": "ProgressStyleModel",
            "_view_count": null,
            "_view_module": "@jupyter-widgets/base",
            "_view_module_version": "1.2.0",
            "_view_name": "StyleView",
            "bar_color": null,
            "description_width": ""
          }
        },
        "62a9fbd656754898bf85204a035ac5e7": {
          "model_module": "@jupyter-widgets/base",
          "model_module_version": "1.2.0",
          "model_name": "LayoutModel",
          "state": {
            "_model_module": "@jupyter-widgets/base",
            "_model_module_version": "1.2.0",
            "_model_name": "LayoutModel",
            "_view_count": null,
            "_view_module": "@jupyter-widgets/base",
            "_view_module_version": "1.2.0",
            "_view_name": "LayoutView",
            "align_content": null,
            "align_items": null,
            "align_self": null,
            "border": null,
            "bottom": null,
            "display": null,
            "flex": null,
            "flex_flow": null,
            "grid_area": null,
            "grid_auto_columns": null,
            "grid_auto_flow": null,
            "grid_auto_rows": null,
            "grid_column": null,
            "grid_gap": null,
            "grid_row": null,
            "grid_template_areas": null,
            "grid_template_columns": null,
            "grid_template_rows": null,
            "height": null,
            "justify_content": null,
            "justify_items": null,
            "left": null,
            "margin": null,
            "max_height": null,
            "max_width": null,
            "min_height": null,
            "min_width": null,
            "object_fit": null,
            "object_position": null,
            "order": null,
            "overflow": null,
            "overflow_x": null,
            "overflow_y": null,
            "padding": null,
            "right": null,
            "top": null,
            "visibility": null,
            "width": null
          }
        },
        "63578a4e631544eda8e068ad9ed3dcd2": {
          "model_module": "@jupyter-widgets/controls",
          "model_module_version": "1.5.0",
          "model_name": "HTMLModel",
          "state": {
            "_dom_classes": [],
            "_model_module": "@jupyter-widgets/controls",
            "_model_module_version": "1.5.0",
            "_model_name": "HTMLModel",
            "_view_count": null,
            "_view_module": "@jupyter-widgets/controls",
            "_view_module_version": "1.5.0",
            "_view_name": "HTMLView",
            "description": "",
            "description_tooltip": null,
            "layout": "IPY_MODEL_420f08d4e9094606ac876ace2ec94bd5",
            "placeholder": "​",
            "style": "IPY_MODEL_549ca7d5cbad4ff7b389dbc5d5d131b8",
            "value": "100%"
          }
        },
        "6618be6ea86041b5a8a94fb1f69e991c": {
          "model_module": "@jupyter-widgets/controls",
          "model_module_version": "1.5.0",
          "model_name": "DescriptionStyleModel",
          "state": {
            "_model_module": "@jupyter-widgets/controls",
            "_model_module_version": "1.5.0",
            "_model_name": "DescriptionStyleModel",
            "_view_count": null,
            "_view_module": "@jupyter-widgets/base",
            "_view_module_version": "1.2.0",
            "_view_name": "StyleView",
            "description_width": ""
          }
        },
        "66d84b1981ba4b908975476dd264c45d": {
          "model_module": "@jupyter-widgets/base",
          "model_module_version": "1.2.0",
          "model_name": "LayoutModel",
          "state": {
            "_model_module": "@jupyter-widgets/base",
            "_model_module_version": "1.2.0",
            "_model_name": "LayoutModel",
            "_view_count": null,
            "_view_module": "@jupyter-widgets/base",
            "_view_module_version": "1.2.0",
            "_view_name": "LayoutView",
            "align_content": null,
            "align_items": null,
            "align_self": null,
            "border": null,
            "bottom": null,
            "display": null,
            "flex": null,
            "flex_flow": null,
            "grid_area": null,
            "grid_auto_columns": null,
            "grid_auto_flow": null,
            "grid_auto_rows": null,
            "grid_column": null,
            "grid_gap": null,
            "grid_row": null,
            "grid_template_areas": null,
            "grid_template_columns": null,
            "grid_template_rows": null,
            "height": null,
            "justify_content": null,
            "justify_items": null,
            "left": null,
            "margin": null,
            "max_height": null,
            "max_width": null,
            "min_height": null,
            "min_width": null,
            "object_fit": null,
            "object_position": null,
            "order": null,
            "overflow": null,
            "overflow_x": null,
            "overflow_y": null,
            "padding": null,
            "right": null,
            "top": null,
            "visibility": null,
            "width": null
          }
        },
        "67f8c62612724748a7ec5908621ec0ee": {
          "model_module": "@jupyter-widgets/controls",
          "model_module_version": "1.5.0",
          "model_name": "HBoxModel",
          "state": {
            "_dom_classes": [],
            "_model_module": "@jupyter-widgets/controls",
            "_model_module_version": "1.5.0",
            "_model_name": "HBoxModel",
            "_view_count": null,
            "_view_module": "@jupyter-widgets/controls",
            "_view_module_version": "1.5.0",
            "_view_name": "HBoxView",
            "box_style": "",
            "children": [
              "IPY_MODEL_95d8c9696e064ccfa566287b4b0838a6",
              "IPY_MODEL_294bdb92d67642859a5d5714776c7734",
              "IPY_MODEL_e90e8b7683d74be284aa585ac674eac2"
            ],
            "layout": "IPY_MODEL_fe2ef8c4f7164671bf3b78d8e541222c"
          }
        },
        "6acbaf1831a24653922f54baeae8f530": {
          "model_module": "@jupyter-widgets/base",
          "model_module_version": "1.2.0",
          "model_name": "LayoutModel",
          "state": {
            "_model_module": "@jupyter-widgets/base",
            "_model_module_version": "1.2.0",
            "_model_name": "LayoutModel",
            "_view_count": null,
            "_view_module": "@jupyter-widgets/base",
            "_view_module_version": "1.2.0",
            "_view_name": "LayoutView",
            "align_content": null,
            "align_items": null,
            "align_self": null,
            "border": null,
            "bottom": null,
            "display": null,
            "flex": null,
            "flex_flow": null,
            "grid_area": null,
            "grid_auto_columns": null,
            "grid_auto_flow": null,
            "grid_auto_rows": null,
            "grid_column": null,
            "grid_gap": null,
            "grid_row": null,
            "grid_template_areas": null,
            "grid_template_columns": null,
            "grid_template_rows": null,
            "height": null,
            "justify_content": null,
            "justify_items": null,
            "left": null,
            "margin": null,
            "max_height": null,
            "max_width": null,
            "min_height": null,
            "min_width": null,
            "object_fit": null,
            "object_position": null,
            "order": null,
            "overflow": null,
            "overflow_x": null,
            "overflow_y": null,
            "padding": null,
            "right": null,
            "top": null,
            "visibility": null,
            "width": null
          }
        },
        "6ad9eeaeb326444282998750233daf9e": {
          "model_module": "@jupyter-widgets/controls",
          "model_module_version": "1.5.0",
          "model_name": "HBoxModel",
          "state": {
            "_dom_classes": [],
            "_model_module": "@jupyter-widgets/controls",
            "_model_module_version": "1.5.0",
            "_model_name": "HBoxModel",
            "_view_count": null,
            "_view_module": "@jupyter-widgets/controls",
            "_view_module_version": "1.5.0",
            "_view_name": "HBoxView",
            "box_style": "",
            "children": [
              "IPY_MODEL_15150022c6de489d9688bdba605eaaa7",
              "IPY_MODEL_818c7e1983aa445c8399844762f1bf6a",
              "IPY_MODEL_b160b924669e43e3b2a284430b78b9ad"
            ],
            "layout": "IPY_MODEL_706fb104990240888c0d2aca9c011067"
          }
        },
        "6c9e76840d954ffd80d250ede1dcb257": {
          "model_module": "@jupyter-widgets/controls",
          "model_module_version": "1.5.0",
          "model_name": "HTMLModel",
          "state": {
            "_dom_classes": [],
            "_model_module": "@jupyter-widgets/controls",
            "_model_module_version": "1.5.0",
            "_model_name": "HTMLModel",
            "_view_count": null,
            "_view_module": "@jupyter-widgets/controls",
            "_view_module_version": "1.5.0",
            "_view_name": "HTMLView",
            "description": "",
            "description_tooltip": null,
            "layout": "IPY_MODEL_a6484858a4e44da0a3897e0749a7c9b0",
            "placeholder": "​",
            "style": "IPY_MODEL_37159f0b04244870a041ac4819f45696",
            "value": "Map: 100%"
          }
        },
        "706fb104990240888c0d2aca9c011067": {
          "model_module": "@jupyter-widgets/base",
          "model_module_version": "1.2.0",
          "model_name": "LayoutModel",
          "state": {
            "_model_module": "@jupyter-widgets/base",
            "_model_module_version": "1.2.0",
            "_model_name": "LayoutModel",
            "_view_count": null,
            "_view_module": "@jupyter-widgets/base",
            "_view_module_version": "1.2.0",
            "_view_name": "LayoutView",
            "align_content": null,
            "align_items": null,
            "align_self": null,
            "border": null,
            "bottom": null,
            "display": null,
            "flex": null,
            "flex_flow": null,
            "grid_area": null,
            "grid_auto_columns": null,
            "grid_auto_flow": null,
            "grid_auto_rows": null,
            "grid_column": null,
            "grid_gap": null,
            "grid_row": null,
            "grid_template_areas": null,
            "grid_template_columns": null,
            "grid_template_rows": null,
            "height": null,
            "justify_content": null,
            "justify_items": null,
            "left": null,
            "margin": null,
            "max_height": null,
            "max_width": null,
            "min_height": null,
            "min_width": null,
            "object_fit": null,
            "object_position": null,
            "order": null,
            "overflow": null,
            "overflow_x": null,
            "overflow_y": null,
            "padding": null,
            "right": null,
            "top": null,
            "visibility": null,
            "width": null
          }
        },
        "719c5f5bac5a476fbcde3a95b96c5938": {
          "model_module": "@jupyter-widgets/controls",
          "model_module_version": "1.5.0",
          "model_name": "ProgressStyleModel",
          "state": {
            "_model_module": "@jupyter-widgets/controls",
            "_model_module_version": "1.5.0",
            "_model_name": "ProgressStyleModel",
            "_view_count": null,
            "_view_module": "@jupyter-widgets/base",
            "_view_module_version": "1.2.0",
            "_view_name": "StyleView",
            "bar_color": null,
            "description_width": ""
          }
        },
        "71b5db6caa3440abb305114e7f819a57": {
          "model_module": "@jupyter-widgets/controls",
          "model_module_version": "1.5.0",
          "model_name": "DescriptionStyleModel",
          "state": {
            "_model_module": "@jupyter-widgets/controls",
            "_model_module_version": "1.5.0",
            "_model_name": "DescriptionStyleModel",
            "_view_count": null,
            "_view_module": "@jupyter-widgets/base",
            "_view_module_version": "1.2.0",
            "_view_name": "StyleView",
            "description_width": ""
          }
        },
        "71bd8ebe83df4a17b9ba4370fad1140c": {
          "model_module": "@jupyter-widgets/controls",
          "model_module_version": "1.5.0",
          "model_name": "HTMLModel",
          "state": {
            "_dom_classes": [],
            "_model_module": "@jupyter-widgets/controls",
            "_model_module_version": "1.5.0",
            "_model_name": "HTMLModel",
            "_view_count": null,
            "_view_module": "@jupyter-widgets/controls",
            "_view_module_version": "1.5.0",
            "_view_name": "HTMLView",
            "description": "",
            "description_tooltip": null,
            "layout": "IPY_MODEL_17f46c1da4804504bf6072d4d47b38ba",
            "placeholder": "​",
            "style": "IPY_MODEL_4ac68c0b30ff4ba8a111ebcf2e226257",
            "value": " 3475/3475 [00:04&lt;00:00, 731.85 examples/s]"
          }
        },
        "72135c83c984499eb6a57fe0eda0170d": {
          "model_module": "@jupyter-widgets/base",
          "model_module_version": "1.2.0",
          "model_name": "LayoutModel",
          "state": {
            "_model_module": "@jupyter-widgets/base",
            "_model_module_version": "1.2.0",
            "_model_name": "LayoutModel",
            "_view_count": null,
            "_view_module": "@jupyter-widgets/base",
            "_view_module_version": "1.2.0",
            "_view_name": "LayoutView",
            "align_content": null,
            "align_items": null,
            "align_self": null,
            "border": null,
            "bottom": null,
            "display": null,
            "flex": null,
            "flex_flow": null,
            "grid_area": null,
            "grid_auto_columns": null,
            "grid_auto_flow": null,
            "grid_auto_rows": null,
            "grid_column": null,
            "grid_gap": null,
            "grid_row": null,
            "grid_template_areas": null,
            "grid_template_columns": null,
            "grid_template_rows": null,
            "height": null,
            "justify_content": null,
            "justify_items": null,
            "left": null,
            "margin": null,
            "max_height": null,
            "max_width": null,
            "min_height": null,
            "min_width": null,
            "object_fit": null,
            "object_position": null,
            "order": null,
            "overflow": null,
            "overflow_x": null,
            "overflow_y": null,
            "padding": null,
            "right": null,
            "top": null,
            "visibility": null,
            "width": null
          }
        },
        "72eec654c5914af9ba295b36a94b3baf": {
          "model_module": "@jupyter-widgets/controls",
          "model_module_version": "1.5.0",
          "model_name": "DescriptionStyleModel",
          "state": {
            "_model_module": "@jupyter-widgets/controls",
            "_model_module_version": "1.5.0",
            "_model_name": "DescriptionStyleModel",
            "_view_count": null,
            "_view_module": "@jupyter-widgets/base",
            "_view_module_version": "1.2.0",
            "_view_name": "StyleView",
            "description_width": ""
          }
        },
        "761b975a5c9c40fa8e8d190f9257b362": {
          "model_module": "@jupyter-widgets/controls",
          "model_module_version": "1.5.0",
          "model_name": "DescriptionStyleModel",
          "state": {
            "_model_module": "@jupyter-widgets/controls",
            "_model_module_version": "1.5.0",
            "_model_name": "DescriptionStyleModel",
            "_view_count": null,
            "_view_module": "@jupyter-widgets/base",
            "_view_module_version": "1.2.0",
            "_view_name": "StyleView",
            "description_width": ""
          }
        },
        "76d74be7f35f4d14b760c3dc596094fb": {
          "model_module": "@jupyter-widgets/controls",
          "model_module_version": "1.5.0",
          "model_name": "HBoxModel",
          "state": {
            "_dom_classes": [],
            "_model_module": "@jupyter-widgets/controls",
            "_model_module_version": "1.5.0",
            "_model_name": "HBoxModel",
            "_view_count": null,
            "_view_module": "@jupyter-widgets/controls",
            "_view_module_version": "1.5.0",
            "_view_name": "HBoxView",
            "box_style": "",
            "children": [
              "IPY_MODEL_6c9e76840d954ffd80d250ede1dcb257",
              "IPY_MODEL_cb632ff40fb6498b96263faebfc05036",
              "IPY_MODEL_71bd8ebe83df4a17b9ba4370fad1140c"
            ],
            "layout": "IPY_MODEL_14b5f71579aa43a38d14581ebbb49182"
          }
        },
        "7be799b9034c4e4abadd0a0ed1411aaf": {
          "model_module": "@jupyter-widgets/base",
          "model_module_version": "1.2.0",
          "model_name": "LayoutModel",
          "state": {
            "_model_module": "@jupyter-widgets/base",
            "_model_module_version": "1.2.0",
            "_model_name": "LayoutModel",
            "_view_count": null,
            "_view_module": "@jupyter-widgets/base",
            "_view_module_version": "1.2.0",
            "_view_name": "LayoutView",
            "align_content": null,
            "align_items": null,
            "align_self": null,
            "border": null,
            "bottom": null,
            "display": null,
            "flex": null,
            "flex_flow": null,
            "grid_area": null,
            "grid_auto_columns": null,
            "grid_auto_flow": null,
            "grid_auto_rows": null,
            "grid_column": null,
            "grid_gap": null,
            "grid_row": null,
            "grid_template_areas": null,
            "grid_template_columns": null,
            "grid_template_rows": null,
            "height": null,
            "justify_content": null,
            "justify_items": null,
            "left": null,
            "margin": null,
            "max_height": null,
            "max_width": null,
            "min_height": null,
            "min_width": null,
            "object_fit": null,
            "object_position": null,
            "order": null,
            "overflow": null,
            "overflow_x": null,
            "overflow_y": null,
            "padding": null,
            "right": null,
            "top": null,
            "visibility": null,
            "width": null
          }
        },
        "818c7e1983aa445c8399844762f1bf6a": {
          "model_module": "@jupyter-widgets/controls",
          "model_module_version": "1.5.0",
          "model_name": "FloatProgressModel",
          "state": {
            "_dom_classes": [],
            "_model_module": "@jupyter-widgets/controls",
            "_model_module_version": "1.5.0",
            "_model_name": "FloatProgressModel",
            "_view_count": null,
            "_view_module": "@jupyter-widgets/controls",
            "_view_module_version": "1.5.0",
            "_view_name": "ProgressView",
            "bar_style": "success",
            "description": "",
            "description_tooltip": null,
            "layout": "IPY_MODEL_f6bc690dde814c83ac37d384867bdecd",
            "max": 28034,
            "min": 0,
            "orientation": "horizontal",
            "style": "IPY_MODEL_719c5f5bac5a476fbcde3a95b96c5938",
            "value": 28034
          }
        },
        "88179d038c294e2088cb4a0e580359a0": {
          "model_module": "@jupyter-widgets/controls",
          "model_module_version": "1.5.0",
          "model_name": "HBoxModel",
          "state": {
            "_dom_classes": [],
            "_model_module": "@jupyter-widgets/controls",
            "_model_module_version": "1.5.0",
            "_model_name": "HBoxModel",
            "_view_count": null,
            "_view_module": "@jupyter-widgets/controls",
            "_view_module_version": "1.5.0",
            "_view_name": "HBoxView",
            "box_style": "",
            "children": [
              "IPY_MODEL_d1b1f364122c441981698694df16ea6a",
              "IPY_MODEL_a06916c330474b3f9daa30e440766f02",
              "IPY_MODEL_276db9dd4ae94c6490a00e6080bf36e8"
            ],
            "layout": "IPY_MODEL_7be799b9034c4e4abadd0a0ed1411aaf"
          }
        },
        "8bf4a473ab6740a095567c996bbd23cf": {
          "model_module": "@jupyter-widgets/base",
          "model_module_version": "1.2.0",
          "model_name": "LayoutModel",
          "state": {
            "_model_module": "@jupyter-widgets/base",
            "_model_module_version": "1.2.0",
            "_model_name": "LayoutModel",
            "_view_count": null,
            "_view_module": "@jupyter-widgets/base",
            "_view_module_version": "1.2.0",
            "_view_name": "LayoutView",
            "align_content": null,
            "align_items": null,
            "align_self": null,
            "border": null,
            "bottom": null,
            "display": null,
            "flex": null,
            "flex_flow": null,
            "grid_area": null,
            "grid_auto_columns": null,
            "grid_auto_flow": null,
            "grid_auto_rows": null,
            "grid_column": null,
            "grid_gap": null,
            "grid_row": null,
            "grid_template_areas": null,
            "grid_template_columns": null,
            "grid_template_rows": null,
            "height": null,
            "justify_content": null,
            "justify_items": null,
            "left": null,
            "margin": null,
            "max_height": null,
            "max_width": null,
            "min_height": null,
            "min_width": null,
            "object_fit": null,
            "object_position": null,
            "order": null,
            "overflow": null,
            "overflow_x": null,
            "overflow_y": null,
            "padding": null,
            "right": null,
            "top": null,
            "visibility": null,
            "width": null
          }
        },
        "8c0023c4374d4357959cc8bb1f04ce8e": {
          "model_module": "@jupyter-widgets/controls",
          "model_module_version": "1.5.0",
          "model_name": "DescriptionStyleModel",
          "state": {
            "_model_module": "@jupyter-widgets/controls",
            "_model_module_version": "1.5.0",
            "_model_name": "DescriptionStyleModel",
            "_view_count": null,
            "_view_module": "@jupyter-widgets/base",
            "_view_module_version": "1.2.0",
            "_view_name": "StyleView",
            "description_width": ""
          }
        },
        "8c08e92f188f4966a9f54b570e9334a2": {
          "model_module": "@jupyter-widgets/base",
          "model_module_version": "1.2.0",
          "model_name": "LayoutModel",
          "state": {
            "_model_module": "@jupyter-widgets/base",
            "_model_module_version": "1.2.0",
            "_model_name": "LayoutModel",
            "_view_count": null,
            "_view_module": "@jupyter-widgets/base",
            "_view_module_version": "1.2.0",
            "_view_name": "LayoutView",
            "align_content": null,
            "align_items": null,
            "align_self": null,
            "border": null,
            "bottom": null,
            "display": null,
            "flex": null,
            "flex_flow": null,
            "grid_area": null,
            "grid_auto_columns": null,
            "grid_auto_flow": null,
            "grid_auto_rows": null,
            "grid_column": null,
            "grid_gap": null,
            "grid_row": null,
            "grid_template_areas": null,
            "grid_template_columns": null,
            "grid_template_rows": null,
            "height": null,
            "justify_content": null,
            "justify_items": null,
            "left": null,
            "margin": null,
            "max_height": null,
            "max_width": null,
            "min_height": null,
            "min_width": null,
            "object_fit": null,
            "object_position": null,
            "order": null,
            "overflow": null,
            "overflow_x": null,
            "overflow_y": null,
            "padding": null,
            "right": null,
            "top": null,
            "visibility": null,
            "width": null
          }
        },
        "8f8d2191d490471fa4ea53961f0c8efd": {
          "model_module": "@jupyter-widgets/controls",
          "model_module_version": "1.5.0",
          "model_name": "DescriptionStyleModel",
          "state": {
            "_model_module": "@jupyter-widgets/controls",
            "_model_module_version": "1.5.0",
            "_model_name": "DescriptionStyleModel",
            "_view_count": null,
            "_view_module": "@jupyter-widgets/base",
            "_view_module_version": "1.2.0",
            "_view_name": "StyleView",
            "description_width": ""
          }
        },
        "900d449b3a10476d87b93d0b1e892ae8": {
          "model_module": "@jupyter-widgets/controls",
          "model_module_version": "1.5.0",
          "model_name": "HTMLModel",
          "state": {
            "_dom_classes": [],
            "_model_module": "@jupyter-widgets/controls",
            "_model_module_version": "1.5.0",
            "_model_name": "HTMLModel",
            "_view_count": null,
            "_view_module": "@jupyter-widgets/controls",
            "_view_module_version": "1.5.0",
            "_view_name": "HTMLView",
            "description": "",
            "description_tooltip": null,
            "layout": "IPY_MODEL_3346b824887e44ebbc072bf6c5270149",
            "placeholder": "​",
            "style": "IPY_MODEL_a83afa715e3541a6a1d2f899b6f2786e",
            "value": "100%"
          }
        },
        "944e64ce56f54eb0bf2b7065b705d313": {
          "model_module": "@jupyter-widgets/controls",
          "model_module_version": "1.5.0",
          "model_name": "ProgressStyleModel",
          "state": {
            "_model_module": "@jupyter-widgets/controls",
            "_model_module_version": "1.5.0",
            "_model_name": "ProgressStyleModel",
            "_view_count": null,
            "_view_module": "@jupyter-widgets/base",
            "_view_module_version": "1.2.0",
            "_view_name": "StyleView",
            "bar_color": "steelblue",
            "description_width": ""
          }
        },
        "95d8c9696e064ccfa566287b4b0838a6": {
          "model_module": "@jupyter-widgets/controls",
          "model_module_version": "1.5.0",
          "model_name": "HTMLModel",
          "state": {
            "_dom_classes": [],
            "_model_module": "@jupyter-widgets/controls",
            "_model_module_version": "1.5.0",
            "_model_name": "HTMLModel",
            "_view_count": null,
            "_view_module": "@jupyter-widgets/controls",
            "_view_module_version": "1.5.0",
            "_view_name": "HTMLView",
            "description": "",
            "description_tooltip": null,
            "layout": "IPY_MODEL_524b9079aac3451e81635bd4247479a1",
            "placeholder": "​",
            "style": "IPY_MODEL_06340e7ee9864194b3d8282292074ff4",
            "value": "100%"
          }
        },
        "9adcc28f76f345468979570a1379b5d1": {
          "model_module": "@jupyter-widgets/controls",
          "model_module_version": "1.5.0",
          "model_name": "HTMLModel",
          "state": {
            "_dom_classes": [],
            "_model_module": "@jupyter-widgets/controls",
            "_model_module_version": "1.5.0",
            "_model_name": "HTMLModel",
            "_view_count": null,
            "_view_module": "@jupyter-widgets/controls",
            "_view_module_version": "1.5.0",
            "_view_name": "HTMLView",
            "description": "",
            "description_tooltip": null,
            "layout": "IPY_MODEL_0b9d7d4fa58444b19a55b41fde9d6b15",
            "placeholder": "​",
            "style": "IPY_MODEL_f78b109830f04e5ba8f973a2150cd41a",
            "value": " 3491/3491 [00:04&lt;00:00, 725.08 examples/s]"
          }
        },
        "9b475de65c6046628814ffa9156d404a": {
          "model_module": "@jupyter-widgets/base",
          "model_module_version": "1.2.0",
          "model_name": "LayoutModel",
          "state": {
            "_model_module": "@jupyter-widgets/base",
            "_model_module_version": "1.2.0",
            "_model_name": "LayoutModel",
            "_view_count": null,
            "_view_module": "@jupyter-widgets/base",
            "_view_module_version": "1.2.0",
            "_view_name": "LayoutView",
            "align_content": null,
            "align_items": null,
            "align_self": null,
            "border": null,
            "bottom": null,
            "display": null,
            "flex": null,
            "flex_flow": null,
            "grid_area": null,
            "grid_auto_columns": null,
            "grid_auto_flow": null,
            "grid_auto_rows": null,
            "grid_column": null,
            "grid_gap": null,
            "grid_row": null,
            "grid_template_areas": null,
            "grid_template_columns": null,
            "grid_template_rows": null,
            "height": null,
            "justify_content": null,
            "justify_items": null,
            "left": null,
            "margin": null,
            "max_height": null,
            "max_width": null,
            "min_height": null,
            "min_width": null,
            "object_fit": null,
            "object_position": null,
            "order": null,
            "overflow": null,
            "overflow_x": null,
            "overflow_y": null,
            "padding": null,
            "right": null,
            "top": null,
            "visibility": null,
            "width": null
          }
        },
        "9c4cbeeac83a428b9b46af88013f3696": {
          "model_module": "@jupyter-widgets/controls",
          "model_module_version": "1.5.0",
          "model_name": "DescriptionStyleModel",
          "state": {
            "_model_module": "@jupyter-widgets/controls",
            "_model_module_version": "1.5.0",
            "_model_name": "DescriptionStyleModel",
            "_view_count": null,
            "_view_module": "@jupyter-widgets/base",
            "_view_module_version": "1.2.0",
            "_view_name": "StyleView",
            "description_width": ""
          }
        },
        "9d615f7366cf427380c729cfacdb2ea2": {
          "model_module": "@jupyter-widgets/controls",
          "model_module_version": "1.5.0",
          "model_name": "DescriptionStyleModel",
          "state": {
            "_model_module": "@jupyter-widgets/controls",
            "_model_module_version": "1.5.0",
            "_model_name": "DescriptionStyleModel",
            "_view_count": null,
            "_view_module": "@jupyter-widgets/base",
            "_view_module_version": "1.2.0",
            "_view_name": "StyleView",
            "description_width": ""
          }
        },
        "9ebcbd7d66884cfc872667e7b7f300a0": {
          "model_module": "@jupyter-widgets/controls",
          "model_module_version": "1.5.0",
          "model_name": "HTMLModel",
          "state": {
            "_dom_classes": [],
            "_model_module": "@jupyter-widgets/controls",
            "_model_module_version": "1.5.0",
            "_model_name": "HTMLModel",
            "_view_count": null,
            "_view_module": "@jupyter-widgets/controls",
            "_view_module_version": "1.5.0",
            "_view_name": "HTMLView",
            "description": "",
            "description_tooltip": null,
            "layout": "IPY_MODEL_d4312ed49e7e4e0baff7bc08618345a0",
            "placeholder": "​",
            "style": "IPY_MODEL_9d615f7366cf427380c729cfacdb2ea2",
            "value": "Map: 100%"
          }
        },
        "a06916c330474b3f9daa30e440766f02": {
          "model_module": "@jupyter-widgets/controls",
          "model_module_version": "1.5.0",
          "model_name": "FloatProgressModel",
          "state": {
            "_dom_classes": [],
            "_model_module": "@jupyter-widgets/controls",
            "_model_module_version": "1.5.0",
            "_model_name": "FloatProgressModel",
            "_view_count": null,
            "_view_module": "@jupyter-widgets/controls",
            "_view_module_version": "1.5.0",
            "_view_name": "ProgressView",
            "bar_style": "success",
            "description": "",
            "description_tooltip": null,
            "layout": "IPY_MODEL_72135c83c984499eb6a57fe0eda0170d",
            "max": 219,
            "min": 0,
            "orientation": "horizontal",
            "style": "IPY_MODEL_d9be772909b4442bb74a8a11cfa52945",
            "value": 219
          }
        },
        "a368e38d426e41ddb1c78ebc4117a5d4": {
          "model_module": "@jupyter-widgets/controls",
          "model_module_version": "1.5.0",
          "model_name": "ProgressStyleModel",
          "state": {
            "_model_module": "@jupyter-widgets/controls",
            "_model_module_version": "1.5.0",
            "_model_name": "ProgressStyleModel",
            "_view_count": null,
            "_view_module": "@jupyter-widgets/base",
            "_view_module_version": "1.2.0",
            "_view_name": "StyleView",
            "bar_color": "steelblue",
            "description_width": ""
          }
        },
        "a50ec6c2d51141348f8509037a8c9a77": {
          "model_module": "@jupyter-widgets/controls",
          "model_module_version": "1.5.0",
          "model_name": "HBoxModel",
          "state": {
            "_dom_classes": [],
            "_model_module": "@jupyter-widgets/controls",
            "_model_module_version": "1.5.0",
            "_model_name": "HBoxModel",
            "_view_count": null,
            "_view_module": "@jupyter-widgets/controls",
            "_view_module_version": "1.5.0",
            "_view_name": "HBoxView",
            "box_style": "",
            "children": [
              "IPY_MODEL_9ebcbd7d66884cfc872667e7b7f300a0",
              "IPY_MODEL_cea3bf0de289441981ba1f5c322c42d6",
              "IPY_MODEL_9adcc28f76f345468979570a1379b5d1"
            ],
            "layout": "IPY_MODEL_010b2e4456df46c79a4f92fb091ebd5d"
          }
        },
        "a6484858a4e44da0a3897e0749a7c9b0": {
          "model_module": "@jupyter-widgets/base",
          "model_module_version": "1.2.0",
          "model_name": "LayoutModel",
          "state": {
            "_model_module": "@jupyter-widgets/base",
            "_model_module_version": "1.2.0",
            "_model_name": "LayoutModel",
            "_view_count": null,
            "_view_module": "@jupyter-widgets/base",
            "_view_module_version": "1.2.0",
            "_view_name": "LayoutView",
            "align_content": null,
            "align_items": null,
            "align_self": null,
            "border": null,
            "bottom": null,
            "display": null,
            "flex": null,
            "flex_flow": null,
            "grid_area": null,
            "grid_auto_columns": null,
            "grid_auto_flow": null,
            "grid_auto_rows": null,
            "grid_column": null,
            "grid_gap": null,
            "grid_row": null,
            "grid_template_areas": null,
            "grid_template_columns": null,
            "grid_template_rows": null,
            "height": null,
            "justify_content": null,
            "justify_items": null,
            "left": null,
            "margin": null,
            "max_height": null,
            "max_width": null,
            "min_height": null,
            "min_width": null,
            "object_fit": null,
            "object_position": null,
            "order": null,
            "overflow": null,
            "overflow_x": null,
            "overflow_y": null,
            "padding": null,
            "right": null,
            "top": null,
            "visibility": null,
            "width": null
          }
        },
        "a83afa715e3541a6a1d2f899b6f2786e": {
          "model_module": "@jupyter-widgets/controls",
          "model_module_version": "1.5.0",
          "model_name": "DescriptionStyleModel",
          "state": {
            "_model_module": "@jupyter-widgets/controls",
            "_model_module_version": "1.5.0",
            "_model_name": "DescriptionStyleModel",
            "_view_count": null,
            "_view_module": "@jupyter-widgets/base",
            "_view_module_version": "1.2.0",
            "_view_name": "StyleView",
            "description_width": ""
          }
        },
        "af7a27e6b7a94605b33a2473bf165788": {
          "model_module": "@jupyter-widgets/base",
          "model_module_version": "1.2.0",
          "model_name": "LayoutModel",
          "state": {
            "_model_module": "@jupyter-widgets/base",
            "_model_module_version": "1.2.0",
            "_model_name": "LayoutModel",
            "_view_count": null,
            "_view_module": "@jupyter-widgets/base",
            "_view_module_version": "1.2.0",
            "_view_name": "LayoutView",
            "align_content": null,
            "align_items": null,
            "align_self": null,
            "border": null,
            "bottom": null,
            "display": null,
            "flex": null,
            "flex_flow": null,
            "grid_area": null,
            "grid_auto_columns": null,
            "grid_auto_flow": null,
            "grid_auto_rows": null,
            "grid_column": null,
            "grid_gap": null,
            "grid_row": null,
            "grid_template_areas": null,
            "grid_template_columns": null,
            "grid_template_rows": null,
            "height": null,
            "justify_content": null,
            "justify_items": null,
            "left": null,
            "margin": null,
            "max_height": null,
            "max_width": null,
            "min_height": null,
            "min_width": null,
            "object_fit": null,
            "object_position": null,
            "order": null,
            "overflow": null,
            "overflow_x": null,
            "overflow_y": null,
            "padding": null,
            "right": null,
            "top": null,
            "visibility": null,
            "width": null
          }
        },
        "b160b924669e43e3b2a284430b78b9ad": {
          "model_module": "@jupyter-widgets/controls",
          "model_module_version": "1.5.0",
          "model_name": "HTMLModel",
          "state": {
            "_dom_classes": [],
            "_model_module": "@jupyter-widgets/controls",
            "_model_module_version": "1.5.0",
            "_model_name": "HTMLModel",
            "_view_count": null,
            "_view_module": "@jupyter-widgets/controls",
            "_view_module_version": "1.5.0",
            "_view_name": "HTMLView",
            "description": "",
            "description_tooltip": null,
            "layout": "IPY_MODEL_2fb073ffd73c4f51bb0985c31ab4b266",
            "placeholder": "​",
            "style": "IPY_MODEL_4eea3bc28b9d44a184b44e415e71ea83",
            "value": " 28034/28034 [00:38&lt;00:00, 725.16 examples/s]"
          }
        },
        "b2defd9acdea4586b6c8b934e86892a0": {
          "model_module": "@jupyter-widgets/base",
          "model_module_version": "1.2.0",
          "model_name": "LayoutModel",
          "state": {
            "_model_module": "@jupyter-widgets/base",
            "_model_module_version": "1.2.0",
            "_model_name": "LayoutModel",
            "_view_count": null,
            "_view_module": "@jupyter-widgets/base",
            "_view_module_version": "1.2.0",
            "_view_name": "LayoutView",
            "align_content": null,
            "align_items": null,
            "align_self": null,
            "border": null,
            "bottom": null,
            "display": null,
            "flex": null,
            "flex_flow": null,
            "grid_area": null,
            "grid_auto_columns": null,
            "grid_auto_flow": null,
            "grid_auto_rows": null,
            "grid_column": null,
            "grid_gap": null,
            "grid_row": null,
            "grid_template_areas": null,
            "grid_template_columns": null,
            "grid_template_rows": null,
            "height": null,
            "justify_content": null,
            "justify_items": null,
            "left": null,
            "margin": null,
            "max_height": null,
            "max_width": null,
            "min_height": null,
            "min_width": null,
            "object_fit": null,
            "object_position": null,
            "order": null,
            "overflow": null,
            "overflow_x": null,
            "overflow_y": null,
            "padding": null,
            "right": null,
            "top": null,
            "visibility": null,
            "width": null
          }
        },
        "b5455675f7be4f7fa4b808ebed83df51": {
          "model_module": "@jupyter-widgets/controls",
          "model_module_version": "1.5.0",
          "model_name": "DescriptionStyleModel",
          "state": {
            "_model_module": "@jupyter-widgets/controls",
            "_model_module_version": "1.5.0",
            "_model_name": "DescriptionStyleModel",
            "_view_count": null,
            "_view_module": "@jupyter-widgets/base",
            "_view_module_version": "1.2.0",
            "_view_name": "StyleView",
            "description_width": ""
          }
        },
        "b61063eb4634467aa8342ab157d4d0a6": {
          "model_module": "@jupyter-widgets/controls",
          "model_module_version": "1.5.0",
          "model_name": "HBoxModel",
          "state": {
            "_dom_classes": [],
            "_model_module": "@jupyter-widgets/controls",
            "_model_module_version": "1.5.0",
            "_model_name": "HBoxModel",
            "_view_count": null,
            "_view_module": "@jupyter-widgets/controls",
            "_view_module_version": "1.5.0",
            "_view_name": "HBoxView",
            "box_style": "",
            "children": [
              "IPY_MODEL_30a456f0f6ca411f9944217d054afd41",
              "IPY_MODEL_c1c69b004e3f49ea9950828ed83c833f",
              "IPY_MODEL_c3b86d2c789543f29ccb2dc419d9a209"
            ],
            "layout": "IPY_MODEL_3605c5f929ef4c81a385bca1dc88c7fc"
          }
        },
        "ba08624e161c4ee19c25261fb63153c1": {
          "model_module": "@jupyter-widgets/controls",
          "model_module_version": "1.5.0",
          "model_name": "HTMLModel",
          "state": {
            "_dom_classes": [],
            "_model_module": "@jupyter-widgets/controls",
            "_model_module_version": "1.5.0",
            "_model_name": "HTMLModel",
            "_view_count": null,
            "_view_module": "@jupyter-widgets/controls",
            "_view_module_version": "1.5.0",
            "_view_name": "HTMLView",
            "description": "",
            "description_tooltip": null,
            "layout": "IPY_MODEL_c59ec37bfcdd4998871e909c47ac7542",
            "placeholder": "​",
            "style": "IPY_MODEL_b5455675f7be4f7fa4b808ebed83df51",
            "value": "100%"
          }
        },
        "bcec91fe8eab4a3fb63f76bc946a3d1b": {
          "model_module": "@jupyter-widgets/controls",
          "model_module_version": "1.5.0",
          "model_name": "FloatProgressModel",
          "state": {
            "_dom_classes": [],
            "_model_module": "@jupyter-widgets/controls",
            "_model_module_version": "1.5.0",
            "_model_name": "FloatProgressModel",
            "_view_count": null,
            "_view_module": "@jupyter-widgets/controls",
            "_view_module_version": "1.5.0",
            "_view_name": "ProgressView",
            "bar_style": "success",
            "description": "",
            "description_tooltip": null,
            "layout": "IPY_MODEL_249f135abe37461ead8aae2cf262f887",
            "max": 1753,
            "min": 0,
            "orientation": "horizontal",
            "style": "IPY_MODEL_944e64ce56f54eb0bf2b7065b705d313",
            "value": 1753
          }
        },
        "bd7cfb03afe8472690c920530d5e07d0": {
          "model_module": "@jupyter-widgets/controls",
          "model_module_version": "1.5.0",
          "model_name": "DescriptionStyleModel",
          "state": {
            "_model_module": "@jupyter-widgets/controls",
            "_model_module_version": "1.5.0",
            "_model_name": "DescriptionStyleModel",
            "_view_count": null,
            "_view_module": "@jupyter-widgets/base",
            "_view_module_version": "1.2.0",
            "_view_name": "StyleView",
            "description_width": ""
          }
        },
        "c1c69b004e3f49ea9950828ed83c833f": {
          "model_module": "@jupyter-widgets/controls",
          "model_module_version": "1.5.0",
          "model_name": "FloatProgressModel",
          "state": {
            "_dom_classes": [],
            "_model_module": "@jupyter-widgets/controls",
            "_model_module_version": "1.5.0",
            "_model_name": "FloatProgressModel",
            "_view_count": null,
            "_view_module": "@jupyter-widgets/controls",
            "_view_module_version": "1.5.0",
            "_view_name": "ProgressView",
            "bar_style": "success",
            "description": "",
            "description_tooltip": null,
            "layout": "IPY_MODEL_62a9fbd656754898bf85204a035ac5e7",
            "max": 1753,
            "min": 0,
            "orientation": "horizontal",
            "style": "IPY_MODEL_d1aef72f18dc443dbb6631d0d6dcef05",
            "value": 1753
          }
        },
        "c1d56ea44dfd45af8e7bc3b6c1e7ef6e": {
          "model_module": "@jupyter-widgets/controls",
          "model_module_version": "1.5.0",
          "model_name": "DescriptionStyleModel",
          "state": {
            "_model_module": "@jupyter-widgets/controls",
            "_model_module_version": "1.5.0",
            "_model_name": "DescriptionStyleModel",
            "_view_count": null,
            "_view_module": "@jupyter-widgets/base",
            "_view_module_version": "1.2.0",
            "_view_name": "StyleView",
            "description_width": ""
          }
        },
        "c3b86d2c789543f29ccb2dc419d9a209": {
          "model_module": "@jupyter-widgets/controls",
          "model_module_version": "1.5.0",
          "model_name": "HTMLModel",
          "state": {
            "_dom_classes": [],
            "_model_module": "@jupyter-widgets/controls",
            "_model_module_version": "1.5.0",
            "_model_name": "HTMLModel",
            "_view_count": null,
            "_view_module": "@jupyter-widgets/controls",
            "_view_module_version": "1.5.0",
            "_view_name": "HTMLView",
            "description": "",
            "description_tooltip": null,
            "layout": "IPY_MODEL_110fbbe150134d59849b5518f8d75249",
            "placeholder": "​",
            "style": "IPY_MODEL_761b975a5c9c40fa8e8d190f9257b362",
            "value": " 1753/1753 [03:57&lt;00:00,  7.37it/s, batch_loss=0.738]"
          }
        },
        "c59ec37bfcdd4998871e909c47ac7542": {
          "model_module": "@jupyter-widgets/base",
          "model_module_version": "1.2.0",
          "model_name": "LayoutModel",
          "state": {
            "_model_module": "@jupyter-widgets/base",
            "_model_module_version": "1.2.0",
            "_model_name": "LayoutModel",
            "_view_count": null,
            "_view_module": "@jupyter-widgets/base",
            "_view_module_version": "1.2.0",
            "_view_name": "LayoutView",
            "align_content": null,
            "align_items": null,
            "align_self": null,
            "border": null,
            "bottom": null,
            "display": null,
            "flex": null,
            "flex_flow": null,
            "grid_area": null,
            "grid_auto_columns": null,
            "grid_auto_flow": null,
            "grid_auto_rows": null,
            "grid_column": null,
            "grid_gap": null,
            "grid_row": null,
            "grid_template_areas": null,
            "grid_template_columns": null,
            "grid_template_rows": null,
            "height": null,
            "justify_content": null,
            "justify_items": null,
            "left": null,
            "margin": null,
            "max_height": null,
            "max_width": null,
            "min_height": null,
            "min_width": null,
            "object_fit": null,
            "object_position": null,
            "order": null,
            "overflow": null,
            "overflow_x": null,
            "overflow_y": null,
            "padding": null,
            "right": null,
            "top": null,
            "visibility": null,
            "width": null
          }
        },
        "c5a6727a96864c78a8536c8261d0e978": {
          "model_module": "@jupyter-widgets/controls",
          "model_module_version": "1.5.0",
          "model_name": "HTMLModel",
          "state": {
            "_dom_classes": [],
            "_model_module": "@jupyter-widgets/controls",
            "_model_module_version": "1.5.0",
            "_model_name": "HTMLModel",
            "_view_count": null,
            "_view_module": "@jupyter-widgets/controls",
            "_view_module_version": "1.5.0",
            "_view_name": "HTMLView",
            "description": "",
            "description_tooltip": null,
            "layout": "IPY_MODEL_396e3244d6414473810157c110d9ffc4",
            "placeholder": "​",
            "style": "IPY_MODEL_72eec654c5914af9ba295b36a94b3baf",
            "value": " 1753/1753 [03:55&lt;00:00,  7.35it/s, batch_loss=3.06]"
          }
        },
        "c5db9b4be3ef4bb5818c867e74794e34": {
          "model_module": "@jupyter-widgets/base",
          "model_module_version": "1.2.0",
          "model_name": "LayoutModel",
          "state": {
            "_model_module": "@jupyter-widgets/base",
            "_model_module_version": "1.2.0",
            "_model_name": "LayoutModel",
            "_view_count": null,
            "_view_module": "@jupyter-widgets/base",
            "_view_module_version": "1.2.0",
            "_view_name": "LayoutView",
            "align_content": null,
            "align_items": null,
            "align_self": null,
            "border": null,
            "bottom": null,
            "display": null,
            "flex": null,
            "flex_flow": null,
            "grid_area": null,
            "grid_auto_columns": null,
            "grid_auto_flow": null,
            "grid_auto_rows": null,
            "grid_column": null,
            "grid_gap": null,
            "grid_row": null,
            "grid_template_areas": null,
            "grid_template_columns": null,
            "grid_template_rows": null,
            "height": null,
            "justify_content": null,
            "justify_items": null,
            "left": null,
            "margin": null,
            "max_height": null,
            "max_width": null,
            "min_height": null,
            "min_width": null,
            "object_fit": null,
            "object_position": null,
            "order": null,
            "overflow": null,
            "overflow_x": null,
            "overflow_y": null,
            "padding": null,
            "right": null,
            "top": null,
            "visibility": null,
            "width": null
          }
        },
        "cb632ff40fb6498b96263faebfc05036": {
          "model_module": "@jupyter-widgets/controls",
          "model_module_version": "1.5.0",
          "model_name": "FloatProgressModel",
          "state": {
            "_dom_classes": [],
            "_model_module": "@jupyter-widgets/controls",
            "_model_module_version": "1.5.0",
            "_model_name": "FloatProgressModel",
            "_view_count": null,
            "_view_module": "@jupyter-widgets/controls",
            "_view_module_version": "1.5.0",
            "_view_name": "ProgressView",
            "bar_style": "success",
            "description": "",
            "description_tooltip": null,
            "layout": "IPY_MODEL_66d84b1981ba4b908975476dd264c45d",
            "max": 3475,
            "min": 0,
            "orientation": "horizontal",
            "style": "IPY_MODEL_e7a124db081c4dfab889ae10df183c48",
            "value": 3475
          }
        },
        "ce25ba1c43a24f188a194fafdc9667f7": {
          "model_module": "@jupyter-widgets/controls",
          "model_module_version": "1.5.0",
          "model_name": "DescriptionStyleModel",
          "state": {
            "_model_module": "@jupyter-widgets/controls",
            "_model_module_version": "1.5.0",
            "_model_name": "DescriptionStyleModel",
            "_view_count": null,
            "_view_module": "@jupyter-widgets/base",
            "_view_module_version": "1.2.0",
            "_view_name": "StyleView",
            "description_width": ""
          }
        },
        "cea3bf0de289441981ba1f5c322c42d6": {
          "model_module": "@jupyter-widgets/controls",
          "model_module_version": "1.5.0",
          "model_name": "FloatProgressModel",
          "state": {
            "_dom_classes": [],
            "_model_module": "@jupyter-widgets/controls",
            "_model_module_version": "1.5.0",
            "_model_name": "FloatProgressModel",
            "_view_count": null,
            "_view_module": "@jupyter-widgets/controls",
            "_view_module_version": "1.5.0",
            "_view_name": "ProgressView",
            "bar_style": "success",
            "description": "",
            "description_tooltip": null,
            "layout": "IPY_MODEL_0b04f19feb7d43e9b65da23dcb2c955a",
            "max": 3491,
            "min": 0,
            "orientation": "horizontal",
            "style": "IPY_MODEL_5fca81e623d84cae8e02260e447ab7c2",
            "value": 3491
          }
        },
        "d1aef72f18dc443dbb6631d0d6dcef05": {
          "model_module": "@jupyter-widgets/controls",
          "model_module_version": "1.5.0",
          "model_name": "ProgressStyleModel",
          "state": {
            "_model_module": "@jupyter-widgets/controls",
            "_model_module_version": "1.5.0",
            "_model_name": "ProgressStyleModel",
            "_view_count": null,
            "_view_module": "@jupyter-widgets/base",
            "_view_module_version": "1.2.0",
            "_view_name": "StyleView",
            "bar_color": "steelblue",
            "description_width": ""
          }
        },
        "d1b1f364122c441981698694df16ea6a": {
          "model_module": "@jupyter-widgets/controls",
          "model_module_version": "1.5.0",
          "model_name": "HTMLModel",
          "state": {
            "_dom_classes": [],
            "_model_module": "@jupyter-widgets/controls",
            "_model_module_version": "1.5.0",
            "_model_name": "HTMLModel",
            "_view_count": null,
            "_view_module": "@jupyter-widgets/controls",
            "_view_module_version": "1.5.0",
            "_view_name": "HTMLView",
            "description": "",
            "description_tooltip": null,
            "layout": "IPY_MODEL_4d8bf0cbd3a94726a7fe67c41939c3d5",
            "placeholder": "​",
            "style": "IPY_MODEL_9c4cbeeac83a428b9b46af88013f3696",
            "value": "100%"
          }
        },
        "d4312ed49e7e4e0baff7bc08618345a0": {
          "model_module": "@jupyter-widgets/base",
          "model_module_version": "1.2.0",
          "model_name": "LayoutModel",
          "state": {
            "_model_module": "@jupyter-widgets/base",
            "_model_module_version": "1.2.0",
            "_model_name": "LayoutModel",
            "_view_count": null,
            "_view_module": "@jupyter-widgets/base",
            "_view_module_version": "1.2.0",
            "_view_name": "LayoutView",
            "align_content": null,
            "align_items": null,
            "align_self": null,
            "border": null,
            "bottom": null,
            "display": null,
            "flex": null,
            "flex_flow": null,
            "grid_area": null,
            "grid_auto_columns": null,
            "grid_auto_flow": null,
            "grid_auto_rows": null,
            "grid_column": null,
            "grid_gap": null,
            "grid_row": null,
            "grid_template_areas": null,
            "grid_template_columns": null,
            "grid_template_rows": null,
            "height": null,
            "justify_content": null,
            "justify_items": null,
            "left": null,
            "margin": null,
            "max_height": null,
            "max_width": null,
            "min_height": null,
            "min_width": null,
            "object_fit": null,
            "object_position": null,
            "order": null,
            "overflow": null,
            "overflow_x": null,
            "overflow_y": null,
            "padding": null,
            "right": null,
            "top": null,
            "visibility": null,
            "width": null
          }
        },
        "d5f91d82ddb042b1b97b1154f7003615": {
          "model_module": "@jupyter-widgets/controls",
          "model_module_version": "1.5.0",
          "model_name": "HBoxModel",
          "state": {
            "_dom_classes": [],
            "_model_module": "@jupyter-widgets/controls",
            "_model_module_version": "1.5.0",
            "_model_name": "HBoxModel",
            "_view_count": null,
            "_view_module": "@jupyter-widgets/controls",
            "_view_module_version": "1.5.0",
            "_view_name": "HBoxView",
            "box_style": "",
            "children": [
              "IPY_MODEL_900d449b3a10476d87b93d0b1e892ae8",
              "IPY_MODEL_1a6219674a36458698cff03ab55444c1",
              "IPY_MODEL_4508ee8c22b84e81a8e143f446f2597a"
            ],
            "layout": "IPY_MODEL_de737ef5e39344ecb4ca1bcbbed9460f"
          }
        },
        "d763de4d3b704ec9b8044c0236016b74": {
          "model_module": "@jupyter-widgets/controls",
          "model_module_version": "1.5.0",
          "model_name": "HTMLModel",
          "state": {
            "_dom_classes": [],
            "_model_module": "@jupyter-widgets/controls",
            "_model_module_version": "1.5.0",
            "_model_name": "HTMLModel",
            "_view_count": null,
            "_view_module": "@jupyter-widgets/controls",
            "_view_module_version": "1.5.0",
            "_view_name": "HTMLView",
            "description": "",
            "description_tooltip": null,
            "layout": "IPY_MODEL_1c3919120286480695ceb06bb898471e",
            "placeholder": "​",
            "style": "IPY_MODEL_71b5db6caa3440abb305114e7f819a57",
            "value": "100%"
          }
        },
        "d9be772909b4442bb74a8a11cfa52945": {
          "model_module": "@jupyter-widgets/controls",
          "model_module_version": "1.5.0",
          "model_name": "ProgressStyleModel",
          "state": {
            "_model_module": "@jupyter-widgets/controls",
            "_model_module_version": "1.5.0",
            "_model_name": "ProgressStyleModel",
            "_view_count": null,
            "_view_module": "@jupyter-widgets/base",
            "_view_module_version": "1.2.0",
            "_view_name": "StyleView",
            "bar_color": "steelblue",
            "description_width": ""
          }
        },
        "de737ef5e39344ecb4ca1bcbbed9460f": {
          "model_module": "@jupyter-widgets/base",
          "model_module_version": "1.2.0",
          "model_name": "LayoutModel",
          "state": {
            "_model_module": "@jupyter-widgets/base",
            "_model_module_version": "1.2.0",
            "_model_name": "LayoutModel",
            "_view_count": null,
            "_view_module": "@jupyter-widgets/base",
            "_view_module_version": "1.2.0",
            "_view_name": "LayoutView",
            "align_content": null,
            "align_items": null,
            "align_self": null,
            "border": null,
            "bottom": null,
            "display": null,
            "flex": null,
            "flex_flow": null,
            "grid_area": null,
            "grid_auto_columns": null,
            "grid_auto_flow": null,
            "grid_auto_rows": null,
            "grid_column": null,
            "grid_gap": null,
            "grid_row": null,
            "grid_template_areas": null,
            "grid_template_columns": null,
            "grid_template_rows": null,
            "height": null,
            "justify_content": null,
            "justify_items": null,
            "left": null,
            "margin": null,
            "max_height": null,
            "max_width": null,
            "min_height": null,
            "min_width": null,
            "object_fit": null,
            "object_position": null,
            "order": null,
            "overflow": null,
            "overflow_x": null,
            "overflow_y": null,
            "padding": null,
            "right": null,
            "top": null,
            "visibility": null,
            "width": null
          }
        },
        "e5b95fce71c24b3193526aaebbc8d558": {
          "model_module": "@jupyter-widgets/base",
          "model_module_version": "1.2.0",
          "model_name": "LayoutModel",
          "state": {
            "_model_module": "@jupyter-widgets/base",
            "_model_module_version": "1.2.0",
            "_model_name": "LayoutModel",
            "_view_count": null,
            "_view_module": "@jupyter-widgets/base",
            "_view_module_version": "1.2.0",
            "_view_name": "LayoutView",
            "align_content": null,
            "align_items": null,
            "align_self": null,
            "border": null,
            "bottom": null,
            "display": null,
            "flex": null,
            "flex_flow": null,
            "grid_area": null,
            "grid_auto_columns": null,
            "grid_auto_flow": null,
            "grid_auto_rows": null,
            "grid_column": null,
            "grid_gap": null,
            "grid_row": null,
            "grid_template_areas": null,
            "grid_template_columns": null,
            "grid_template_rows": null,
            "height": null,
            "justify_content": null,
            "justify_items": null,
            "left": null,
            "margin": null,
            "max_height": null,
            "max_width": null,
            "min_height": null,
            "min_width": null,
            "object_fit": null,
            "object_position": null,
            "order": null,
            "overflow": null,
            "overflow_x": null,
            "overflow_y": null,
            "padding": null,
            "right": null,
            "top": null,
            "visibility": null,
            "width": null
          }
        },
        "e6d2acc31e6f46faa9d234620141cdb0": {
          "model_module": "@jupyter-widgets/controls",
          "model_module_version": "1.5.0",
          "model_name": "ProgressStyleModel",
          "state": {
            "_model_module": "@jupyter-widgets/controls",
            "_model_module_version": "1.5.0",
            "_model_name": "ProgressStyleModel",
            "_view_count": null,
            "_view_module": "@jupyter-widgets/base",
            "_view_module_version": "1.2.0",
            "_view_name": "StyleView",
            "bar_color": "steelblue",
            "description_width": ""
          }
        },
        "e7a124db081c4dfab889ae10df183c48": {
          "model_module": "@jupyter-widgets/controls",
          "model_module_version": "1.5.0",
          "model_name": "ProgressStyleModel",
          "state": {
            "_model_module": "@jupyter-widgets/controls",
            "_model_module_version": "1.5.0",
            "_model_name": "ProgressStyleModel",
            "_view_count": null,
            "_view_module": "@jupyter-widgets/base",
            "_view_module_version": "1.2.0",
            "_view_name": "StyleView",
            "bar_color": null,
            "description_width": ""
          }
        },
        "e89c2518a14842d8ad7a240d5351991c": {
          "model_module": "@jupyter-widgets/controls",
          "model_module_version": "1.5.0",
          "model_name": "DescriptionStyleModel",
          "state": {
            "_model_module": "@jupyter-widgets/controls",
            "_model_module_version": "1.5.0",
            "_model_name": "DescriptionStyleModel",
            "_view_count": null,
            "_view_module": "@jupyter-widgets/base",
            "_view_module_version": "1.2.0",
            "_view_name": "StyleView",
            "description_width": ""
          }
        },
        "e90e8b7683d74be284aa585ac674eac2": {
          "model_module": "@jupyter-widgets/controls",
          "model_module_version": "1.5.0",
          "model_name": "HTMLModel",
          "state": {
            "_dom_classes": [],
            "_model_module": "@jupyter-widgets/controls",
            "_model_module_version": "1.5.0",
            "_model_name": "HTMLModel",
            "_view_count": null,
            "_view_module": "@jupyter-widgets/controls",
            "_view_module_version": "1.5.0",
            "_view_name": "HTMLView",
            "description": "",
            "description_tooltip": null,
            "layout": "IPY_MODEL_571268e2343e4493ac95dd8bdd090e3e",
            "placeholder": "​",
            "style": "IPY_MODEL_c1d56ea44dfd45af8e7bc3b6c1e7ef6e",
            "value": " 219/219 [00:27&lt;00:00,  7.89it/s]"
          }
        },
        "e9a5a1add4a84bd1a948fd33ec671fde": {
          "model_module": "@jupyter-widgets/controls",
          "model_module_version": "1.5.0",
          "model_name": "HTMLModel",
          "state": {
            "_dom_classes": [],
            "_model_module": "@jupyter-widgets/controls",
            "_model_module_version": "1.5.0",
            "_model_name": "HTMLModel",
            "_view_count": null,
            "_view_module": "@jupyter-widgets/controls",
            "_view_module_version": "1.5.0",
            "_view_name": "HTMLView",
            "description": "",
            "description_tooltip": null,
            "layout": "IPY_MODEL_ebb3e2dee80b463cbe61f5b2f7deb84a",
            "placeholder": "​",
            "style": "IPY_MODEL_bd7cfb03afe8472690c920530d5e07d0",
            "value": "100%"
          }
        },
        "ebb3e2dee80b463cbe61f5b2f7deb84a": {
          "model_module": "@jupyter-widgets/base",
          "model_module_version": "1.2.0",
          "model_name": "LayoutModel",
          "state": {
            "_model_module": "@jupyter-widgets/base",
            "_model_module_version": "1.2.0",
            "_model_name": "LayoutModel",
            "_view_count": null,
            "_view_module": "@jupyter-widgets/base",
            "_view_module_version": "1.2.0",
            "_view_name": "LayoutView",
            "align_content": null,
            "align_items": null,
            "align_self": null,
            "border": null,
            "bottom": null,
            "display": null,
            "flex": null,
            "flex_flow": null,
            "grid_area": null,
            "grid_auto_columns": null,
            "grid_auto_flow": null,
            "grid_auto_rows": null,
            "grid_column": null,
            "grid_gap": null,
            "grid_row": null,
            "grid_template_areas": null,
            "grid_template_columns": null,
            "grid_template_rows": null,
            "height": null,
            "justify_content": null,
            "justify_items": null,
            "left": null,
            "margin": null,
            "max_height": null,
            "max_width": null,
            "min_height": null,
            "min_width": null,
            "object_fit": null,
            "object_position": null,
            "order": null,
            "overflow": null,
            "overflow_x": null,
            "overflow_y": null,
            "padding": null,
            "right": null,
            "top": null,
            "visibility": null,
            "width": null
          }
        },
        "ef07f965151f4eb781bc34c29eb51ff7": {
          "model_module": "@jupyter-widgets/controls",
          "model_module_version": "1.5.0",
          "model_name": "ProgressStyleModel",
          "state": {
            "_model_module": "@jupyter-widgets/controls",
            "_model_module_version": "1.5.0",
            "_model_name": "ProgressStyleModel",
            "_view_count": null,
            "_view_module": "@jupyter-widgets/base",
            "_view_module_version": "1.2.0",
            "_view_name": "StyleView",
            "bar_color": "steelblue",
            "description_width": ""
          }
        },
        "f4937649dabf4338b46fa837684ec164": {
          "model_module": "@jupyter-widgets/base",
          "model_module_version": "1.2.0",
          "model_name": "LayoutModel",
          "state": {
            "_model_module": "@jupyter-widgets/base",
            "_model_module_version": "1.2.0",
            "_model_name": "LayoutModel",
            "_view_count": null,
            "_view_module": "@jupyter-widgets/base",
            "_view_module_version": "1.2.0",
            "_view_name": "LayoutView",
            "align_content": null,
            "align_items": null,
            "align_self": null,
            "border": null,
            "bottom": null,
            "display": null,
            "flex": null,
            "flex_flow": null,
            "grid_area": null,
            "grid_auto_columns": null,
            "grid_auto_flow": null,
            "grid_auto_rows": null,
            "grid_column": null,
            "grid_gap": null,
            "grid_row": null,
            "grid_template_areas": null,
            "grid_template_columns": null,
            "grid_template_rows": null,
            "height": null,
            "justify_content": null,
            "justify_items": null,
            "left": null,
            "margin": null,
            "max_height": null,
            "max_width": null,
            "min_height": null,
            "min_width": null,
            "object_fit": null,
            "object_position": null,
            "order": null,
            "overflow": null,
            "overflow_x": null,
            "overflow_y": null,
            "padding": null,
            "right": null,
            "top": null,
            "visibility": null,
            "width": null
          }
        },
        "f5d8a1c0a0224d57975bfab1b953ca6b": {
          "model_module": "@jupyter-widgets/base",
          "model_module_version": "1.2.0",
          "model_name": "LayoutModel",
          "state": {
            "_model_module": "@jupyter-widgets/base",
            "_model_module_version": "1.2.0",
            "_model_name": "LayoutModel",
            "_view_count": null,
            "_view_module": "@jupyter-widgets/base",
            "_view_module_version": "1.2.0",
            "_view_name": "LayoutView",
            "align_content": null,
            "align_items": null,
            "align_self": null,
            "border": null,
            "bottom": null,
            "display": null,
            "flex": null,
            "flex_flow": null,
            "grid_area": null,
            "grid_auto_columns": null,
            "grid_auto_flow": null,
            "grid_auto_rows": null,
            "grid_column": null,
            "grid_gap": null,
            "grid_row": null,
            "grid_template_areas": null,
            "grid_template_columns": null,
            "grid_template_rows": null,
            "height": null,
            "justify_content": null,
            "justify_items": null,
            "left": null,
            "margin": null,
            "max_height": null,
            "max_width": null,
            "min_height": null,
            "min_width": null,
            "object_fit": null,
            "object_position": null,
            "order": null,
            "overflow": null,
            "overflow_x": null,
            "overflow_y": null,
            "padding": null,
            "right": null,
            "top": null,
            "visibility": null,
            "width": null
          }
        },
        "f6bc690dde814c83ac37d384867bdecd": {
          "model_module": "@jupyter-widgets/base",
          "model_module_version": "1.2.0",
          "model_name": "LayoutModel",
          "state": {
            "_model_module": "@jupyter-widgets/base",
            "_model_module_version": "1.2.0",
            "_model_name": "LayoutModel",
            "_view_count": null,
            "_view_module": "@jupyter-widgets/base",
            "_view_module_version": "1.2.0",
            "_view_name": "LayoutView",
            "align_content": null,
            "align_items": null,
            "align_self": null,
            "border": null,
            "bottom": null,
            "display": null,
            "flex": null,
            "flex_flow": null,
            "grid_area": null,
            "grid_auto_columns": null,
            "grid_auto_flow": null,
            "grid_auto_rows": null,
            "grid_column": null,
            "grid_gap": null,
            "grid_row": null,
            "grid_template_areas": null,
            "grid_template_columns": null,
            "grid_template_rows": null,
            "height": null,
            "justify_content": null,
            "justify_items": null,
            "left": null,
            "margin": null,
            "max_height": null,
            "max_width": null,
            "min_height": null,
            "min_width": null,
            "object_fit": null,
            "object_position": null,
            "order": null,
            "overflow": null,
            "overflow_x": null,
            "overflow_y": null,
            "padding": null,
            "right": null,
            "top": null,
            "visibility": null,
            "width": null
          }
        },
        "f78b109830f04e5ba8f973a2150cd41a": {
          "model_module": "@jupyter-widgets/controls",
          "model_module_version": "1.5.0",
          "model_name": "DescriptionStyleModel",
          "state": {
            "_model_module": "@jupyter-widgets/controls",
            "_model_module_version": "1.5.0",
            "_model_name": "DescriptionStyleModel",
            "_view_count": null,
            "_view_module": "@jupyter-widgets/base",
            "_view_module_version": "1.2.0",
            "_view_name": "StyleView",
            "description_width": ""
          }
        },
        "fe2ef8c4f7164671bf3b78d8e541222c": {
          "model_module": "@jupyter-widgets/base",
          "model_module_version": "1.2.0",
          "model_name": "LayoutModel",
          "state": {
            "_model_module": "@jupyter-widgets/base",
            "_model_module_version": "1.2.0",
            "_model_name": "LayoutModel",
            "_view_count": null,
            "_view_module": "@jupyter-widgets/base",
            "_view_module_version": "1.2.0",
            "_view_name": "LayoutView",
            "align_content": null,
            "align_items": null,
            "align_self": null,
            "border": null,
            "bottom": null,
            "display": null,
            "flex": null,
            "flex_flow": null,
            "grid_area": null,
            "grid_auto_columns": null,
            "grid_auto_flow": null,
            "grid_auto_rows": null,
            "grid_column": null,
            "grid_gap": null,
            "grid_row": null,
            "grid_template_areas": null,
            "grid_template_columns": null,
            "grid_template_rows": null,
            "height": null,
            "justify_content": null,
            "justify_items": null,
            "left": null,
            "margin": null,
            "max_height": null,
            "max_width": null,
            "min_height": null,
            "min_width": null,
            "object_fit": null,
            "object_position": null,
            "order": null,
            "overflow": null,
            "overflow_x": null,
            "overflow_y": null,
            "padding": null,
            "right": null,
            "top": null,
            "visibility": null,
            "width": null
          }
        }
      }
    }
  },
  "nbformat": 4,
  "nbformat_minor": 0
}
