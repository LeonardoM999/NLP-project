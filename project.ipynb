{
 "cells": [
  {
   "cell_type": "code",
   "execution_count": 14,
   "metadata": {},
   "outputs": [],
   "source": [
    "import numpy as np\n",
    "import pandas as pd\n",
    "from sklearn.model_selection import train_test_split"
   ]
  },
  {
   "cell_type": "code",
   "execution_count": 12,
   "metadata": {},
   "outputs": [
    {
     "data": {
      "text/html": [
       "<div>\n",
       "<style scoped>\n",
       "    .dataframe tbody tr th:only-of-type {\n",
       "        vertical-align: middle;\n",
       "    }\n",
       "\n",
       "    .dataframe tbody tr th {\n",
       "        vertical-align: top;\n",
       "    }\n",
       "\n",
       "    .dataframe thead th {\n",
       "        text-align: right;\n",
       "    }\n",
       "</style>\n",
       "<table border=\"1\" class=\"dataframe\">\n",
       "  <thead>\n",
       "    <tr style=\"text-align: right;\">\n",
       "      <th></th>\n",
       "      <th>episode</th>\n",
       "      <th>speakers</th>\n",
       "      <th>emotions</th>\n",
       "      <th>utterances</th>\n",
       "      <th>triggers</th>\n",
       "    </tr>\n",
       "  </thead>\n",
       "  <tbody>\n",
       "    <tr>\n",
       "      <th>0</th>\n",
       "      <td>utterance_0</td>\n",
       "      <td>[Chandler, The Interviewer, Chandler, The Inte...</td>\n",
       "      <td>[neutral, neutral, neutral, neutral, surprise]</td>\n",
       "      <td>[also I was the point person on my company's t...</td>\n",
       "      <td>[0.0, 0.0, 0.0, 1.0, 0.0]</td>\n",
       "    </tr>\n",
       "    <tr>\n",
       "      <th>1</th>\n",
       "      <td>utterance_1</td>\n",
       "      <td>[Chandler, The Interviewer, Chandler, The Inte...</td>\n",
       "      <td>[neutral, neutral, neutral, neutral, surprise,...</td>\n",
       "      <td>[also I was the point person on my company's t...</td>\n",
       "      <td>[0.0, 0.0, 0.0, 0.0, 0.0, 1.0, 0.0]</td>\n",
       "    </tr>\n",
       "    <tr>\n",
       "      <th>2</th>\n",
       "      <td>utterance_2</td>\n",
       "      <td>[Chandler, The Interviewer, Chandler, The Inte...</td>\n",
       "      <td>[neutral, neutral, neutral, neutral, surprise,...</td>\n",
       "      <td>[also I was the point person on my company's t...</td>\n",
       "      <td>[0.0, 0.0, 0.0, 0.0, 0.0, 0.0, 0.0, 1.0, 0.0, ...</td>\n",
       "    </tr>\n",
       "    <tr>\n",
       "      <th>3</th>\n",
       "      <td>utterance_3</td>\n",
       "      <td>[Chandler, The Interviewer, Chandler, The Inte...</td>\n",
       "      <td>[neutral, neutral, neutral, neutral, surprise,...</td>\n",
       "      <td>[also I was the point person on my company's t...</td>\n",
       "      <td>[0.0, 0.0, 0.0, 0.0, 0.0, 0.0, 0.0, 0.0, 0.0, ...</td>\n",
       "    </tr>\n",
       "    <tr>\n",
       "      <th>4</th>\n",
       "      <td>utterance_4</td>\n",
       "      <td>[Joey, Rachel, Joey, Rachel]</td>\n",
       "      <td>[surprise, sadness, surprise, fear]</td>\n",
       "      <td>[But then who? The waitress I went out with la...</td>\n",
       "      <td>[0.0, 0.0, 1.0, 0.0]</td>\n",
       "    </tr>\n",
       "  </tbody>\n",
       "</table>\n",
       "</div>"
      ],
      "text/plain": [
       "       episode                                           speakers  \\\n",
       "0  utterance_0  [Chandler, The Interviewer, Chandler, The Inte...   \n",
       "1  utterance_1  [Chandler, The Interviewer, Chandler, The Inte...   \n",
       "2  utterance_2  [Chandler, The Interviewer, Chandler, The Inte...   \n",
       "3  utterance_3  [Chandler, The Interviewer, Chandler, The Inte...   \n",
       "4  utterance_4                       [Joey, Rachel, Joey, Rachel]   \n",
       "\n",
       "                                            emotions  \\\n",
       "0     [neutral, neutral, neutral, neutral, surprise]   \n",
       "1  [neutral, neutral, neutral, neutral, surprise,...   \n",
       "2  [neutral, neutral, neutral, neutral, surprise,...   \n",
       "3  [neutral, neutral, neutral, neutral, surprise,...   \n",
       "4                [surprise, sadness, surprise, fear]   \n",
       "\n",
       "                                          utterances  \\\n",
       "0  [also I was the point person on my company's t...   \n",
       "1  [also I was the point person on my company's t...   \n",
       "2  [also I was the point person on my company's t...   \n",
       "3  [also I was the point person on my company's t...   \n",
       "4  [But then who? The waitress I went out with la...   \n",
       "\n",
       "                                            triggers  \n",
       "0                          [0.0, 0.0, 0.0, 1.0, 0.0]  \n",
       "1                [0.0, 0.0, 0.0, 0.0, 0.0, 1.0, 0.0]  \n",
       "2  [0.0, 0.0, 0.0, 0.0, 0.0, 0.0, 0.0, 1.0, 0.0, ...  \n",
       "3  [0.0, 0.0, 0.0, 0.0, 0.0, 0.0, 0.0, 0.0, 0.0, ...  \n",
       "4                               [0.0, 0.0, 1.0, 0.0]  "
      ]
     },
     "execution_count": 12,
     "metadata": {},
     "output_type": "execute_result"
    }
   ],
   "source": [
    "df = pd.read_json(\"data/MELD_train_efr.json\")\n",
    "df.head()"
   ]
  },
  {
   "cell_type": "code",
   "execution_count": 3,
   "metadata": {},
   "outputs": [
    {
     "name": "stdout",
     "output_type": "stream",
     "text": [
      "[\"also I was the point person on my company's transition from the KL-5 to GR-6 system.\", \"You must've had your hands full.\", 'That I did. That I did.', \"So let's talk a little bit about your duties.\", 'My duties?  All right.']\n",
      "[\"also I was the point person on my company's transition from the KL-5 to GR-6 system.\", \"You must've had your hands full.\", 'That I did. That I did.', \"So let's talk a little bit about your duties.\", 'My duties?  All right.', \"Now you'll be heading a whole division, so you'll have a lot of duties.\", 'I see.']\n",
      "[\"also I was the point person on my company's transition from the KL-5 to GR-6 system.\", \"You must've had your hands full.\", 'That I did. That I did.', \"So let's talk a little bit about your duties.\", 'My duties?  All right.', \"Now you'll be heading a whole division, so you'll have a lot of duties.\", 'I see.', \"But there'll be perhaps 30 people under you so you can dump a certain amount on them.\", 'Good to know.', 'We can go into detail', \"No don't I beg of you!\"]\n",
      "[\"also I was the point person on my company's transition from the KL-5 to GR-6 system.\", \"You must've had your hands full.\", 'That I did. That I did.', \"So let's talk a little bit about your duties.\", 'My duties?  All right.', \"Now you'll be heading a whole division, so you'll have a lot of duties.\", 'I see.', \"But there'll be perhaps 30 people under you so you can dump a certain amount on them.\", 'Good to know.', 'We can go into detail', \"No don't I beg of you!\", \"All right then, we'll have a definite answer for you on Monday, but I think I can say with some confidence, you'll fit in well here.\", 'Really?!']\n"
     ]
    }
   ],
   "source": [
    "print(df[\"utterances\"][0])\n",
    "print(df[\"utterances\"][1])\n",
    "print(df[\"utterances\"][2])\n",
    "print(df[\"utterances\"][3])"
   ]
  },
  {
   "cell_type": "code",
   "execution_count": 19,
   "metadata": {},
   "outputs": [
    {
     "name": "stdout",
     "output_type": "stream",
     "text": [
      "[\"also I was the point person on my company's transition from the KL-5 to GR-6 system.\", \"You must've had your hands full.\", 'That I did. That I did.', \"So let's talk a little bit about your duties.\", 'My duties?  All right.']\n",
      "[\"also I was the point person on my company's transition from the KL-5 to GR-6 system.\", \"You must've had your hands full.\", 'That I did. That I did.', \"So let's talk a little bit about your duties.\", 'My duties?  All right.', \"Now you'll be heading a whole division, so you'll have a lot of duties.\", 'I see.']\n",
      "[\"also I was the point person on my company's transition from the KL-5 to GR-6 system.\", \"You must've had your hands full.\", 'That I did. That I did.', \"So let's talk a little bit about your duties.\", 'My duties?  All right.', \"Now you'll be heading a whole division, so you'll have a lot of duties.\", 'I see.', \"But there'll be perhaps 30 people under you so you can dump a certain amount on them.\", 'Good to know.', 'We can go into detail', \"No don't I beg of you!\"]\n",
      "[\"also I was the point person on my company's transition from the KL-5 to GR-6 system.\", \"You must've had your hands full.\", 'That I did. That I did.', \"So let's talk a little bit about your duties.\", 'My duties?  All right.', \"Now you'll be heading a whole division, so you'll have a lot of duties.\", 'I see.', \"But there'll be perhaps 30 people under you so you can dump a certain amount on them.\", 'Good to know.', 'We can go into detail', \"No don't I beg of you!\", \"All right then, we'll have a definite answer for you on Monday, but I think I can say with some confidence, you'll fit in well here.\", 'Really?!']\n",
      "['But then who? The waitress I went out with last month?', 'You know? Forget it!', 'No-no-no-no, no! Who, who were you talking about?', \"No, I-I-I-I don't, I actually don't know\"]\n",
      "['But then who? The waitress I went out with last month?', 'You know? Forget it!', 'No-no-no-no, no! Who, who were you talking about?', \"No, I-I-I-I don't, I actually don't know\", 'Ok!']\n",
      "['But then who? The waitress I went out with last month?', 'You know? Forget it!', 'No-no-no-no, no! Who, who were you talking about?', \"No, I-I-I-I don't, I actually don't know\", 'Ok!', 'All right, well...', 'Yeah, sure!']\n",
      "['Hey, Mon.', 'Hey-hey-hey. You wanna hear something that sucks.', 'Do I ever.']\n",
      "['Hey, Mon.', 'Hey-hey-hey. You wanna hear something that sucks.', 'Do I ever.', \"Chris says they're closing down the bar.\"]\n",
      "['Hey, Mon.', 'Hey-hey-hey. You wanna hear something that sucks.', 'Do I ever.', \"Chris says they're closing down the bar.\", 'No way!']\n",
      "['Hey, Mon.', 'Hey-hey-hey. You wanna hear something that sucks.', 'Do I ever.', \"Chris says they're closing down the bar.\", 'No way!', \"Yeah, apparently they're turning it into some kinda coffee place.\"]\n",
      "['Hey, Mon.', 'Hey-hey-hey. You wanna hear something that sucks.', 'Do I ever.', \"Chris says they're closing down the bar.\", 'No way!', \"Yeah, apparently they're turning it into some kinda coffee place.\", 'Just coffee! Where are we gonna hang out now?']\n",
      "['Hey, Mon.', 'Hey-hey-hey. You wanna hear something that sucks.', 'Do I ever.', \"Chris says they're closing down the bar.\", 'No way!', \"Yeah, apparently they're turning it into some kinda coffee place.\", 'Just coffee! Where are we gonna hang out now?', 'Got me.']\n",
      "['Hey, Mon.', 'Hey-hey-hey. You wanna hear something that sucks.', 'Do I ever.', \"Chris says they're closing down the bar.\", 'No way!', \"Yeah, apparently they're turning it into some kinda coffee place.\", 'Just coffee! Where are we gonna hang out now?', 'Got me.', 'Can I get a beer.']\n",
      "['Hey, Mon.', 'Hey-hey-hey. You wanna hear something that sucks.', 'Do I ever.', \"Chris says they're closing down the bar.\", 'No way!', \"Yeah, apparently they're turning it into some kinda coffee place.\", 'Just coffee! Where are we gonna hang out now?', 'Got me.', 'Can I get a beer.', 'Hey, did you pick a roommate?']\n",
      "['Hey, Mon.', 'Hey-hey-hey. You wanna hear something that sucks.', 'Do I ever.', \"Chris says they're closing down the bar.\", 'No way!', \"Yeah, apparently they're turning it into some kinda coffee place.\", 'Just coffee! Where are we gonna hang out now?', 'Got me.', 'Can I get a beer.', 'Hey, did you pick a roommate?', 'You betcha!']\n",
      "['Oh my God, oh my God! Poor Monica!', 'What, what, what?!', 'What?!', 'He was with her when he wrote this poem.']\n",
      "['Oh my God, oh my God! Poor Monica!', 'What, what, what?!', 'What?!', 'He was with her when he wrote this poem.', \"Look,  'My vessel so empty with nothing inside.\", \"Now that I've touched you, you seem emptier still.'\", 'He thinks Monica is empty, she is the empty vase!']\n",
      "['Oh my God, oh my God! Poor Monica!', 'What, what, what?!', 'What?!', 'He was with her when he wrote this poem.', \"Look,  'My vessel so empty with nothing inside.\", \"Now that I've touched you, you seem emptier still.'\", 'He thinks Monica is empty, she is the empty vase!', 'Oh, totally. Oh, God, oh, she seemed so happy too.']\n",
      "['Hey!', 'Hi!', 'What are you doing here?', \"Ah y'know, this building is on my paper route so I...\"]\n",
      "['Hey!', 'Hi!', 'What are you doing here?', \"Ah y'know, this building is on my paper route so I...\", 'Oh.']\n",
      "['Hey!', 'Hi!', 'What are you doing here?', \"Ah y'know, this building is on my paper route so I...\", 'Oh.', 'Hi.', 'Hi.', \"How'd did it go?\", \"Oh well, the woman I interviewed with was pretty tough, but y'know thank God Mark coached me, because once I started talking about the fall line, she got all happy and wouldn't shut up.\"]\n",
      "['Hey!', 'Hi!', 'What are you doing here?', \"Ah y'know, this building is on my paper route so I...\", 'Oh.', 'Hi.', 'Hi.', \"How'd did it go?\", \"Oh well, the woman I interviewed with was pretty tough, but y'know thank God Mark coached me, because once I started talking about the fall line, she got all happy and wouldn't shut up.\", \"I'm so proud of you.\"]\n",
      "['Hey!', 'Hi!', 'What are you doing here?', \"Ah y'know, this building is on my paper route so I...\", 'Oh.', 'Hi.', 'Hi.', \"How'd did it go?\", \"Oh well, the woman I interviewed with was pretty tough, but y'know thank God Mark coached me, because once I started talking about the fall line, she got all happy and wouldn't shut up.\", \"I'm so proud of you.\", 'Me too!', \"Listen, I'm ah, I'm sorry I've been so crazy and jealous and, it's just that I like you a lot, so...\"]\n",
      "['Hey!', 'Hi!', 'What are you doing here?', \"Ah y'know, this building is on my paper route so I...\", 'Oh.', 'Hi.', 'Hi.', \"How'd did it go?\", \"Oh well, the woman I interviewed with was pretty tough, but y'know thank God Mark coached me, because once I started talking about the fall line, she got all happy and wouldn't shut up.\", \"I'm so proud of you.\", 'Me too!', \"Listen, I'm ah, I'm sorry I've been so crazy and jealous and, it's just that I like you a lot, so...\", 'I know.']\n",
      "['Hey!', 'Hi!', 'What are you doing here?', \"Ah y'know, this building is on my paper route so I...\", 'Oh.', 'Hi.', 'Hi.', \"How'd did it go?\", \"Oh well, the woman I interviewed with was pretty tough, but y'know thank God Mark coached me, because once I started talking about the fall line, she got all happy and wouldn't shut up.\", \"I'm so proud of you.\", 'Me too!', \"Listen, I'm ah, I'm sorry I've been so crazy and jealous and, it's just that I like you a lot, so...\", 'I know.', 'Yeah.']\n",
      "['Good job Joe! Well done! Top notch!', 'You liked it? You really liked it?', 'Oh-ho-ho, yeah!', 'Which part exactly?']\n",
      "['Good job Joe! Well done! Top notch!', 'You liked it? You really liked it?', 'Oh-ho-ho, yeah!', 'Which part exactly?', 'The whole thing! Can we go?']\n",
      "['Good job Joe! Well done! Top notch!', 'You liked it? You really liked it?', 'Oh-ho-ho, yeah!', 'Which part exactly?', 'The whole thing! Can we go?', 'Oh no-no-no, give me some specifics.']\n",
      "['Good job Joe! Well done! Top notch!', 'You liked it? You really liked it?', 'Oh-ho-ho, yeah!', 'Which part exactly?', 'The whole thing! Can we go?', 'Oh no-no-no, give me some specifics.', 'I love the specifics, the specifics were the best part!']\n",
      "['Good job Joe! Well done! Top notch!', 'You liked it? You really liked it?', 'Oh-ho-ho, yeah!', 'Which part exactly?', 'The whole thing! Can we go?', 'Oh no-no-no, give me some specifics.', 'I love the specifics, the specifics were the best part!', 'Hey, what about the scene with the kangaroo? Did-did you like that part?']\n",
      "['Good job Joe! Well done! Top notch!', 'You liked it? You really liked it?', 'Oh-ho-ho, yeah!', 'Which part exactly?', 'The whole thing! Can we go?', 'Oh no-no-no, give me some specifics.', 'I love the specifics, the specifics were the best part!', 'Hey, what about the scene with the kangaroo? Did-did you like that part?', 'I was surprised to see a kangaroo in a World War I epic.']\n",
      "['Good job Joe! Well done! Top notch!', 'You liked it? You really liked it?', 'Oh-ho-ho, yeah!', 'Which part exactly?', 'The whole thing! Can we go?', 'Oh no-no-no, give me some specifics.', 'I love the specifics, the specifics were the best part!', 'Hey, what about the scene with the kangaroo? Did-did you like that part?', 'I was surprised to see a kangaroo in a World War I epic.', 'You fell asleep!!']\n",
      "['Good job Joe! Well done! Top notch!', 'You liked it? You really liked it?', 'Oh-ho-ho, yeah!', 'Which part exactly?', 'The whole thing! Can we go?', 'Oh no-no-no, give me some specifics.', 'I love the specifics, the specifics were the best part!', 'Hey, what about the scene with the kangaroo? Did-did you like that part?', 'I was surprised to see a kangaroo in a World War I epic.', 'You fell asleep!!', 'There was no kangaroo!', \"They didn't take any of my suggestions!\", \"That's for coming buddy.\"]\n",
      "['Good job Joe! Well done! Top notch!', 'You liked it? You really liked it?', 'Oh-ho-ho, yeah!', 'Which part exactly?', 'The whole thing! Can we go?', 'Oh no-no-no, give me some specifics.', 'I love the specifics, the specifics were the best part!', 'Hey, what about the scene with the kangaroo? Did-did you like that part?', 'I was surprised to see a kangaroo in a World War I epic.', 'You fell asleep!!', 'There was no kangaroo!', \"They didn't take any of my suggestions!\", \"That's for coming buddy.\", \"I'll see you later.\", \"Don't go!\"]\n",
      "['Good job Joe! Well done! Top notch!', 'You liked it? You really liked it?', 'Oh-ho-ho, yeah!', 'Which part exactly?', 'The whole thing! Can we go?', 'Oh no-no-no, give me some specifics.', 'I love the specifics, the specifics were the best part!', 'Hey, what about the scene with the kangaroo? Did-did you like that part?', 'I was surprised to see a kangaroo in a World War I epic.', 'You fell asleep!!', 'There was no kangaroo!', \"They didn't take any of my suggestions!\", \"That's for coming buddy.\", \"I'll see you later.\", \"Don't go!\", \"I'm sorry.\", \"I'm so sorry!\", 'Look!']\n",
      "['Good job Joe! Well done! Top notch!', 'You liked it? You really liked it?', 'Oh-ho-ho, yeah!', 'Which part exactly?', 'The whole thing! Can we go?', 'Oh no-no-no, give me some specifics.', 'I love the specifics, the specifics were the best part!', 'Hey, what about the scene with the kangaroo? Did-did you like that part?', 'I was surprised to see a kangaroo in a World War I epic.', 'You fell asleep!!', 'There was no kangaroo!', \"They didn't take any of my suggestions!\", \"That's for coming buddy.\", \"I'll see you later.\", \"Don't go!\", \"I'm sorry.\", \"I'm so sorry!\", 'Look!', 'This guy fell asleep!']\n",
      "['Yes, and it is my dying wish to have that ring.', \"See, if I'm not buried with that ring then my spirit is going to wander the nether world for all eternity\", \"Okay, that's enough honey!\", \"I don't know.  Let me see the ring.\", 'Great! Okay, here.']\n",
      "[\"What've you been up to?\", 'Oh, you know, the usual, teaching aerobics, partying way too much.', 'Oh, and in case you were wondering, those are my legs on the new James Bond poster.', 'Can you hold on a moment? I have another call.  I love her.']\n",
      "[\"What've you been up to?\", 'Oh, you know, the usual, teaching aerobics, partying way too much.', 'Oh, and in case you were wondering, those are my legs on the new James Bond poster.', 'Can you hold on a moment? I have another call.  I love her.', 'I know.', \"I'm back.\"]\n",
      "[\"What've you been up to?\", 'Oh, you know, the usual, teaching aerobics, partying way too much.', 'Oh, and in case you were wondering, those are my legs on the new James Bond poster.', 'Can you hold on a moment? I have another call.  I love her.', 'I know.', \"I'm back.\", 'So, are we gonna get together or what?', \"Um, absolutely. Uh, how 'bout tomorrow afternoon? Do you know uh, Central Perk in the Village, say, five-ish?\", \"Great, I'll see you then.\", 'Ok.  Ok. Having a phone has finally paid off.']\n",
      "[\"What've you been up to?\", 'Oh, you know, the usual, teaching aerobics, partying way too much.', 'Oh, and in case you were wondering, those are my legs on the new James Bond poster.', 'Can you hold on a moment? I have another call.  I love her.', 'I know.', \"I'm back.\", 'So, are we gonna get together or what?', \"Um, absolutely. Uh, how 'bout tomorrow afternoon? Do you know uh, Central Perk in the Village, say, five-ish?\", \"Great, I'll see you then.\", 'Ok.  Ok. Having a phone has finally paid off.', 'Even though you do do a good Bob impression, I\\'m thinkin\\' when she sees you tomorow, she\\'s probably gonna realize, \"Hey, you\\'re not Bob.\"', \"I'm hoping that when Bob doesn't show up, she will seek comfort in the open arms of the wry stranger at the next table.\"]\n",
      "[\"What've you been up to?\", 'Oh, you know, the usual, teaching aerobics, partying way too much.', 'Oh, and in case you were wondering, those are my legs on the new James Bond poster.', 'Can you hold on a moment? I have another call.  I love her.', 'I know.', \"I'm back.\", 'So, are we gonna get together or what?', \"Um, absolutely. Uh, how 'bout tomorrow afternoon? Do you know uh, Central Perk in the Village, say, five-ish?\", \"Great, I'll see you then.\", 'Ok.  Ok. Having a phone has finally paid off.', 'Even though you do do a good Bob impression, I\\'m thinkin\\' when she sees you tomorow, she\\'s probably gonna realize, \"Hey, you\\'re not Bob.\"', \"I'm hoping that when Bob doesn't show up, she will seek comfort in the open arms of the wry stranger at the next table.\", 'Oh my god. You are pure evil.']\n",
      "[\"What've you been up to?\", 'Oh, you know, the usual, teaching aerobics, partying way too much.', 'Oh, and in case you were wondering, those are my legs on the new James Bond poster.', 'Can you hold on a moment? I have another call.  I love her.', 'I know.', \"I'm back.\", 'So, are we gonna get together or what?', \"Um, absolutely. Uh, how 'bout tomorrow afternoon? Do you know uh, Central Perk in the Village, say, five-ish?\", \"Great, I'll see you then.\", 'Ok.  Ok. Having a phone has finally paid off.', 'Even though you do do a good Bob impression, I\\'m thinkin\\' when she sees you tomorow, she\\'s probably gonna realize, \"Hey, you\\'re not Bob.\"', \"I'm hoping that when Bob doesn't show up, she will seek comfort in the open arms of the wry stranger at the next table.\", 'Oh my god. You are pure evil.', \"Ok, pure evil , horny and alone . I've done this\"]\n",
      "['This is my wedding.', \"All right, y'know what? We really are late! Let's go! Let's go! Let's go!!\", \"Fine. You'll-you'll watch it on video when we get back.\", 'Here you go Phoebe! Here you go Phobo! Phewbedo! Phaybobo.', 'Thank you.', 'Thank you.', \"All right, let's go! Bye, Pheebs!\"]\n",
      "['This is my wedding.', \"All right, y'know what? We really are late! Let's go! Let's go! Let's go!!\", \"Fine. You'll-you'll watch it on video when we get back.\", 'Here you go Phoebe! Here you go Phobo! Phewbedo! Phaybobo.', 'Thank you.', 'Thank you.', \"All right, let's go! Bye, Pheebs!\", 'Bye, Pheebs!', 'London baby!!', \"Oh, do you need a hug? You don't have to bring me anything!\"]\n",
      "['Hey!', \"Hey! So Estelle lined up a bunch of auditions for me tomorrow and I'll have my health insurance back in no time.\", \"That's great, but shouldn't you be on the toilet right now?\"]\n",
      "['Hey!', \"Hey! So Estelle lined up a bunch of auditions for me tomorrow and I'll have my health insurance back in no time.\", \"That's great, but shouldn't you be on the toilet right now?\", 'What?!']\n",
      "['Hey!', \"Hey! So Estelle lined up a bunch of auditions for me tomorrow and I'll have my health insurance back in no time.\", \"That's great, but shouldn't you be on the toilet right now?\", 'What?!', \"What's wrong with you?\", 'Nothing!']\n",
      "['Hey!', \"Hey! So Estelle lined up a bunch of auditions for me tomorrow and I'll have my health insurance back in no time.\", \"That's great, but shouldn't you be on the toilet right now?\", 'What?!', \"What's wrong with you?\", 'Nothing!', \"Well, I-I got this blinding pain in my stomach when I was lifting weights before, then I uh passed out and uh, haven't been able to stand up since.\"]\n"
     ]
    }
   ],
   "source": [
    "for it in range(50):\n",
    "    print(df[\"utterances\"][it])"
   ]
  },
  {
   "cell_type": "code",
   "execution_count": 22,
   "metadata": {},
   "outputs": [
    {
     "data": {
      "text/html": [
       "<div>\n",
       "<style scoped>\n",
       "    .dataframe tbody tr th:only-of-type {\n",
       "        vertical-align: middle;\n",
       "    }\n",
       "\n",
       "    .dataframe tbody tr th {\n",
       "        vertical-align: top;\n",
       "    }\n",
       "\n",
       "    .dataframe thead th {\n",
       "        text-align: right;\n",
       "    }\n",
       "</style>\n",
       "<table border=\"1\" class=\"dataframe\">\n",
       "  <thead>\n",
       "    <tr style=\"text-align: right;\">\n",
       "      <th></th>\n",
       "      <th>episode</th>\n",
       "      <th>speakers</th>\n",
       "      <th>emotions</th>\n",
       "      <th>utterances</th>\n",
       "      <th>triggers</th>\n",
       "    </tr>\n",
       "  </thead>\n",
       "  <tbody>\n",
       "    <tr>\n",
       "      <th>count</th>\n",
       "      <td>4000</td>\n",
       "      <td>4000</td>\n",
       "      <td>4000</td>\n",
       "      <td>4000</td>\n",
       "      <td>4000</td>\n",
       "    </tr>\n",
       "    <tr>\n",
       "      <th>unique</th>\n",
       "      <td>4000</td>\n",
       "      <td>3350</td>\n",
       "      <td>3427</td>\n",
       "      <td>3998</td>\n",
       "      <td>523</td>\n",
       "    </tr>\n",
       "    <tr>\n",
       "      <th>top</th>\n",
       "      <td>utterance_0</td>\n",
       "      <td>[Monica, Chandler, Monica]</td>\n",
       "      <td>[neutral, neutral, joy]</td>\n",
       "      <td>[Happy?! Is that what I'm supposed to be Vic? ...</td>\n",
       "      <td>[0.0, 1.0, 0.0]</td>\n",
       "    </tr>\n",
       "    <tr>\n",
       "      <th>freq</th>\n",
       "      <td>1</td>\n",
       "      <td>15</td>\n",
       "      <td>30</td>\n",
       "      <td>2</td>\n",
       "      <td>191</td>\n",
       "    </tr>\n",
       "  </tbody>\n",
       "</table>\n",
       "</div>"
      ],
      "text/plain": [
       "            episode                    speakers                 emotions  \\\n",
       "count          4000                        4000                     4000   \n",
       "unique         4000                        3350                     3427   \n",
       "top     utterance_0  [Monica, Chandler, Monica]  [neutral, neutral, joy]   \n",
       "freq              1                          15                       30   \n",
       "\n",
       "                                               utterances         triggers  \n",
       "count                                                4000             4000  \n",
       "unique                                               3998              523  \n",
       "top     [Happy?! Is that what I'm supposed to be Vic? ...  [0.0, 1.0, 0.0]  \n",
       "freq                                                    2              191  "
      ]
     },
     "execution_count": 22,
     "metadata": {},
     "output_type": "execute_result"
    }
   ],
   "source": [
    "df.describe()"
   ]
  },
  {
   "cell_type": "code",
   "execution_count": 10,
   "metadata": {},
   "outputs": [
    {
     "name": "stdout",
     "output_type": "stream",
     "text": [
      "[0, 0, 0, 1, 0]\n",
      "[0, 0, 0, 0, 0, 1, 0]\n",
      "[0, 0, 0, 0, 0, 0, 0, 1, 0, 1, 0]\n",
      "[0, 0, 0, 0, 0, 0, 0, 0, 0, 0, 0, 1, 0]\n"
     ]
    }
   ],
   "source": [
    "print(df[\"triggers\"][0])\n",
    "print(df[\"triggers\"][1])\n",
    "print(df[\"triggers\"][2])\n",
    "print(df[\"triggers\"][3])"
   ]
  },
  {
   "cell_type": "code",
   "execution_count": 6,
   "metadata": {},
   "outputs": [
    {
     "name": "stdout",
     "output_type": "stream",
     "text": [
      "['neutral', 'neutral', 'neutral', 'neutral', 'surprise']\n",
      "['neutral', 'neutral', 'neutral', 'neutral', 'surprise', 'neutral', 'neutral']\n",
      "['neutral', 'neutral', 'neutral', 'neutral', 'surprise', 'neutral', 'neutral', 'neutral', 'neutral', 'neutral', 'fear']\n",
      "['neutral', 'neutral', 'neutral', 'neutral', 'surprise', 'neutral', 'neutral', 'neutral', 'neutral', 'neutral', 'fear', 'neutral', 'surprise']\n"
     ]
    }
   ],
   "source": [
    "print(df[\"emotions\"][0])\n",
    "print(df[\"emotions\"][1])\n",
    "print(df[\"emotions\"][2])\n",
    "print(df[\"emotions\"][3])"
   ]
  },
  {
   "cell_type": "code",
   "execution_count": 9,
   "metadata": {},
   "outputs": [],
   "source": [
    "### Cleanup\n",
    "df[\"triggers\"] = df[\"triggers\"].apply(lambda s: [0 if e is None else int(e) for e in s])"
   ]
  },
  {
   "cell_type": "code",
   "execution_count": null,
   "metadata": {},
   "outputs": [],
   "source": [
    "df[\"triggers\"] = df[\"triggers\"].apply(lambda x: [int(s) for s in x])"
   ]
  },
  {
   "cell_type": "code",
   "execution_count": 28,
   "metadata": {},
   "outputs": [],
   "source": [
    "df_train, df_test = train_test_split(df, test_size=0.2, train_size=0.8)\n",
    "df_val, df_test = train_test_split(df_test, test_size=0.5, train_size=0.5)"
   ]
  },
  {
   "cell_type": "code",
   "execution_count": 31,
   "metadata": {},
   "outputs": [
    {
     "data": {
      "text/html": [
       "<div>\n",
       "<style scoped>\n",
       "    .dataframe tbody tr th:only-of-type {\n",
       "        vertical-align: middle;\n",
       "    }\n",
       "\n",
       "    .dataframe tbody tr th {\n",
       "        vertical-align: top;\n",
       "    }\n",
       "\n",
       "    .dataframe thead th {\n",
       "        text-align: right;\n",
       "    }\n",
       "</style>\n",
       "<table border=\"1\" class=\"dataframe\">\n",
       "  <thead>\n",
       "    <tr style=\"text-align: right;\">\n",
       "      <th></th>\n",
       "      <th>episode</th>\n",
       "      <th>speakers</th>\n",
       "      <th>emotions</th>\n",
       "      <th>utterances</th>\n",
       "      <th>triggers</th>\n",
       "    </tr>\n",
       "  </thead>\n",
       "  <tbody>\n",
       "    <tr>\n",
       "      <th>1058</th>\n",
       "      <td>utterance_1058</td>\n",
       "      <td>[Joey, Chandler, Joey, Joey, Chandler, Joey, J...</td>\n",
       "      <td>[neutral, sadness, anger, neutral, anger, neut...</td>\n",
       "      <td>[Actually, tomorrow night kinda depends on how...</td>\n",
       "      <td>[0.0, 0.0, 0.0, 0.0, 0.0, 0.0, 1.0, 0.0]</td>\n",
       "    </tr>\n",
       "    <tr>\n",
       "      <th>3830</th>\n",
       "      <td>utterance_3830</td>\n",
       "      <td>[Monica, Chandler, Monica, Chandler, The Museu...</td>\n",
       "      <td>[neutral, neutral, joy, anger, neutral, surpri...</td>\n",
       "      <td>[Hi, honey., See you later., What? I-I bought ...</td>\n",
       "      <td>[0.0, 0.0, 0.0, 0.0, 0.0, 0.0, 1.0, 0.0, 0.0]</td>\n",
       "    </tr>\n",
       "    <tr>\n",
       "      <th>2824</th>\n",
       "      <td>utterance_2824</td>\n",
       "      <td>[Carol, Ross, Carol]</td>\n",
       "      <td>[neutral, neutral, joy]</td>\n",
       "      <td>[Looks like it., Y'know, if, if this is too we...</td>\n",
       "      <td>[1.0, 1.0, 1.0]</td>\n",
       "    </tr>\n",
       "    <tr>\n",
       "      <th>3130</th>\n",
       "      <td>utterance_3130</td>\n",
       "      <td>[Rachel, Rachel, Rachel, Rachel, Ross, Ross, R...</td>\n",
       "      <td>[anger, anger, neutral, anger, anger, anger, s...</td>\n",
       "      <td>[Ross do you realise this is the first time in...</td>\n",
       "      <td>[0.0, 0.0, 0.0, 1.0, 0.0, 1.0, 1.0]</td>\n",
       "    </tr>\n",
       "    <tr>\n",
       "      <th>3165</th>\n",
       "      <td>utterance_3165</td>\n",
       "      <td>[Ursula, Phoebe, Phoebe, Ursula, Phoebe, Ursul...</td>\n",
       "      <td>[anger, anger, neutral, neutral, joy, neutral,...</td>\n",
       "      <td>[No I'm not., You're making one right now!, An...</td>\n",
       "      <td>[0.0, 0.0, 0.0, 0.0, 0.0, 1.0, 0.0, 1.0, 0.0, ...</td>\n",
       "    </tr>\n",
       "  </tbody>\n",
       "</table>\n",
       "</div>"
      ],
      "text/plain": [
       "             episode                                           speakers  \\\n",
       "1058  utterance_1058  [Joey, Chandler, Joey, Joey, Chandler, Joey, J...   \n",
       "3830  utterance_3830  [Monica, Chandler, Monica, Chandler, The Museu...   \n",
       "2824  utterance_2824                               [Carol, Ross, Carol]   \n",
       "3130  utterance_3130  [Rachel, Rachel, Rachel, Rachel, Ross, Ross, R...   \n",
       "3165  utterance_3165  [Ursula, Phoebe, Phoebe, Ursula, Phoebe, Ursul...   \n",
       "\n",
       "                                               emotions  \\\n",
       "1058  [neutral, sadness, anger, neutral, anger, neut...   \n",
       "3830  [neutral, neutral, joy, anger, neutral, surpri...   \n",
       "2824                            [neutral, neutral, joy]   \n",
       "3130  [anger, anger, neutral, anger, anger, anger, s...   \n",
       "3165  [anger, anger, neutral, neutral, joy, neutral,...   \n",
       "\n",
       "                                             utterances  \\\n",
       "1058  [Actually, tomorrow night kinda depends on how...   \n",
       "3830  [Hi, honey., See you later., What? I-I bought ...   \n",
       "2824  [Looks like it., Y'know, if, if this is too we...   \n",
       "3130  [Ross do you realise this is the first time in...   \n",
       "3165  [No I'm not., You're making one right now!, An...   \n",
       "\n",
       "                                               triggers  \n",
       "1058           [0.0, 0.0, 0.0, 0.0, 0.0, 0.0, 1.0, 0.0]  \n",
       "3830      [0.0, 0.0, 0.0, 0.0, 0.0, 0.0, 1.0, 0.0, 0.0]  \n",
       "2824                                    [1.0, 1.0, 1.0]  \n",
       "3130                [0.0, 0.0, 0.0, 1.0, 0.0, 1.0, 1.0]  \n",
       "3165  [0.0, 0.0, 0.0, 0.0, 0.0, 1.0, 0.0, 1.0, 0.0, ...  "
      ]
     },
     "execution_count": 31,
     "metadata": {},
     "output_type": "execute_result"
    }
   ],
   "source": [
    "df_test.head()"
   ]
  },
  {
   "cell_type": "code",
   "execution_count": 27,
   "metadata": {},
   "outputs": [
    {
     "name": "stdout",
     "output_type": "stream",
     "text": [
      "832\n"
     ]
    }
   ],
   "source": [
    "res = []\n",
    "cou = 0\n",
    "for i in range(1, len(df[\"utterances\"])):\n",
    "    if df[\"utterances\"][i][0] != df[\"utterances\"][i - 1][0]:\n",
    "        cou += 1\n",
    "\n",
    "print(cou)"
   ]
  }
 ],
 "metadata": {
  "kernelspec": {
   "display_name": ".venv",
   "language": "python",
   "name": "python3"
  },
  "language_info": {
   "codemirror_mode": {
    "name": "ipython",
    "version": 3
   },
   "file_extension": ".py",
   "mimetype": "text/x-python",
   "name": "python",
   "nbconvert_exporter": "python",
   "pygments_lexer": "ipython3",
   "version": "3.8.10"
  }
 },
 "nbformat": 4,
 "nbformat_minor": 2
}
